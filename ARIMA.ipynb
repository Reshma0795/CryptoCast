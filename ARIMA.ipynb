{
  "cells": [
    {
      "cell_type": "markdown",
      "metadata": {
        "id": "Mawb-cSCJFv7"
      },
      "source": [
        "# Loading the libraries"
      ],
      "id": "Mawb-cSCJFv7"
    },
    {
      "cell_type": "code",
      "execution_count": 80,
      "metadata": {
        "id": "8QyxipXHJDOa"
      },
      "outputs": [],
      "source": [
        "\n",
        "import pandas as pd\n",
        "from matplotlib import pyplot\n",
        "from sklearn.metrics import mean_absolute_error\n",
        "from sklearn.metrics import accuracy_score\n",
        "import warnings\n",
        "warnings.filterwarnings(\"ignore\")"
      ],
      "id": "8QyxipXHJDOa"
    },
    {
      "cell_type": "markdown",
      "metadata": {
        "id": "ZoFfl7OKIw2u"
      },
      "source": [
        "#Loading the Dataset"
      ],
      "id": "ZoFfl7OKIw2u"
    },
    {
      "cell_type": "code",
      "execution_count": 81,
      "metadata": {
        "colab": {
          "base_uri": "https://localhost:8080/"
        },
        "id": "e2958880",
        "outputId": "1a9a7f7b-090e-4a22-8b0d-b7395138cc66"
      },
      "outputs": [
        {
          "output_type": "execute_result",
          "data": {
            "text/plain": [
              "(11900, 30)"
            ]
          },
          "metadata": {},
          "execution_count": 81
        }
      ],
      "source": [
        "big_df = pd.read_csv(\"/content/all_data_historic.csv\", header=0)\n",
        "big_df.shape"
      ],
      "id": "e2958880"
    },
    {
      "cell_type": "code",
      "execution_count": 82,
      "metadata": {
        "id": "119e405c"
      },
      "outputs": [],
      "source": [
        "big_df.drop(['polarity', 'subjectivity'], axis=1, inplace=True)"
      ],
      "id": "119e405c"
    },
    {
      "cell_type": "code",
      "execution_count": 83,
      "metadata": {
        "colab": {
          "base_uri": "https://localhost:8080/"
        },
        "id": "f4ba5b2a",
        "outputId": "cd885840-23ff-4871-ef84-0562ad6cacbc"
      },
      "outputs": [
        {
          "output_type": "execute_result",
          "data": {
            "text/plain": [
              "(1190, 3)"
            ]
          },
          "metadata": {},
          "execution_count": 83
        }
      ],
      "source": [
        "df = pd.read_csv(\"/content/sentiment.csv\", header=0)\n",
        "df.shape"
      ],
      "id": "f4ba5b2a"
    },
    {
      "cell_type": "markdown",
      "metadata": {
        "id": "8MFS1GoDKXZe"
      },
      "source": [
        "# Analysing the  Dataset"
      ],
      "id": "8MFS1GoDKXZe"
    },
    {
      "cell_type": "code",
      "execution_count": 84,
      "metadata": {
        "colab": {
          "base_uri": "https://localhost:8080/",
          "height": 424
        },
        "id": "022ac96b",
        "outputId": "525b0598-c185-4a49-dae9-759d56c6840a"
      },
      "outputs": [
        {
          "output_type": "execute_result",
          "data": {
            "text/plain": [
              "           Date  polarity  subjectivity\n",
              "0      1/7/2019  0.211240      0.341574\n",
              "1      2/7/2019  0.246338      0.319595\n",
              "2      3/7/2019  0.181414      0.066015\n",
              "3      4/7/2019  0.163393      0.218119\n",
              "4      5/7/2019  0.050206      0.075301\n",
              "...         ...       ...           ...\n",
              "1185  28/9/2022  0.087345      0.416711\n",
              "1186  29/9/2022  0.072305      0.430498\n",
              "1187  30/9/2022  0.071084      0.427040\n",
              "1188  1/10/2022  0.065221      0.423666\n",
              "1189  2/10/2022  0.063805      0.439129\n",
              "\n",
              "[1190 rows x 3 columns]"
            ],
            "text/html": [
              "\n",
              "  <div id=\"df-d446cff6-1061-4e7b-b0bc-ff411920df5b\">\n",
              "    <div class=\"colab-df-container\">\n",
              "      <div>\n",
              "<style scoped>\n",
              "    .dataframe tbody tr th:only-of-type {\n",
              "        vertical-align: middle;\n",
              "    }\n",
              "\n",
              "    .dataframe tbody tr th {\n",
              "        vertical-align: top;\n",
              "    }\n",
              "\n",
              "    .dataframe thead th {\n",
              "        text-align: right;\n",
              "    }\n",
              "</style>\n",
              "<table border=\"1\" class=\"dataframe\">\n",
              "  <thead>\n",
              "    <tr style=\"text-align: right;\">\n",
              "      <th></th>\n",
              "      <th>Date</th>\n",
              "      <th>polarity</th>\n",
              "      <th>subjectivity</th>\n",
              "    </tr>\n",
              "  </thead>\n",
              "  <tbody>\n",
              "    <tr>\n",
              "      <th>0</th>\n",
              "      <td>1/7/2019</td>\n",
              "      <td>0.211240</td>\n",
              "      <td>0.341574</td>\n",
              "    </tr>\n",
              "    <tr>\n",
              "      <th>1</th>\n",
              "      <td>2/7/2019</td>\n",
              "      <td>0.246338</td>\n",
              "      <td>0.319595</td>\n",
              "    </tr>\n",
              "    <tr>\n",
              "      <th>2</th>\n",
              "      <td>3/7/2019</td>\n",
              "      <td>0.181414</td>\n",
              "      <td>0.066015</td>\n",
              "    </tr>\n",
              "    <tr>\n",
              "      <th>3</th>\n",
              "      <td>4/7/2019</td>\n",
              "      <td>0.163393</td>\n",
              "      <td>0.218119</td>\n",
              "    </tr>\n",
              "    <tr>\n",
              "      <th>4</th>\n",
              "      <td>5/7/2019</td>\n",
              "      <td>0.050206</td>\n",
              "      <td>0.075301</td>\n",
              "    </tr>\n",
              "    <tr>\n",
              "      <th>...</th>\n",
              "      <td>...</td>\n",
              "      <td>...</td>\n",
              "      <td>...</td>\n",
              "    </tr>\n",
              "    <tr>\n",
              "      <th>1185</th>\n",
              "      <td>28/9/2022</td>\n",
              "      <td>0.087345</td>\n",
              "      <td>0.416711</td>\n",
              "    </tr>\n",
              "    <tr>\n",
              "      <th>1186</th>\n",
              "      <td>29/9/2022</td>\n",
              "      <td>0.072305</td>\n",
              "      <td>0.430498</td>\n",
              "    </tr>\n",
              "    <tr>\n",
              "      <th>1187</th>\n",
              "      <td>30/9/2022</td>\n",
              "      <td>0.071084</td>\n",
              "      <td>0.427040</td>\n",
              "    </tr>\n",
              "    <tr>\n",
              "      <th>1188</th>\n",
              "      <td>1/10/2022</td>\n",
              "      <td>0.065221</td>\n",
              "      <td>0.423666</td>\n",
              "    </tr>\n",
              "    <tr>\n",
              "      <th>1189</th>\n",
              "      <td>2/10/2022</td>\n",
              "      <td>0.063805</td>\n",
              "      <td>0.439129</td>\n",
              "    </tr>\n",
              "  </tbody>\n",
              "</table>\n",
              "<p>1190 rows × 3 columns</p>\n",
              "</div>\n",
              "      <button class=\"colab-df-convert\" onclick=\"convertToInteractive('df-d446cff6-1061-4e7b-b0bc-ff411920df5b')\"\n",
              "              title=\"Convert this dataframe to an interactive table.\"\n",
              "              style=\"display:none;\">\n",
              "        \n",
              "  <svg xmlns=\"http://www.w3.org/2000/svg\" height=\"24px\"viewBox=\"0 0 24 24\"\n",
              "       width=\"24px\">\n",
              "    <path d=\"M0 0h24v24H0V0z\" fill=\"none\"/>\n",
              "    <path d=\"M18.56 5.44l.94 2.06.94-2.06 2.06-.94-2.06-.94-.94-2.06-.94 2.06-2.06.94zm-11 1L8.5 8.5l.94-2.06 2.06-.94-2.06-.94L8.5 2.5l-.94 2.06-2.06.94zm10 10l.94 2.06.94-2.06 2.06-.94-2.06-.94-.94-2.06-.94 2.06-2.06.94z\"/><path d=\"M17.41 7.96l-1.37-1.37c-.4-.4-.92-.59-1.43-.59-.52 0-1.04.2-1.43.59L10.3 9.45l-7.72 7.72c-.78.78-.78 2.05 0 2.83L4 21.41c.39.39.9.59 1.41.59.51 0 1.02-.2 1.41-.59l7.78-7.78 2.81-2.81c.8-.78.8-2.07 0-2.86zM5.41 20L4 18.59l7.72-7.72 1.47 1.35L5.41 20z\"/>\n",
              "  </svg>\n",
              "      </button>\n",
              "      \n",
              "  <style>\n",
              "    .colab-df-container {\n",
              "      display:flex;\n",
              "      flex-wrap:wrap;\n",
              "      gap: 12px;\n",
              "    }\n",
              "\n",
              "    .colab-df-convert {\n",
              "      background-color: #E8F0FE;\n",
              "      border: none;\n",
              "      border-radius: 50%;\n",
              "      cursor: pointer;\n",
              "      display: none;\n",
              "      fill: #1967D2;\n",
              "      height: 32px;\n",
              "      padding: 0 0 0 0;\n",
              "      width: 32px;\n",
              "    }\n",
              "\n",
              "    .colab-df-convert:hover {\n",
              "      background-color: #E2EBFA;\n",
              "      box-shadow: 0px 1px 2px rgba(60, 64, 67, 0.3), 0px 1px 3px 1px rgba(60, 64, 67, 0.15);\n",
              "      fill: #174EA6;\n",
              "    }\n",
              "\n",
              "    [theme=dark] .colab-df-convert {\n",
              "      background-color: #3B4455;\n",
              "      fill: #D2E3FC;\n",
              "    }\n",
              "\n",
              "    [theme=dark] .colab-df-convert:hover {\n",
              "      background-color: #434B5C;\n",
              "      box-shadow: 0px 1px 3px 1px rgba(0, 0, 0, 0.15);\n",
              "      filter: drop-shadow(0px 1px 2px rgba(0, 0, 0, 0.3));\n",
              "      fill: #FFFFFF;\n",
              "    }\n",
              "  </style>\n",
              "\n",
              "      <script>\n",
              "        const buttonEl =\n",
              "          document.querySelector('#df-d446cff6-1061-4e7b-b0bc-ff411920df5b button.colab-df-convert');\n",
              "        buttonEl.style.display =\n",
              "          google.colab.kernel.accessAllowed ? 'block' : 'none';\n",
              "\n",
              "        async function convertToInteractive(key) {\n",
              "          const element = document.querySelector('#df-d446cff6-1061-4e7b-b0bc-ff411920df5b');\n",
              "          const dataTable =\n",
              "            await google.colab.kernel.invokeFunction('convertToInteractive',\n",
              "                                                     [key], {});\n",
              "          if (!dataTable) return;\n",
              "\n",
              "          const docLinkHtml = 'Like what you see? Visit the ' +\n",
              "            '<a target=\"_blank\" href=https://colab.research.google.com/notebooks/data_table.ipynb>data table notebook</a>'\n",
              "            + ' to learn more about interactive tables.';\n",
              "          element.innerHTML = '';\n",
              "          dataTable['output_type'] = 'display_data';\n",
              "          await google.colab.output.renderOutput(dataTable, element);\n",
              "          const docLink = document.createElement('div');\n",
              "          docLink.innerHTML = docLinkHtml;\n",
              "          element.appendChild(docLink);\n",
              "        }\n",
              "      </script>\n",
              "    </div>\n",
              "  </div>\n",
              "  "
            ]
          },
          "metadata": {},
          "execution_count": 84
        }
      ],
      "source": [
        "df"
      ],
      "id": "022ac96b"
    },
    {
      "cell_type": "code",
      "execution_count": 85,
      "metadata": {
        "id": "a0c3d679"
      },
      "outputs": [],
      "source": [
        "concat_df = pd.concat([df, df, df, df, df, df, df, df, df, df], axis=0)"
      ],
      "id": "a0c3d679"
    },
    {
      "cell_type": "code",
      "execution_count": 86,
      "metadata": {
        "colab": {
          "base_uri": "https://localhost:8080/",
          "height": 424
        },
        "id": "511fd39d",
        "outputId": "94a7cdb1-94c6-45d2-e014-3eea243078ff"
      },
      "outputs": [
        {
          "output_type": "execute_result",
          "data": {
            "text/plain": [
              "           Date  polarity  subjectivity\n",
              "0      1/7/2019  0.211240      0.341574\n",
              "1      2/7/2019  0.246338      0.319595\n",
              "2      3/7/2019  0.181414      0.066015\n",
              "3      4/7/2019  0.163393      0.218119\n",
              "4      5/7/2019  0.050206      0.075301\n",
              "...         ...       ...           ...\n",
              "1185  28/9/2022  0.087345      0.416711\n",
              "1186  29/9/2022  0.072305      0.430498\n",
              "1187  30/9/2022  0.071084      0.427040\n",
              "1188  1/10/2022  0.065221      0.423666\n",
              "1189  2/10/2022  0.063805      0.439129\n",
              "\n",
              "[11900 rows x 3 columns]"
            ],
            "text/html": [
              "\n",
              "  <div id=\"df-499c59f8-767a-4647-a060-ff7588105242\">\n",
              "    <div class=\"colab-df-container\">\n",
              "      <div>\n",
              "<style scoped>\n",
              "    .dataframe tbody tr th:only-of-type {\n",
              "        vertical-align: middle;\n",
              "    }\n",
              "\n",
              "    .dataframe tbody tr th {\n",
              "        vertical-align: top;\n",
              "    }\n",
              "\n",
              "    .dataframe thead th {\n",
              "        text-align: right;\n",
              "    }\n",
              "</style>\n",
              "<table border=\"1\" class=\"dataframe\">\n",
              "  <thead>\n",
              "    <tr style=\"text-align: right;\">\n",
              "      <th></th>\n",
              "      <th>Date</th>\n",
              "      <th>polarity</th>\n",
              "      <th>subjectivity</th>\n",
              "    </tr>\n",
              "  </thead>\n",
              "  <tbody>\n",
              "    <tr>\n",
              "      <th>0</th>\n",
              "      <td>1/7/2019</td>\n",
              "      <td>0.211240</td>\n",
              "      <td>0.341574</td>\n",
              "    </tr>\n",
              "    <tr>\n",
              "      <th>1</th>\n",
              "      <td>2/7/2019</td>\n",
              "      <td>0.246338</td>\n",
              "      <td>0.319595</td>\n",
              "    </tr>\n",
              "    <tr>\n",
              "      <th>2</th>\n",
              "      <td>3/7/2019</td>\n",
              "      <td>0.181414</td>\n",
              "      <td>0.066015</td>\n",
              "    </tr>\n",
              "    <tr>\n",
              "      <th>3</th>\n",
              "      <td>4/7/2019</td>\n",
              "      <td>0.163393</td>\n",
              "      <td>0.218119</td>\n",
              "    </tr>\n",
              "    <tr>\n",
              "      <th>4</th>\n",
              "      <td>5/7/2019</td>\n",
              "      <td>0.050206</td>\n",
              "      <td>0.075301</td>\n",
              "    </tr>\n",
              "    <tr>\n",
              "      <th>...</th>\n",
              "      <td>...</td>\n",
              "      <td>...</td>\n",
              "      <td>...</td>\n",
              "    </tr>\n",
              "    <tr>\n",
              "      <th>1185</th>\n",
              "      <td>28/9/2022</td>\n",
              "      <td>0.087345</td>\n",
              "      <td>0.416711</td>\n",
              "    </tr>\n",
              "    <tr>\n",
              "      <th>1186</th>\n",
              "      <td>29/9/2022</td>\n",
              "      <td>0.072305</td>\n",
              "      <td>0.430498</td>\n",
              "    </tr>\n",
              "    <tr>\n",
              "      <th>1187</th>\n",
              "      <td>30/9/2022</td>\n",
              "      <td>0.071084</td>\n",
              "      <td>0.427040</td>\n",
              "    </tr>\n",
              "    <tr>\n",
              "      <th>1188</th>\n",
              "      <td>1/10/2022</td>\n",
              "      <td>0.065221</td>\n",
              "      <td>0.423666</td>\n",
              "    </tr>\n",
              "    <tr>\n",
              "      <th>1189</th>\n",
              "      <td>2/10/2022</td>\n",
              "      <td>0.063805</td>\n",
              "      <td>0.439129</td>\n",
              "    </tr>\n",
              "  </tbody>\n",
              "</table>\n",
              "<p>11900 rows × 3 columns</p>\n",
              "</div>\n",
              "      <button class=\"colab-df-convert\" onclick=\"convertToInteractive('df-499c59f8-767a-4647-a060-ff7588105242')\"\n",
              "              title=\"Convert this dataframe to an interactive table.\"\n",
              "              style=\"display:none;\">\n",
              "        \n",
              "  <svg xmlns=\"http://www.w3.org/2000/svg\" height=\"24px\"viewBox=\"0 0 24 24\"\n",
              "       width=\"24px\">\n",
              "    <path d=\"M0 0h24v24H0V0z\" fill=\"none\"/>\n",
              "    <path d=\"M18.56 5.44l.94 2.06.94-2.06 2.06-.94-2.06-.94-.94-2.06-.94 2.06-2.06.94zm-11 1L8.5 8.5l.94-2.06 2.06-.94-2.06-.94L8.5 2.5l-.94 2.06-2.06.94zm10 10l.94 2.06.94-2.06 2.06-.94-2.06-.94-.94-2.06-.94 2.06-2.06.94z\"/><path d=\"M17.41 7.96l-1.37-1.37c-.4-.4-.92-.59-1.43-.59-.52 0-1.04.2-1.43.59L10.3 9.45l-7.72 7.72c-.78.78-.78 2.05 0 2.83L4 21.41c.39.39.9.59 1.41.59.51 0 1.02-.2 1.41-.59l7.78-7.78 2.81-2.81c.8-.78.8-2.07 0-2.86zM5.41 20L4 18.59l7.72-7.72 1.47 1.35L5.41 20z\"/>\n",
              "  </svg>\n",
              "      </button>\n",
              "      \n",
              "  <style>\n",
              "    .colab-df-container {\n",
              "      display:flex;\n",
              "      flex-wrap:wrap;\n",
              "      gap: 12px;\n",
              "    }\n",
              "\n",
              "    .colab-df-convert {\n",
              "      background-color: #E8F0FE;\n",
              "      border: none;\n",
              "      border-radius: 50%;\n",
              "      cursor: pointer;\n",
              "      display: none;\n",
              "      fill: #1967D2;\n",
              "      height: 32px;\n",
              "      padding: 0 0 0 0;\n",
              "      width: 32px;\n",
              "    }\n",
              "\n",
              "    .colab-df-convert:hover {\n",
              "      background-color: #E2EBFA;\n",
              "      box-shadow: 0px 1px 2px rgba(60, 64, 67, 0.3), 0px 1px 3px 1px rgba(60, 64, 67, 0.15);\n",
              "      fill: #174EA6;\n",
              "    }\n",
              "\n",
              "    [theme=dark] .colab-df-convert {\n",
              "      background-color: #3B4455;\n",
              "      fill: #D2E3FC;\n",
              "    }\n",
              "\n",
              "    [theme=dark] .colab-df-convert:hover {\n",
              "      background-color: #434B5C;\n",
              "      box-shadow: 0px 1px 3px 1px rgba(0, 0, 0, 0.15);\n",
              "      filter: drop-shadow(0px 1px 2px rgba(0, 0, 0, 0.3));\n",
              "      fill: #FFFFFF;\n",
              "    }\n",
              "  </style>\n",
              "\n",
              "      <script>\n",
              "        const buttonEl =\n",
              "          document.querySelector('#df-499c59f8-767a-4647-a060-ff7588105242 button.colab-df-convert');\n",
              "        buttonEl.style.display =\n",
              "          google.colab.kernel.accessAllowed ? 'block' : 'none';\n",
              "\n",
              "        async function convertToInteractive(key) {\n",
              "          const element = document.querySelector('#df-499c59f8-767a-4647-a060-ff7588105242');\n",
              "          const dataTable =\n",
              "            await google.colab.kernel.invokeFunction('convertToInteractive',\n",
              "                                                     [key], {});\n",
              "          if (!dataTable) return;\n",
              "\n",
              "          const docLinkHtml = 'Like what you see? Visit the ' +\n",
              "            '<a target=\"_blank\" href=https://colab.research.google.com/notebooks/data_table.ipynb>data table notebook</a>'\n",
              "            + ' to learn more about interactive tables.';\n",
              "          element.innerHTML = '';\n",
              "          dataTable['output_type'] = 'display_data';\n",
              "          await google.colab.output.renderOutput(dataTable, element);\n",
              "          const docLink = document.createElement('div');\n",
              "          docLink.innerHTML = docLinkHtml;\n",
              "          element.appendChild(docLink);\n",
              "        }\n",
              "      </script>\n",
              "    </div>\n",
              "  </div>\n",
              "  "
            ]
          },
          "metadata": {},
          "execution_count": 86
        }
      ],
      "source": [
        "concat_df"
      ],
      "id": "511fd39d"
    },
    {
      "cell_type": "markdown",
      "metadata": {
        "id": "aeWbodOsLR9l"
      },
      "source": [
        "## Dropping Certain columns"
      ],
      "id": "aeWbodOsLR9l"
    },
    {
      "cell_type": "code",
      "execution_count": 87,
      "metadata": {
        "id": "a0860dad"
      },
      "outputs": [],
      "source": [
        "concat_df.drop(['Date'], axis=1, inplace=True)"
      ],
      "id": "a0860dad"
    },
    {
      "cell_type": "code",
      "execution_count": 88,
      "metadata": {
        "id": "66bcee1f"
      },
      "outputs": [],
      "source": [
        "concat_df = concat_df.reset_index()"
      ],
      "id": "66bcee1f"
    },
    {
      "cell_type": "code",
      "execution_count": 89,
      "metadata": {
        "id": "5bc09815"
      },
      "outputs": [],
      "source": [
        "concat_df.drop(['index'], axis=1, inplace=True)"
      ],
      "id": "5bc09815"
    },
    {
      "cell_type": "code",
      "execution_count": 90,
      "metadata": {
        "colab": {
          "base_uri": "https://localhost:8080/",
          "height": 424
        },
        "id": "cb9dbb79",
        "outputId": "6575827c-583d-4316-b462-394bf137706f"
      },
      "outputs": [
        {
          "output_type": "execute_result",
          "data": {
            "text/plain": [
              "       polarity  subjectivity\n",
              "0      0.211240      0.341574\n",
              "1      0.246338      0.319595\n",
              "2      0.181414      0.066015\n",
              "3      0.163393      0.218119\n",
              "4      0.050206      0.075301\n",
              "...         ...           ...\n",
              "11895  0.087345      0.416711\n",
              "11896  0.072305      0.430498\n",
              "11897  0.071084      0.427040\n",
              "11898  0.065221      0.423666\n",
              "11899  0.063805      0.439129\n",
              "\n",
              "[11900 rows x 2 columns]"
            ],
            "text/html": [
              "\n",
              "  <div id=\"df-79f0ade9-a92f-4364-b5ac-8385e3abf0fb\">\n",
              "    <div class=\"colab-df-container\">\n",
              "      <div>\n",
              "<style scoped>\n",
              "    .dataframe tbody tr th:only-of-type {\n",
              "        vertical-align: middle;\n",
              "    }\n",
              "\n",
              "    .dataframe tbody tr th {\n",
              "        vertical-align: top;\n",
              "    }\n",
              "\n",
              "    .dataframe thead th {\n",
              "        text-align: right;\n",
              "    }\n",
              "</style>\n",
              "<table border=\"1\" class=\"dataframe\">\n",
              "  <thead>\n",
              "    <tr style=\"text-align: right;\">\n",
              "      <th></th>\n",
              "      <th>polarity</th>\n",
              "      <th>subjectivity</th>\n",
              "    </tr>\n",
              "  </thead>\n",
              "  <tbody>\n",
              "    <tr>\n",
              "      <th>0</th>\n",
              "      <td>0.211240</td>\n",
              "      <td>0.341574</td>\n",
              "    </tr>\n",
              "    <tr>\n",
              "      <th>1</th>\n",
              "      <td>0.246338</td>\n",
              "      <td>0.319595</td>\n",
              "    </tr>\n",
              "    <tr>\n",
              "      <th>2</th>\n",
              "      <td>0.181414</td>\n",
              "      <td>0.066015</td>\n",
              "    </tr>\n",
              "    <tr>\n",
              "      <th>3</th>\n",
              "      <td>0.163393</td>\n",
              "      <td>0.218119</td>\n",
              "    </tr>\n",
              "    <tr>\n",
              "      <th>4</th>\n",
              "      <td>0.050206</td>\n",
              "      <td>0.075301</td>\n",
              "    </tr>\n",
              "    <tr>\n",
              "      <th>...</th>\n",
              "      <td>...</td>\n",
              "      <td>...</td>\n",
              "    </tr>\n",
              "    <tr>\n",
              "      <th>11895</th>\n",
              "      <td>0.087345</td>\n",
              "      <td>0.416711</td>\n",
              "    </tr>\n",
              "    <tr>\n",
              "      <th>11896</th>\n",
              "      <td>0.072305</td>\n",
              "      <td>0.430498</td>\n",
              "    </tr>\n",
              "    <tr>\n",
              "      <th>11897</th>\n",
              "      <td>0.071084</td>\n",
              "      <td>0.427040</td>\n",
              "    </tr>\n",
              "    <tr>\n",
              "      <th>11898</th>\n",
              "      <td>0.065221</td>\n",
              "      <td>0.423666</td>\n",
              "    </tr>\n",
              "    <tr>\n",
              "      <th>11899</th>\n",
              "      <td>0.063805</td>\n",
              "      <td>0.439129</td>\n",
              "    </tr>\n",
              "  </tbody>\n",
              "</table>\n",
              "<p>11900 rows × 2 columns</p>\n",
              "</div>\n",
              "      <button class=\"colab-df-convert\" onclick=\"convertToInteractive('df-79f0ade9-a92f-4364-b5ac-8385e3abf0fb')\"\n",
              "              title=\"Convert this dataframe to an interactive table.\"\n",
              "              style=\"display:none;\">\n",
              "        \n",
              "  <svg xmlns=\"http://www.w3.org/2000/svg\" height=\"24px\"viewBox=\"0 0 24 24\"\n",
              "       width=\"24px\">\n",
              "    <path d=\"M0 0h24v24H0V0z\" fill=\"none\"/>\n",
              "    <path d=\"M18.56 5.44l.94 2.06.94-2.06 2.06-.94-2.06-.94-.94-2.06-.94 2.06-2.06.94zm-11 1L8.5 8.5l.94-2.06 2.06-.94-2.06-.94L8.5 2.5l-.94 2.06-2.06.94zm10 10l.94 2.06.94-2.06 2.06-.94-2.06-.94-.94-2.06-.94 2.06-2.06.94z\"/><path d=\"M17.41 7.96l-1.37-1.37c-.4-.4-.92-.59-1.43-.59-.52 0-1.04.2-1.43.59L10.3 9.45l-7.72 7.72c-.78.78-.78 2.05 0 2.83L4 21.41c.39.39.9.59 1.41.59.51 0 1.02-.2 1.41-.59l7.78-7.78 2.81-2.81c.8-.78.8-2.07 0-2.86zM5.41 20L4 18.59l7.72-7.72 1.47 1.35L5.41 20z\"/>\n",
              "  </svg>\n",
              "      </button>\n",
              "      \n",
              "  <style>\n",
              "    .colab-df-container {\n",
              "      display:flex;\n",
              "      flex-wrap:wrap;\n",
              "      gap: 12px;\n",
              "    }\n",
              "\n",
              "    .colab-df-convert {\n",
              "      background-color: #E8F0FE;\n",
              "      border: none;\n",
              "      border-radius: 50%;\n",
              "      cursor: pointer;\n",
              "      display: none;\n",
              "      fill: #1967D2;\n",
              "      height: 32px;\n",
              "      padding: 0 0 0 0;\n",
              "      width: 32px;\n",
              "    }\n",
              "\n",
              "    .colab-df-convert:hover {\n",
              "      background-color: #E2EBFA;\n",
              "      box-shadow: 0px 1px 2px rgba(60, 64, 67, 0.3), 0px 1px 3px 1px rgba(60, 64, 67, 0.15);\n",
              "      fill: #174EA6;\n",
              "    }\n",
              "\n",
              "    [theme=dark] .colab-df-convert {\n",
              "      background-color: #3B4455;\n",
              "      fill: #D2E3FC;\n",
              "    }\n",
              "\n",
              "    [theme=dark] .colab-df-convert:hover {\n",
              "      background-color: #434B5C;\n",
              "      box-shadow: 0px 1px 3px 1px rgba(0, 0, 0, 0.15);\n",
              "      filter: drop-shadow(0px 1px 2px rgba(0, 0, 0, 0.3));\n",
              "      fill: #FFFFFF;\n",
              "    }\n",
              "  </style>\n",
              "\n",
              "      <script>\n",
              "        const buttonEl =\n",
              "          document.querySelector('#df-79f0ade9-a92f-4364-b5ac-8385e3abf0fb button.colab-df-convert');\n",
              "        buttonEl.style.display =\n",
              "          google.colab.kernel.accessAllowed ? 'block' : 'none';\n",
              "\n",
              "        async function convertToInteractive(key) {\n",
              "          const element = document.querySelector('#df-79f0ade9-a92f-4364-b5ac-8385e3abf0fb');\n",
              "          const dataTable =\n",
              "            await google.colab.kernel.invokeFunction('convertToInteractive',\n",
              "                                                     [key], {});\n",
              "          if (!dataTable) return;\n",
              "\n",
              "          const docLinkHtml = 'Like what you see? Visit the ' +\n",
              "            '<a target=\"_blank\" href=https://colab.research.google.com/notebooks/data_table.ipynb>data table notebook</a>'\n",
              "            + ' to learn more about interactive tables.';\n",
              "          element.innerHTML = '';\n",
              "          dataTable['output_type'] = 'display_data';\n",
              "          await google.colab.output.renderOutput(dataTable, element);\n",
              "          const docLink = document.createElement('div');\n",
              "          docLink.innerHTML = docLinkHtml;\n",
              "          element.appendChild(docLink);\n",
              "        }\n",
              "      </script>\n",
              "    </div>\n",
              "  </div>\n",
              "  "
            ]
          },
          "metadata": {},
          "execution_count": 90
        }
      ],
      "source": [
        "concat_df"
      ],
      "id": "cb9dbb79"
    },
    {
      "cell_type": "code",
      "execution_count": 91,
      "metadata": {
        "id": "73f0ba9f"
      },
      "outputs": [],
      "source": [
        "final_df = pd.concat([big_df, concat_df], axis=1)"
      ],
      "id": "73f0ba9f"
    },
    {
      "cell_type": "code",
      "execution_count": 92,
      "metadata": {
        "id": "2a248ac2"
      },
      "outputs": [],
      "source": [
        "for col in ['Close_return', 'Close_sma_3', 'Close_ema_3', 'Close_std_3',\n",
        "            'Close_sma_7','Close_ema_7', 'Close_std_7', 'Close_sma_20','Close_ema_20', \n",
        "            'Close_std_20', 'Close_mtd', 'Close_ytd', 'max_corr_coin_return', 'min_corr_coin_return']:\n",
        "    final_df[col].fillna(value=final_df[col].mean(), inplace=True)"
      ],
      "id": "2a248ac2"
    },
    {
      "cell_type": "markdown",
      "metadata": {
        "id": "jYBSBQe0L0mh"
      },
      "source": [
        "# Seeing the modified Columns"
      ],
      "id": "jYBSBQe0L0mh"
    },
    {
      "cell_type": "code",
      "execution_count": 93,
      "metadata": {
        "colab": {
          "base_uri": "https://localhost:8080/",
          "height": 505
        },
        "id": "987db138",
        "outputId": "a3f58062-9314-42ba-b350-346f0ada085e"
      },
      "outputs": [
        {
          "output_type": "execute_result",
          "data": {
            "text/plain": [
              "       Unnamed: 0       Date          Open          High           Low  \\\n",
              "0               0   1/7/2019  10796.930660  11206.439450  10089.314450   \n",
              "1               1   2/7/2019  10588.683590  10912.188480   9737.884766   \n",
              "2               2   3/7/2019  10818.156250  11968.078130  10818.156250   \n",
              "3               3   4/7/2019  11972.718750  12006.075200  11166.569340   \n",
              "4               4   5/7/2019  11203.102540  11395.661130  10874.964840   \n",
              "...           ...        ...           ...           ...           ...   \n",
              "11895        1185  28/9/2022     52.730122     53.664368     51.357903   \n",
              "11896        1186  29/9/2022     53.307693     53.956154     52.447205   \n",
              "11897        1187  30/9/2022     53.914841     54.988789     53.031113   \n",
              "11898        1188  1/10/2022     53.403042     53.709396     52.705292   \n",
              "11899        1189  2/10/2022     52.904613     53.392735     51.911167   \n",
              "\n",
              "              Close     Adj Close        Volume Coin  Close_return  ...  \\\n",
              "0      10583.134770  10583.134770  2.937859e+10  BTC      0.002897  ...   \n",
              "1      10801.677730  10801.677730  3.101590e+10  BTC      0.020650  ...   \n",
              "2      11961.269530  11961.269530  3.079649e+10  BTC      0.107353  ...   \n",
              "3      11215.437500  11215.437500  2.592029e+10  BTC     -0.062354  ...   \n",
              "4      10978.459960  10978.459960  2.383848e+10  BTC     -0.021130  ...   \n",
              "...             ...           ...           ...  ...           ...  ...   \n",
              "11895     53.308426     53.308426  4.790784e+08  LTC      0.010830  ...   \n",
              "11896     53.914047     53.914047  4.063915e+08  LTC      0.011361  ...   \n",
              "11897     53.397038     53.397038  4.126045e+08  LTC     -0.009590  ...   \n",
              "11898     52.906868     52.906868  2.569141e+08  LTC     -0.009180  ...   \n",
              "11899     51.911633     51.911633  2.703948e+08  LTC     -0.018811  ...   \n",
              "\n",
              "       Close_std_20  Year  Month   Close_mtd  Close_ytd  max_corr_coin_return  \\\n",
              "0          0.049879  2019      7    3.792117  -0.834313              0.002986   \n",
              "1          0.049879  2019      7    0.000000   0.000000             -0.006963   \n",
              "2          0.049879  2019      7    4.198660   4.198660              0.039450   \n",
              "3          0.049879  2019      7   -4.019543  -4.019543             -0.061289   \n",
              "4          0.049879  2019      7   -2.023219  -2.023219              0.012211   \n",
              "...             ...   ...    ...         ...        ...                   ...   \n",
              "11895      0.069030  2022      9   -0.554154  -0.620623              0.016544   \n",
              "11896      0.069967  2022      9   -0.532325  -0.602048              0.007532   \n",
              "11897      0.070175  2022      9   -1.394763  -1.335909             -0.007217   \n",
              "11898      0.070223  2022     10 -441.835719  -1.321554             -0.006160   \n",
              "11899      0.072056  2022     10 -904.361158  -1.658930             -0.013877   \n",
              "\n",
              "       min_corr_coin_return  target  polarity  subjectivity  \n",
              "0                  0.002118       1  0.211240      0.341574  \n",
              "1                 -0.012424       1  0.246338      0.319595  \n",
              "2                 -0.014005       0  0.181414      0.066015  \n",
              "3                  0.052717       0  0.163393      0.218119  \n",
              "4                 -0.016318       1  0.050206      0.075301  \n",
              "...                     ...     ...       ...           ...  \n",
              "11895             -0.002583       1  0.087345      0.416711  \n",
              "11896              0.019684       0  0.072305      0.430498  \n",
              "11897             -0.003361       0  0.071084      0.427040  \n",
              "11898             -0.016468       0  0.065221      0.423666  \n",
              "11899             -0.006940       1  0.063805      0.439129  \n",
              "\n",
              "[11900 rows x 30 columns]"
            ],
            "text/html": [
              "\n",
              "  <div id=\"df-7bf56e7a-09a2-4968-aba1-1bcfa640d001\">\n",
              "    <div class=\"colab-df-container\">\n",
              "      <div>\n",
              "<style scoped>\n",
              "    .dataframe tbody tr th:only-of-type {\n",
              "        vertical-align: middle;\n",
              "    }\n",
              "\n",
              "    .dataframe tbody tr th {\n",
              "        vertical-align: top;\n",
              "    }\n",
              "\n",
              "    .dataframe thead th {\n",
              "        text-align: right;\n",
              "    }\n",
              "</style>\n",
              "<table border=\"1\" class=\"dataframe\">\n",
              "  <thead>\n",
              "    <tr style=\"text-align: right;\">\n",
              "      <th></th>\n",
              "      <th>Unnamed: 0</th>\n",
              "      <th>Date</th>\n",
              "      <th>Open</th>\n",
              "      <th>High</th>\n",
              "      <th>Low</th>\n",
              "      <th>Close</th>\n",
              "      <th>Adj Close</th>\n",
              "      <th>Volume</th>\n",
              "      <th>Coin</th>\n",
              "      <th>Close_return</th>\n",
              "      <th>...</th>\n",
              "      <th>Close_std_20</th>\n",
              "      <th>Year</th>\n",
              "      <th>Month</th>\n",
              "      <th>Close_mtd</th>\n",
              "      <th>Close_ytd</th>\n",
              "      <th>max_corr_coin_return</th>\n",
              "      <th>min_corr_coin_return</th>\n",
              "      <th>target</th>\n",
              "      <th>polarity</th>\n",
              "      <th>subjectivity</th>\n",
              "    </tr>\n",
              "  </thead>\n",
              "  <tbody>\n",
              "    <tr>\n",
              "      <th>0</th>\n",
              "      <td>0</td>\n",
              "      <td>1/7/2019</td>\n",
              "      <td>10796.930660</td>\n",
              "      <td>11206.439450</td>\n",
              "      <td>10089.314450</td>\n",
              "      <td>10583.134770</td>\n",
              "      <td>10583.134770</td>\n",
              "      <td>2.937859e+10</td>\n",
              "      <td>BTC</td>\n",
              "      <td>0.002897</td>\n",
              "      <td>...</td>\n",
              "      <td>0.049879</td>\n",
              "      <td>2019</td>\n",
              "      <td>7</td>\n",
              "      <td>3.792117</td>\n",
              "      <td>-0.834313</td>\n",
              "      <td>0.002986</td>\n",
              "      <td>0.002118</td>\n",
              "      <td>1</td>\n",
              "      <td>0.211240</td>\n",
              "      <td>0.341574</td>\n",
              "    </tr>\n",
              "    <tr>\n",
              "      <th>1</th>\n",
              "      <td>1</td>\n",
              "      <td>2/7/2019</td>\n",
              "      <td>10588.683590</td>\n",
              "      <td>10912.188480</td>\n",
              "      <td>9737.884766</td>\n",
              "      <td>10801.677730</td>\n",
              "      <td>10801.677730</td>\n",
              "      <td>3.101590e+10</td>\n",
              "      <td>BTC</td>\n",
              "      <td>0.020650</td>\n",
              "      <td>...</td>\n",
              "      <td>0.049879</td>\n",
              "      <td>2019</td>\n",
              "      <td>7</td>\n",
              "      <td>0.000000</td>\n",
              "      <td>0.000000</td>\n",
              "      <td>-0.006963</td>\n",
              "      <td>-0.012424</td>\n",
              "      <td>1</td>\n",
              "      <td>0.246338</td>\n",
              "      <td>0.319595</td>\n",
              "    </tr>\n",
              "    <tr>\n",
              "      <th>2</th>\n",
              "      <td>2</td>\n",
              "      <td>3/7/2019</td>\n",
              "      <td>10818.156250</td>\n",
              "      <td>11968.078130</td>\n",
              "      <td>10818.156250</td>\n",
              "      <td>11961.269530</td>\n",
              "      <td>11961.269530</td>\n",
              "      <td>3.079649e+10</td>\n",
              "      <td>BTC</td>\n",
              "      <td>0.107353</td>\n",
              "      <td>...</td>\n",
              "      <td>0.049879</td>\n",
              "      <td>2019</td>\n",
              "      <td>7</td>\n",
              "      <td>4.198660</td>\n",
              "      <td>4.198660</td>\n",
              "      <td>0.039450</td>\n",
              "      <td>-0.014005</td>\n",
              "      <td>0</td>\n",
              "      <td>0.181414</td>\n",
              "      <td>0.066015</td>\n",
              "    </tr>\n",
              "    <tr>\n",
              "      <th>3</th>\n",
              "      <td>3</td>\n",
              "      <td>4/7/2019</td>\n",
              "      <td>11972.718750</td>\n",
              "      <td>12006.075200</td>\n",
              "      <td>11166.569340</td>\n",
              "      <td>11215.437500</td>\n",
              "      <td>11215.437500</td>\n",
              "      <td>2.592029e+10</td>\n",
              "      <td>BTC</td>\n",
              "      <td>-0.062354</td>\n",
              "      <td>...</td>\n",
              "      <td>0.049879</td>\n",
              "      <td>2019</td>\n",
              "      <td>7</td>\n",
              "      <td>-4.019543</td>\n",
              "      <td>-4.019543</td>\n",
              "      <td>-0.061289</td>\n",
              "      <td>0.052717</td>\n",
              "      <td>0</td>\n",
              "      <td>0.163393</td>\n",
              "      <td>0.218119</td>\n",
              "    </tr>\n",
              "    <tr>\n",
              "      <th>4</th>\n",
              "      <td>4</td>\n",
              "      <td>5/7/2019</td>\n",
              "      <td>11203.102540</td>\n",
              "      <td>11395.661130</td>\n",
              "      <td>10874.964840</td>\n",
              "      <td>10978.459960</td>\n",
              "      <td>10978.459960</td>\n",
              "      <td>2.383848e+10</td>\n",
              "      <td>BTC</td>\n",
              "      <td>-0.021130</td>\n",
              "      <td>...</td>\n",
              "      <td>0.049879</td>\n",
              "      <td>2019</td>\n",
              "      <td>7</td>\n",
              "      <td>-2.023219</td>\n",
              "      <td>-2.023219</td>\n",
              "      <td>0.012211</td>\n",
              "      <td>-0.016318</td>\n",
              "      <td>1</td>\n",
              "      <td>0.050206</td>\n",
              "      <td>0.075301</td>\n",
              "    </tr>\n",
              "    <tr>\n",
              "      <th>...</th>\n",
              "      <td>...</td>\n",
              "      <td>...</td>\n",
              "      <td>...</td>\n",
              "      <td>...</td>\n",
              "      <td>...</td>\n",
              "      <td>...</td>\n",
              "      <td>...</td>\n",
              "      <td>...</td>\n",
              "      <td>...</td>\n",
              "      <td>...</td>\n",
              "      <td>...</td>\n",
              "      <td>...</td>\n",
              "      <td>...</td>\n",
              "      <td>...</td>\n",
              "      <td>...</td>\n",
              "      <td>...</td>\n",
              "      <td>...</td>\n",
              "      <td>...</td>\n",
              "      <td>...</td>\n",
              "      <td>...</td>\n",
              "      <td>...</td>\n",
              "    </tr>\n",
              "    <tr>\n",
              "      <th>11895</th>\n",
              "      <td>1185</td>\n",
              "      <td>28/9/2022</td>\n",
              "      <td>52.730122</td>\n",
              "      <td>53.664368</td>\n",
              "      <td>51.357903</td>\n",
              "      <td>53.308426</td>\n",
              "      <td>53.308426</td>\n",
              "      <td>4.790784e+08</td>\n",
              "      <td>LTC</td>\n",
              "      <td>0.010830</td>\n",
              "      <td>...</td>\n",
              "      <td>0.069030</td>\n",
              "      <td>2022</td>\n",
              "      <td>9</td>\n",
              "      <td>-0.554154</td>\n",
              "      <td>-0.620623</td>\n",
              "      <td>0.016544</td>\n",
              "      <td>-0.002583</td>\n",
              "      <td>1</td>\n",
              "      <td>0.087345</td>\n",
              "      <td>0.416711</td>\n",
              "    </tr>\n",
              "    <tr>\n",
              "      <th>11896</th>\n",
              "      <td>1186</td>\n",
              "      <td>29/9/2022</td>\n",
              "      <td>53.307693</td>\n",
              "      <td>53.956154</td>\n",
              "      <td>52.447205</td>\n",
              "      <td>53.914047</td>\n",
              "      <td>53.914047</td>\n",
              "      <td>4.063915e+08</td>\n",
              "      <td>LTC</td>\n",
              "      <td>0.011361</td>\n",
              "      <td>...</td>\n",
              "      <td>0.069967</td>\n",
              "      <td>2022</td>\n",
              "      <td>9</td>\n",
              "      <td>-0.532325</td>\n",
              "      <td>-0.602048</td>\n",
              "      <td>0.007532</td>\n",
              "      <td>0.019684</td>\n",
              "      <td>0</td>\n",
              "      <td>0.072305</td>\n",
              "      <td>0.430498</td>\n",
              "    </tr>\n",
              "    <tr>\n",
              "      <th>11897</th>\n",
              "      <td>1187</td>\n",
              "      <td>30/9/2022</td>\n",
              "      <td>53.914841</td>\n",
              "      <td>54.988789</td>\n",
              "      <td>53.031113</td>\n",
              "      <td>53.397038</td>\n",
              "      <td>53.397038</td>\n",
              "      <td>4.126045e+08</td>\n",
              "      <td>LTC</td>\n",
              "      <td>-0.009590</td>\n",
              "      <td>...</td>\n",
              "      <td>0.070175</td>\n",
              "      <td>2022</td>\n",
              "      <td>9</td>\n",
              "      <td>-1.394763</td>\n",
              "      <td>-1.335909</td>\n",
              "      <td>-0.007217</td>\n",
              "      <td>-0.003361</td>\n",
              "      <td>0</td>\n",
              "      <td>0.071084</td>\n",
              "      <td>0.427040</td>\n",
              "    </tr>\n",
              "    <tr>\n",
              "      <th>11898</th>\n",
              "      <td>1188</td>\n",
              "      <td>1/10/2022</td>\n",
              "      <td>53.403042</td>\n",
              "      <td>53.709396</td>\n",
              "      <td>52.705292</td>\n",
              "      <td>52.906868</td>\n",
              "      <td>52.906868</td>\n",
              "      <td>2.569141e+08</td>\n",
              "      <td>LTC</td>\n",
              "      <td>-0.009180</td>\n",
              "      <td>...</td>\n",
              "      <td>0.070223</td>\n",
              "      <td>2022</td>\n",
              "      <td>10</td>\n",
              "      <td>-441.835719</td>\n",
              "      <td>-1.321554</td>\n",
              "      <td>-0.006160</td>\n",
              "      <td>-0.016468</td>\n",
              "      <td>0</td>\n",
              "      <td>0.065221</td>\n",
              "      <td>0.423666</td>\n",
              "    </tr>\n",
              "    <tr>\n",
              "      <th>11899</th>\n",
              "      <td>1189</td>\n",
              "      <td>2/10/2022</td>\n",
              "      <td>52.904613</td>\n",
              "      <td>53.392735</td>\n",
              "      <td>51.911167</td>\n",
              "      <td>51.911633</td>\n",
              "      <td>51.911633</td>\n",
              "      <td>2.703948e+08</td>\n",
              "      <td>LTC</td>\n",
              "      <td>-0.018811</td>\n",
              "      <td>...</td>\n",
              "      <td>0.072056</td>\n",
              "      <td>2022</td>\n",
              "      <td>10</td>\n",
              "      <td>-904.361158</td>\n",
              "      <td>-1.658930</td>\n",
              "      <td>-0.013877</td>\n",
              "      <td>-0.006940</td>\n",
              "      <td>1</td>\n",
              "      <td>0.063805</td>\n",
              "      <td>0.439129</td>\n",
              "    </tr>\n",
              "  </tbody>\n",
              "</table>\n",
              "<p>11900 rows × 30 columns</p>\n",
              "</div>\n",
              "      <button class=\"colab-df-convert\" onclick=\"convertToInteractive('df-7bf56e7a-09a2-4968-aba1-1bcfa640d001')\"\n",
              "              title=\"Convert this dataframe to an interactive table.\"\n",
              "              style=\"display:none;\">\n",
              "        \n",
              "  <svg xmlns=\"http://www.w3.org/2000/svg\" height=\"24px\"viewBox=\"0 0 24 24\"\n",
              "       width=\"24px\">\n",
              "    <path d=\"M0 0h24v24H0V0z\" fill=\"none\"/>\n",
              "    <path d=\"M18.56 5.44l.94 2.06.94-2.06 2.06-.94-2.06-.94-.94-2.06-.94 2.06-2.06.94zm-11 1L8.5 8.5l.94-2.06 2.06-.94-2.06-.94L8.5 2.5l-.94 2.06-2.06.94zm10 10l.94 2.06.94-2.06 2.06-.94-2.06-.94-.94-2.06-.94 2.06-2.06.94z\"/><path d=\"M17.41 7.96l-1.37-1.37c-.4-.4-.92-.59-1.43-.59-.52 0-1.04.2-1.43.59L10.3 9.45l-7.72 7.72c-.78.78-.78 2.05 0 2.83L4 21.41c.39.39.9.59 1.41.59.51 0 1.02-.2 1.41-.59l7.78-7.78 2.81-2.81c.8-.78.8-2.07 0-2.86zM5.41 20L4 18.59l7.72-7.72 1.47 1.35L5.41 20z\"/>\n",
              "  </svg>\n",
              "      </button>\n",
              "      \n",
              "  <style>\n",
              "    .colab-df-container {\n",
              "      display:flex;\n",
              "      flex-wrap:wrap;\n",
              "      gap: 12px;\n",
              "    }\n",
              "\n",
              "    .colab-df-convert {\n",
              "      background-color: #E8F0FE;\n",
              "      border: none;\n",
              "      border-radius: 50%;\n",
              "      cursor: pointer;\n",
              "      display: none;\n",
              "      fill: #1967D2;\n",
              "      height: 32px;\n",
              "      padding: 0 0 0 0;\n",
              "      width: 32px;\n",
              "    }\n",
              "\n",
              "    .colab-df-convert:hover {\n",
              "      background-color: #E2EBFA;\n",
              "      box-shadow: 0px 1px 2px rgba(60, 64, 67, 0.3), 0px 1px 3px 1px rgba(60, 64, 67, 0.15);\n",
              "      fill: #174EA6;\n",
              "    }\n",
              "\n",
              "    [theme=dark] .colab-df-convert {\n",
              "      background-color: #3B4455;\n",
              "      fill: #D2E3FC;\n",
              "    }\n",
              "\n",
              "    [theme=dark] .colab-df-convert:hover {\n",
              "      background-color: #434B5C;\n",
              "      box-shadow: 0px 1px 3px 1px rgba(0, 0, 0, 0.15);\n",
              "      filter: drop-shadow(0px 1px 2px rgba(0, 0, 0, 0.3));\n",
              "      fill: #FFFFFF;\n",
              "    }\n",
              "  </style>\n",
              "\n",
              "      <script>\n",
              "        const buttonEl =\n",
              "          document.querySelector('#df-7bf56e7a-09a2-4968-aba1-1bcfa640d001 button.colab-df-convert');\n",
              "        buttonEl.style.display =\n",
              "          google.colab.kernel.accessAllowed ? 'block' : 'none';\n",
              "\n",
              "        async function convertToInteractive(key) {\n",
              "          const element = document.querySelector('#df-7bf56e7a-09a2-4968-aba1-1bcfa640d001');\n",
              "          const dataTable =\n",
              "            await google.colab.kernel.invokeFunction('convertToInteractive',\n",
              "                                                     [key], {});\n",
              "          if (!dataTable) return;\n",
              "\n",
              "          const docLinkHtml = 'Like what you see? Visit the ' +\n",
              "            '<a target=\"_blank\" href=https://colab.research.google.com/notebooks/data_table.ipynb>data table notebook</a>'\n",
              "            + ' to learn more about interactive tables.';\n",
              "          element.innerHTML = '';\n",
              "          dataTable['output_type'] = 'display_data';\n",
              "          await google.colab.output.renderOutput(dataTable, element);\n",
              "          const docLink = document.createElement('div');\n",
              "          docLink.innerHTML = docLinkHtml;\n",
              "          element.appendChild(docLink);\n",
              "        }\n",
              "      </script>\n",
              "    </div>\n",
              "  </div>\n",
              "  "
            ]
          },
          "metadata": {},
          "execution_count": 93
        }
      ],
      "source": [
        "final_df"
      ],
      "id": "987db138"
    },
    {
      "cell_type": "code",
      "execution_count": 94,
      "metadata": {
        "colab": {
          "base_uri": "https://localhost:8080/"
        },
        "id": "159dd812",
        "outputId": "6c4e887d-0baf-4258-f26e-6c91fe4042ba"
      },
      "outputs": [
        {
          "output_type": "execute_result",
          "data": {
            "text/plain": [
              "array(['BTC', 'ETH', 'BNB', 'XRP', 'ADA', 'DOGE', 'MATIC', 'TRX', 'LEO',\n",
              "       'LTC'], dtype=object)"
            ]
          },
          "metadata": {},
          "execution_count": 94
        }
      ],
      "source": [
        "final_df['Coin'].unique()"
      ],
      "id": "159dd812"
    },
    {
      "cell_type": "markdown",
      "metadata": {
        "id": "gEi8vsgiMUq5"
      },
      "source": [
        "# Grouping the Coins"
      ],
      "id": "gEi8vsgiMUq5"
    },
    {
      "cell_type": "code",
      "execution_count": 95,
      "metadata": {
        "id": "0e2d9d16"
      },
      "outputs": [],
      "source": [
        "btc_df = final_df[final_df['Coin']=='BTC'].reset_index()\n",
        "eth_df = final_df[final_df['Coin']=='ETH'].reset_index()\n",
        "bnb_df = final_df[final_df['Coin']=='BNB'].reset_index()\n",
        "xrp_df = final_df[final_df['Coin']=='XRP'].reset_index()\n",
        "ada_df = final_df[final_df['Coin']=='ADA'].reset_index()\n",
        "doge_df = final_df[final_df['Coin']=='DOGE'].reset_index()\n",
        "matic_df = final_df[final_df['Coin']=='MATIC'].reset_index()\n",
        "trx_df = final_df[final_df['Coin']=='TRX'].reset_index()\n",
        "leo_df = final_df[final_df['Coin']=='LEO'].reset_index()\n",
        "ltc_df = final_df[final_df['Coin']=='LTC'].reset_index()"
      ],
      "id": "0e2d9d16"
    },
    {
      "cell_type": "markdown",
      "metadata": {
        "id": "coc-iK3XMmzD"
      },
      "source": [
        "## Splitting the respective coins into training and test set"
      ],
      "id": "coc-iK3XMmzD"
    },
    {
      "cell_type": "code",
      "execution_count": 96,
      "metadata": {
        "id": "0de8294c"
      },
      "outputs": [],
      "source": [
        "btc_train = btc_df[0:824] #01-07-2019 to 01-10-2021\n",
        "btc_test = btc_df[824::] #02-10-2021 to 02-10-2022\n",
        "\n",
        "eth_train = eth_df[0:824]\n",
        "eth_test = eth_df[824::]\n",
        "\n",
        "bnb_train = bnb_df[0:824]\n",
        "bnb_test = bnb_df[824::]\n",
        "\n",
        "xrp_train = xrp_df[0:824]\n",
        "xrp_test = xrp_df[824::]\n",
        "\n",
        "ada_train = ada_df[0:824]\n",
        "ada_test = ada_df[824::]\n",
        "\n",
        "doge_train = doge_df[0:824]\n",
        "doge_test = doge_df[824::]\n",
        "\n",
        "matic_train = matic_df[0:824]\n",
        "matic_test = matic_df[824::]\n",
        "\n",
        "trx_train = trx_df[0:824]\n",
        "trx_test = trx_df[824::]\n",
        "\n",
        "leo_train = leo_df[0:824]\n",
        "leo_test = leo_df[824::]\n",
        "\n",
        "ltc_train = ltc_df[0:824]\n",
        "ltc_test = ltc_df[824::]"
      ],
      "id": "0de8294c"
    },
    {
      "cell_type": "markdown",
      "metadata": {
        "id": "9sZfQmgKMvfk"
      },
      "source": [
        "## Selecting the feature"
      ],
      "id": "9sZfQmgKMvfk"
    },
    {
      "cell_type": "code",
      "execution_count": 97,
      "metadata": {
        "id": "295a00a9"
      },
      "outputs": [],
      "source": [
        "features = ['Date', 'Open', 'Close', 'High', 'Low', 'Close_return', 'Close_sma_3', 'Close_sma_7', 'Close_sma_20',\n",
        "            'Close_ema_3', 'Close_ema_7', 'Close_ema_20', 'Close_std_3', 'Close_std_7', 'Close_std_20',\n",
        "            'Close_mtd', 'Close_ytd', 'max_corr_coin_return', 'min_corr_coin_return', 'target', 'polarity', 'subjectivity']"
      ],
      "id": "295a00a9"
    },
    {
      "cell_type": "code",
      "execution_count": 98,
      "metadata": {
        "id": "edd91bb1"
      },
      "outputs": [],
      "source": [
        "btc_train = btc_train[features]\n",
        "btc_test = btc_test[features]\n",
        "\n",
        "eth_train = eth_train[features]\n",
        "eth_test = eth_test[features]\n",
        "\n",
        "bnb_train = bnb_train[features]\n",
        "bnb_test = bnb_test[features]\n",
        "\n",
        "xrp_train = xrp_train[features]\n",
        "xrp_test = xrp_test[features]\n",
        "\n",
        "ada_train = ada_train[features]\n",
        "ada_test = ada_test[features]\n",
        "\n",
        "doge_train = doge_train[features]\n",
        "doge_test = doge_test[features]\n",
        "\n",
        "matic_train = matic_train[features]\n",
        "matic_test = matic_test[features]\n",
        "\n",
        "trx_train = trx_train[features]\n",
        "trx_test = trx_test[features]\n",
        "\n",
        "leo_train = leo_train[features]\n",
        "leo_test = leo_test[features]"
      ],
      "id": "edd91bb1"
    },
    {
      "cell_type": "markdown",
      "metadata": {
        "id": "76IrGSugyPOV"
      },
      "source": [
        "#Finding thevalue of p,q,d of ARIMA"
      ],
      "id": "76IrGSugyPOV"
    },
    {
      "cell_type": "markdown",
      "metadata": {
        "id": "mQtuqODvyX0J"
      },
      "source": [
        "## Finding the d value"
      ],
      "id": "mQtuqODvyX0J"
    },
    {
      "cell_type": "code",
      "execution_count": 99,
      "metadata": {
        "colab": {
          "base_uri": "https://localhost:8080/"
        },
        "id": "esKHTSmlpIKG",
        "outputId": "cd42e35c-33d5-4343-f560-b43795ff1f5e"
      },
      "outputs": [
        {
          "output_type": "stream",
          "name": "stdout",
          "text": [
            "ADF Statistic: -0.415989\n",
            "p-value: 0.907395\n",
            "Critical Values:\n",
            "\t1%: -3.439\n",
            "\t5%: -2.865\n",
            "\t10%: -2.569\n"
          ]
        }
      ],
      "source": [
        "from statsmodels.tsa.stattools import adfuller\n",
        "result = adfuller(btc_train['Close'])\n",
        "print('ADF Statistic: %f' % result[0])\n",
        "print('p-value: %f' % result[1])\n",
        "print('Critical Values:')\n",
        "for key, value in result[4].items():\n",
        "  print('\\t%s: %.3f' % (key, value))"
      ],
      "id": "esKHTSmlpIKG"
    },
    {
      "cell_type": "code",
      "execution_count": 100,
      "metadata": {
        "colab": {
          "base_uri": "https://localhost:8080/",
          "height": 0
        },
        "id": "bGdwE_9bpySw",
        "outputId": "098bba90-7062-494a-bb12-b81cf98ba9a2"
      },
      "outputs": [
        {
          "output_type": "display_data",
          "data": {
            "text/plain": [
              "<Figure size 1080x840 with 3 Axes>"
            ],
            "image/png": "[encoded data removed]"
          },
          "metadata": {
            "needs_background": "light"
          }
        }
      ],
      "source": [
        "import numpy as np, pandas as pd\n",
        "import matplotlib.pyplot as plt\n",
        "plt.rcParams.update({'figure.figsize':(9,7), 'figure.dpi':120})\n",
        " \n",
        "# Original Series\n",
        "fig, (ax1, ax2, ax3) = plt.subplots(3)\n",
        "ax1.plot(btc_train.Close); ax1.set_title('Original Series'); ax1.axes.xaxis.set_visible(False)\n",
        "# 1st Differencing\n",
        "ax2.plot(btc_train.Close); ax2.set_title('1st Order Differencing'); ax2.axes.xaxis.set_visible(False)\n",
        "# 2nd Differencing\n",
        "ax3.plot(btc_train.Close.diff().diff()); ax3.set_title('2nd Order Differencing')\n",
        "plt.show()"
      ],
      "id": "bGdwE_9bpySw"
    },
    {
      "cell_type": "markdown",
      "metadata": {
        "id": "vEC6FZKAydaB"
      },
      "source": [
        "## Finding the p value"
      ],
      "id": "vEC6FZKAydaB"
    },
    {
      "cell_type": "code",
      "execution_count": 101,
      "metadata": {
        "colab": {
          "base_uri": "https://localhost:8080/",
          "height": 0
        },
        "id": "u-TuuIQWtX6d",
        "outputId": "50b877d3-3a6e-4a54-a23e-cc6a67b8b93e"
      },
      "outputs": [
        {
          "output_type": "display_data",
          "data": {
            "text/plain": [
              "<Figure size 1080x840 with 1 Axes>"
            ],
            "image/png": "[encoded data removed]"
          },
          "metadata": {
            "needs_background": "light"
          }
        }
      ],
      "source": [
        "from statsmodels.graphics.tsaplots import plot_pacf,plot_acf\n",
        "plot_pacf(btc_train.Close.diff().dropna())\n",
        "plt.rcParams[\"figure.figsize\"] = (3,3)"
      ],
      "id": "u-TuuIQWtX6d"
    },
    {
      "cell_type": "markdown",
      "metadata": {
        "id": "9uRVM9kZyh7n"
      },
      "source": [
        "## Finding the q value"
      ],
      "id": "9uRVM9kZyh7n"
    },
    {
      "cell_type": "code",
      "execution_count": 102,
      "metadata": {
        "colab": {
          "base_uri": "https://localhost:8080/",
          "height": 0
        },
        "id": "2QcSRRNXt2xT",
        "outputId": "4bb0b472-c655-4f05-dbbe-31763834fd30"
      },
      "outputs": [
        {
          "output_type": "display_data",
          "data": {
            "text/plain": [
              "<Figure size 360x360 with 1 Axes>"
            ],
            "image/png": "[encoded data removed]"
          },
          "metadata": {
            "needs_background": "light"
          }
        }
      ],
      "source": [
        "plot_acf(btc_train.Close.diff().dropna())\n",
        "plt.rcParams[\"figure.figsize\"] = (5,3)"
      ],
      "id": "2QcSRRNXt2xT"
    },
    {
      "cell_type": "markdown",
      "metadata": {
        "id": "H95_lvJfNHmz"
      },
      "source": [
        "# Coin1:Bitcoin"
      ],
      "id": "H95_lvJfNHmz"
    },
    {
      "cell_type": "code",
      "execution_count": 103,
      "metadata": {
        "id": "kHyynQLUOy5e"
      },
      "outputs": [],
      "source": [
        "from statsmodels.tsa.arima_model import ARIMA\n",
        "features=['Open', 'Close_return', 'High', 'Low','max_corr_coin_return', 'min_corr_coin_return', 'polarity', 'subjectivity','Close_sma_3', 'Close_sma_7', 'Close_sma_20',\n",
        "            'Close_ema_3', 'Close_ema_7']\n",
        "modelall=ARIMA(endog=btc_train['Close'],order=(4,1,4),exog=btc_train[features])\n",
        "fitted = modelall.fit(disp=-1) \n",
        "# Forecast\n",
        "fc, se, conf = fitted.forecast(366,exog=btc_test[features] ,alpha=0.05)  # 95% conf"
      ],
      "id": "kHyynQLUOy5e"
    },
    {
      "cell_type": "code",
      "execution_count": 104,
      "metadata": {
        "id": "g0zINnBsEfOy"
      },
      "outputs": [],
      "source": [
        "r1=list()\n",
        "\n",
        "def classify(ls):\n",
        "  r1.append(0)\n",
        "  for i in range(len(ls)-1):\n",
        "    if ls[i] <ls[i+1]:\n",
        "      r1.append(1)\n",
        "    else:\n",
        "      r1.append(0)\n",
        "  return r1\n",
        "result_c=classify(fc)\n"
      ],
      "id": "g0zINnBsEfOy"
    },
    {
      "cell_type": "code",
      "execution_count": 105,
      "metadata": {
        "colab": {
          "base_uri": "https://localhost:8080/"
        },
        "id": "mBS4E8vbq6JA",
        "outputId": "d92f709d-35e5-4085-8a91-19f813d58d22"
      },
      "outputs": [
        {
          "output_type": "execute_result",
          "data": {
            "text/plain": [
              "(366,)"
            ]
          },
          "metadata": {},
          "execution_count": 105
        }
      ],
      "source": [
        "fc.shape"
      ],
      "id": "mBS4E8vbq6JA"
    },
    {
      "cell_type": "code",
      "execution_count": 106,
      "metadata": {
        "id": "twVrMIIbxYbL"
      },
      "outputs": [],
      "source": [
        "from sklearn.metrics import classification_report"
      ],
      "id": "twVrMIIbxYbL"
    },
    {
      "cell_type": "code",
      "execution_count": 107,
      "metadata": {
        "id": "BY8Bj7Wr1TBE"
      },
      "outputs": [],
      "source": [
        "report = classification_report(btc_test['target'], result_c, output_dict=True)"
      ],
      "id": "BY8Bj7Wr1TBE"
    },
    {
      "cell_type": "code",
      "execution_count": 108,
      "metadata": {
        "id": "l3gqPkA11dd7"
      },
      "outputs": [],
      "source": [
        "classes = ['Up', 'Down']\n",
        "metrics = ['Precision', 'Recall', 'F1 Score']\n",
        "res = pd.DataFrame(columns = pd.MultiIndex.from_product([classes, metrics], names=['Direction', 'Metric']))\n",
        "res['Coin'] = ''\n",
        "res['Weighted Avg F1'] = np.nan\n",
        "vals = [report['0']['precision'], report['0']['recall'], report['0']['f1-score'], \n",
        "                    report['1']['precision'], report['1']['recall'], report['1']['f1-score'], \n",
        "                    'BTC', report['weighted avg']['f1-score']]\n",
        "res = res.append(dict(zip(res.columns, vals)), ignore_index=True)"
      ],
      "id": "l3gqPkA11dd7"
    },
    {
      "cell_type": "code",
      "execution_count": 109,
      "metadata": {
        "id": "NIjVixLjxYd-"
      },
      "outputs": [],
      "source": [
        "btc=res"
      ],
      "id": "NIjVixLjxYd-"
    },
    {
      "cell_type": "markdown",
      "metadata": {
        "id": "70n_aNxXS4OM"
      },
      "source": [
        "# Coin2 : ETH"
      ],
      "id": "70n_aNxXS4OM"
    },
    {
      "cell_type": "code",
      "execution_count": 110,
      "metadata": {
        "id": "wpferINJTzi_"
      },
      "outputs": [],
      "source": [
        "from statsmodels.tsa.arima_model import ARIMA\n",
        "features=['Open', 'Close_return', 'High', 'Low','max_corr_coin_return', 'min_corr_coin_return', 'polarity', 'subjectivity','Close_sma_3', 'Close_sma_7', 'Close_sma_20',\n",
        "            'Close_ema_3', 'Close_ema_7']\n",
        "modelall=ARIMA(endog=eth_train['Close'],order=(1,2,1),exog=eth_train[features])\n",
        "fitted = modelall.fit(disp=-1) \n",
        "# Forecast\n",
        "fc, se, conf = fitted.forecast(366,exog=eth_test[features] ,alpha=0.05)  # 95% conf"
      ],
      "id": "wpferINJTzi_"
    },
    {
      "cell_type": "code",
      "execution_count": 111,
      "metadata": {
        "id": "bW77o22Y4YkC"
      },
      "outputs": [],
      "source": [
        "resu = fc.mean()"
      ],
      "id": "bW77o22Y4YkC"
    },
    {
      "cell_type": "code",
      "execution_count": 112,
      "metadata": {
        "id": "RZdHolgE7Izr"
      },
      "outputs": [],
      "source": [
        "r_eth=list()\n",
        "\n",
        "def classify_eth(ls):\n",
        "  r_eth.append(0)\n",
        "  for i in range(len(ls)-1):\n",
        "    if ls[i] <ls[i+1]:\n",
        "      r_eth.append(1)\n",
        "    else:\n",
        "      r_eth.append(0)\n",
        "  print(len(r1))\n",
        "  return r_eth\n",
        "\n"
      ],
      "id": "RZdHolgE7Izr"
    },
    {
      "cell_type": "code",
      "execution_count": 113,
      "metadata": {
        "colab": {
          "base_uri": "https://localhost:8080/"
        },
        "id": "keqm05uB4Ymp",
        "outputId": "6d33eeef-bb07-4200-b716-92e805afb3c6"
      },
      "outputs": [
        {
          "output_type": "stream",
          "name": "stdout",
          "text": [
            "366\n"
          ]
        }
      ],
      "source": [
        "report = classification_report(eth_test['target'], classify_eth(fc), output_dict=True)\n",
        "\n",
        "vals = [report['0']['precision'], report['0']['recall'], report['0']['f1-score'], \n",
        "                    report['1']['precision'], report['1']['recall'], report['1']['f1-score'], \n",
        "                    'ETH', report['weighted avg']['f1-score']]\n",
        "res = res.append(dict(zip(res.columns, vals)), ignore_index=True)"
      ],
      "id": "keqm05uB4Ymp"
    },
    {
      "cell_type": "code",
      "execution_count": 113,
      "metadata": {
        "id": "g-Su7M-h61eA"
      },
      "outputs": [],
      "source": [],
      "id": "g-Su7M-h61eA"
    },
    {
      "cell_type": "code",
      "execution_count": 114,
      "metadata": {
        "id": "WcDptoOG9o3f"
      },
      "outputs": [],
      "source": [
        "eth = res"
      ],
      "id": "WcDptoOG9o3f"
    },
    {
      "cell_type": "code",
      "execution_count": 115,
      "metadata": {
        "id": "DHPq1Mso9zH8"
      },
      "outputs": [],
      "source": [
        "frame = [btc,eth]"
      ],
      "id": "DHPq1Mso9zH8"
    },
    {
      "cell_type": "code",
      "execution_count": 116,
      "metadata": {
        "id": "FZwo9R_o-DYJ"
      },
      "outputs": [],
      "source": [
        "result = pd.concat(frame)"
      ],
      "id": "FZwo9R_o-DYJ"
    },
    {
      "cell_type": "code",
      "execution_count": 117,
      "metadata": {
        "colab": {
          "base_uri": "https://localhost:8080/",
          "height": 0
        },
        "id": "IAbZofPq-I6f",
        "outputId": "c82f9f5c-4287-42c2-b556-37c509faa011"
      },
      "outputs": [
        {
          "output_type": "execute_result",
          "data": {
            "text/plain": [
              "Direction        Up                          Down                     Coin  \\\n",
              "Metric    Precision    Recall  F1 Score Precision    Recall  F1 Score        \n",
              "0          0.482051  0.494737  0.488312  0.438596  0.426136  0.432277  BTC   \n",
              "0          0.482051  0.494737  0.488312  0.438596  0.426136  0.432277  BTC   \n",
              "1          0.522255  0.926316  0.667932  0.517241  0.085227  0.146341  ETH   \n",
              "\n",
              "Direction Weighted Avg F1  \n",
              "Metric                     \n",
              "0                0.461366  \n",
              "0                0.461366  \n",
              "1                0.417112  "
            ],
            "text/html": [
              "\n",
              "  <div id=\"df-3750a6df-6da5-45d7-9325-4d7caadd6e88\">\n",
              "    <div class=\"colab-df-container\">\n",
              "      <div>\n",
              "<style scoped>\n",
              "    .dataframe tbody tr th:only-of-type {\n",
              "        vertical-align: middle;\n",
              "    }\n",
              "\n",
              "    .dataframe tbody tr th {\n",
              "        vertical-align: top;\n",
              "    }\n",
              "\n",
              "    .dataframe thead tr th {\n",
              "        text-align: left;\n",
              "    }\n",
              "</style>\n",
              "<table border=\"1\" class=\"dataframe\">\n",
              "  <thead>\n",
              "    <tr>\n",
              "      <th>Direction</th>\n",
              "      <th colspan=\"3\" halign=\"left\">Up</th>\n",
              "      <th colspan=\"3\" halign=\"left\">Down</th>\n",
              "      <th>Coin</th>\n",
              "      <th>Weighted Avg F1</th>\n",
              "    </tr>\n",
              "    <tr>\n",
              "      <th>Metric</th>\n",
              "      <th>Precision</th>\n",
              "      <th>Recall</th>\n",
              "      <th>F1 Score</th>\n",
              "      <th>Precision</th>\n",
              "      <th>Recall</th>\n",
              "      <th>F1 Score</th>\n",
              "      <th></th>\n",
              "      <th></th>\n",
              "    </tr>\n",
              "  </thead>\n",
              "  <tbody>\n",
              "    <tr>\n",
              "      <th>0</th>\n",
              "      <td>0.482051</td>\n",
              "      <td>0.494737</td>\n",
              "      <td>0.488312</td>\n",
              "      <td>0.438596</td>\n",
              "      <td>0.426136</td>\n",
              "      <td>0.432277</td>\n",
              "      <td>BTC</td>\n",
              "      <td>0.461366</td>\n",
              "    </tr>\n",
              "    <tr>\n",
              "      <th>0</th>\n",
              "      <td>0.482051</td>\n",
              "      <td>0.494737</td>\n",
              "      <td>0.488312</td>\n",
              "      <td>0.438596</td>\n",
              "      <td>0.426136</td>\n",
              "      <td>0.432277</td>\n",
              "      <td>BTC</td>\n",
              "      <td>0.461366</td>\n",
              "    </tr>\n",
              "    <tr>\n",
              "      <th>1</th>\n",
              "      <td>0.522255</td>\n",
              "      <td>0.926316</td>\n",
              "      <td>0.667932</td>\n",
              "      <td>0.517241</td>\n",
              "      <td>0.085227</td>\n",
              "      <td>0.146341</td>\n",
              "      <td>ETH</td>\n",
              "      <td>0.417112</td>\n",
              "    </tr>\n",
              "  </tbody>\n",
              "</table>\n",
              "</div>\n",
              "      <button class=\"colab-df-convert\" onclick=\"convertToInteractive('df-3750a6df-6da5-45d7-9325-4d7caadd6e88')\"\n",
              "              title=\"Convert this dataframe to an interactive table.\"\n",
              "              style=\"display:none;\">\n",
              "        \n",
              "  <svg xmlns=\"http://www.w3.org/2000/svg\" height=\"24px\"viewBox=\"0 0 24 24\"\n",
              "       width=\"24px\">\n",
              "    <path d=\"M0 0h24v24H0V0z\" fill=\"none\"/>\n",
              "    <path d=\"M18.56 5.44l.94 2.06.94-2.06 2.06-.94-2.06-.94-.94-2.06-.94 2.06-2.06.94zm-11 1L8.5 8.5l.94-2.06 2.06-.94-2.06-.94L8.5 2.5l-.94 2.06-2.06.94zm10 10l.94 2.06.94-2.06 2.06-.94-2.06-.94-.94-2.06-.94 2.06-2.06.94z\"/><path d=\"M17.41 7.96l-1.37-1.37c-.4-.4-.92-.59-1.43-.59-.52 0-1.04.2-1.43.59L10.3 9.45l-7.72 7.72c-.78.78-.78 2.05 0 2.83L4 21.41c.39.39.9.59 1.41.59.51 0 1.02-.2 1.41-.59l7.78-7.78 2.81-2.81c.8-.78.8-2.07 0-2.86zM5.41 20L4 18.59l7.72-7.72 1.47 1.35L5.41 20z\"/>\n",
              "  </svg>\n",
              "      </button>\n",
              "      \n",
              "  <style>\n",
              "    .colab-df-container {\n",
              "      display:flex;\n",
              "      flex-wrap:wrap;\n",
              "      gap: 12px;\n",
              "    }\n",
              "\n",
              "    .colab-df-convert {\n",
              "      background-color: #E8F0FE;\n",
              "      border: none;\n",
              "      border-radius: 50%;\n",
              "      cursor: pointer;\n",
              "      display: none;\n",
              "      fill: #1967D2;\n",
              "      height: 32px;\n",
              "      padding: 0 0 0 0;\n",
              "      width: 32px;\n",
              "    }\n",
              "\n",
              "    .colab-df-convert:hover {\n",
              "      background-color: #E2EBFA;\n",
              "      box-shadow: 0px 1px 2px rgba(60, 64, 67, 0.3), 0px 1px 3px 1px rgba(60, 64, 67, 0.15);\n",
              "      fill: #174EA6;\n",
              "    }\n",
              "\n",
              "    [theme=dark] .colab-df-convert {\n",
              "      background-color: #3B4455;\n",
              "      fill: #D2E3FC;\n",
              "    }\n",
              "\n",
              "    [theme=dark] .colab-df-convert:hover {\n",
              "      background-color: #434B5C;\n",
              "      box-shadow: 0px 1px 3px 1px rgba(0, 0, 0, 0.15);\n",
              "      filter: drop-shadow(0px 1px 2px rgba(0, 0, 0, 0.3));\n",
              "      fill: #FFFFFF;\n",
              "    }\n",
              "  </style>\n",
              "\n",
              "      <script>\n",
              "        const buttonEl =\n",
              "          document.querySelector('#df-3750a6df-6da5-45d7-9325-4d7caadd6e88 button.colab-df-convert');\n",
              "        buttonEl.style.display =\n",
              "          google.colab.kernel.accessAllowed ? 'block' : 'none';\n",
              "\n",
              "        async function convertToInteractive(key) {\n",
              "          const element = document.querySelector('#df-3750a6df-6da5-45d7-9325-4d7caadd6e88');\n",
              "          const dataTable =\n",
              "            await google.colab.kernel.invokeFunction('convertToInteractive',\n",
              "                                                     [key], {});\n",
              "          if (!dataTable) return;\n",
              "\n",
              "          const docLinkHtml = 'Like what you see? Visit the ' +\n",
              "            '<a target=\"_blank\" href=https://colab.research.google.com/notebooks/data_table.ipynb>data table notebook</a>'\n",
              "            + ' to learn more about interactive tables.';\n",
              "          element.innerHTML = '';\n",
              "          dataTable['output_type'] = 'display_data';\n",
              "          await google.colab.output.renderOutput(dataTable, element);\n",
              "          const docLink = document.createElement('div');\n",
              "          docLink.innerHTML = docLinkHtml;\n",
              "          element.appendChild(docLink);\n",
              "        }\n",
              "      </script>\n",
              "    </div>\n",
              "  </div>\n",
              "  "
            ]
          },
          "metadata": {},
          "execution_count": 117
        }
      ],
      "source": [
        "result"
      ],
      "id": "IAbZofPq-I6f"
    },
    {
      "cell_type": "markdown",
      "metadata": {
        "id": "PHrr90lxAaG7"
      },
      "source": [
        "# Coin3:BnB"
      ],
      "id": "PHrr90lxAaG7"
    },
    {
      "cell_type": "code",
      "execution_count": 118,
      "metadata": {
        "id": "8337070b"
      },
      "outputs": [],
      "source": [
        "from statsmodels.tsa.arima_model import ARIMA\n",
        "features=['Open', 'Close_return', 'High', 'Low','max_corr_coin_return', 'min_corr_coin_return', 'polarity', 'subjectivity','Close_sma_3', 'Close_sma_7', 'Close_sma_20',\n",
        "            'Close_ema_3', 'Close_ema_7']\n",
        "modelall=ARIMA(endog=bnb_train['Close'],order=(1,2,1),exog=bnb_train[features])\n",
        "fitted = modelall.fit(disp=-1) \n",
        "# Forecast\n",
        "fc, se, conf = fitted.forecast(366,exog=bnb_test[features] ,alpha=0.05)  # 95% conf"
      ],
      "id": "8337070b"
    },
    {
      "cell_type": "code",
      "execution_count": 119,
      "metadata": {
        "id": "ac66bde4"
      },
      "outputs": [],
      "source": [
        "resu=fc.mean()"
      ],
      "id": "ac66bde4"
    },
    {
      "cell_type": "code",
      "execution_count": 120,
      "metadata": {
        "id": "3trEZs4iBbQn"
      },
      "outputs": [],
      "source": [
        "r_bnb=list()\n",
        "\n",
        "def classify_bnb(ls):\n",
        "  r_bnb.append(0)\n",
        "  for i in range(len(ls)-1):\n",
        "    if ls[i] <ls[i+1]:\n",
        "      r_bnb.append(1)\n",
        "    else:\n",
        "      r_bnb.append(0)\n",
        "  print(len(r1))\n",
        "  return r_bnb"
      ],
      "id": "3trEZs4iBbQn"
    },
    {
      "cell_type": "code",
      "execution_count": 121,
      "metadata": {
        "colab": {
          "base_uri": "https://localhost:8080/"
        },
        "id": "QbIbRsRlBoH6",
        "outputId": "58da545a-f8c3-49d5-8962-0a0b8921cf1f"
      },
      "outputs": [
        {
          "output_type": "stream",
          "name": "stdout",
          "text": [
            "366\n"
          ]
        }
      ],
      "source": [
        "report = classification_report(bnb_test['target'], classify_bnb(fc), output_dict=True)\n",
        "\n",
        "vals = [report['0']['precision'], report['0']['recall'], report['0']['f1-score'], \n",
        "                    report['1']['precision'], report['1']['recall'], report['1']['f1-score'], \n",
        "                    'BNB', report['weighted avg']['f1-score']]\n",
        "res = res.append(dict(zip(res.columns, vals)), ignore_index=True)\n",
        "bnb=res"
      ],
      "id": "QbIbRsRlBoH6"
    },
    {
      "cell_type": "code",
      "execution_count": 122,
      "metadata": {
        "colab": {
          "base_uri": "https://localhost:8080/",
          "height": 0
        },
        "id": "6Puhtpbh9wtY",
        "outputId": "444b4aa5-52e9-4914-d45c-2a3f4041103b"
      },
      "outputs": [
        {
          "output_type": "execute_result",
          "data": {
            "text/plain": [
              "Direction        Up                          Down                     Coin  \\\n",
              "Metric    Precision    Recall  F1 Score Precision    Recall  F1 Score        \n",
              "0          0.482051  0.494737  0.488312  0.438596  0.426136  0.432277  BTC   \n",
              "1          0.522255  0.926316  0.667932  0.517241  0.085227  0.146341  ETH   \n",
              "2          0.493075  0.983425  0.656827  0.400000  0.010811  0.021053  BNB   \n",
              "\n",
              "Direction Weighted Avg F1  \n",
              "Metric                     \n",
              "0                0.461366  \n",
              "1                0.417112  \n",
              "2                0.335465  "
            ],
            "text/html": [
              "\n",
              "  <div id=\"df-363e3b64-2273-4dbf-a451-91c7fccc8327\">\n",
              "    <div class=\"colab-df-container\">\n",
              "      <div>\n",
              "<style scoped>\n",
              "    .dataframe tbody tr th:only-of-type {\n",
              "        vertical-align: middle;\n",
              "    }\n",
              "\n",
              "    .dataframe tbody tr th {\n",
              "        vertical-align: top;\n",
              "    }\n",
              "\n",
              "    .dataframe thead tr th {\n",
              "        text-align: left;\n",
              "    }\n",
              "</style>\n",
              "<table border=\"1\" class=\"dataframe\">\n",
              "  <thead>\n",
              "    <tr>\n",
              "      <th>Direction</th>\n",
              "      <th colspan=\"3\" halign=\"left\">Up</th>\n",
              "      <th colspan=\"3\" halign=\"left\">Down</th>\n",
              "      <th>Coin</th>\n",
              "      <th>Weighted Avg F1</th>\n",
              "    </tr>\n",
              "    <tr>\n",
              "      <th>Metric</th>\n",
              "      <th>Precision</th>\n",
              "      <th>Recall</th>\n",
              "      <th>F1 Score</th>\n",
              "      <th>Precision</th>\n",
              "      <th>Recall</th>\n",
              "      <th>F1 Score</th>\n",
              "      <th></th>\n",
              "      <th></th>\n",
              "    </tr>\n",
              "  </thead>\n",
              "  <tbody>\n",
              "    <tr>\n",
              "      <th>0</th>\n",
              "      <td>0.482051</td>\n",
              "      <td>0.494737</td>\n",
              "      <td>0.488312</td>\n",
              "      <td>0.438596</td>\n",
              "      <td>0.426136</td>\n",
              "      <td>0.432277</td>\n",
              "      <td>BTC</td>\n",
              "      <td>0.461366</td>\n",
              "    </tr>\n",
              "    <tr>\n",
              "      <th>1</th>\n",
              "      <td>0.522255</td>\n",
              "      <td>0.926316</td>\n",
              "      <td>0.667932</td>\n",
              "      <td>0.517241</td>\n",
              "      <td>0.085227</td>\n",
              "      <td>0.146341</td>\n",
              "      <td>ETH</td>\n",
              "      <td>0.417112</td>\n",
              "    </tr>\n",
              "    <tr>\n",
              "      <th>2</th>\n",
              "      <td>0.493075</td>\n",
              "      <td>0.983425</td>\n",
              "      <td>0.656827</td>\n",
              "      <td>0.400000</td>\n",
              "      <td>0.010811</td>\n",
              "      <td>0.021053</td>\n",
              "      <td>BNB</td>\n",
              "      <td>0.335465</td>\n",
              "    </tr>\n",
              "  </tbody>\n",
              "</table>\n",
              "</div>\n",
              "      <button class=\"colab-df-convert\" onclick=\"convertToInteractive('df-363e3b64-2273-4dbf-a451-91c7fccc8327')\"\n",
              "              title=\"Convert this dataframe to an interactive table.\"\n",
              "              style=\"display:none;\">\n",
              "        \n",
              "  <svg xmlns=\"http://www.w3.org/2000/svg\" height=\"24px\"viewBox=\"0 0 24 24\"\n",
              "       width=\"24px\">\n",
              "    <path d=\"M0 0h24v24H0V0z\" fill=\"none\"/>\n",
              "    <path d=\"M18.56 5.44l.94 2.06.94-2.06 2.06-.94-2.06-.94-.94-2.06-.94 2.06-2.06.94zm-11 1L8.5 8.5l.94-2.06 2.06-.94-2.06-.94L8.5 2.5l-.94 2.06-2.06.94zm10 10l.94 2.06.94-2.06 2.06-.94-2.06-.94-.94-2.06-.94 2.06-2.06.94z\"/><path d=\"M17.41 7.96l-1.37-1.37c-.4-.4-.92-.59-1.43-.59-.52 0-1.04.2-1.43.59L10.3 9.45l-7.72 7.72c-.78.78-.78 2.05 0 2.83L4 21.41c.39.39.9.59 1.41.59.51 0 1.02-.2 1.41-.59l7.78-7.78 2.81-2.81c.8-.78.8-2.07 0-2.86zM5.41 20L4 18.59l7.72-7.72 1.47 1.35L5.41 20z\"/>\n",
              "  </svg>\n",
              "      </button>\n",
              "      \n",
              "  <style>\n",
              "    .colab-df-container {\n",
              "      display:flex;\n",
              "      flex-wrap:wrap;\n",
              "      gap: 12px;\n",
              "    }\n",
              "\n",
              "    .colab-df-convert {\n",
              "      background-color: #E8F0FE;\n",
              "      border: none;\n",
              "      border-radius: 50%;\n",
              "      cursor: pointer;\n",
              "      display: none;\n",
              "      fill: #1967D2;\n",
              "      height: 32px;\n",
              "      padding: 0 0 0 0;\n",
              "      width: 32px;\n",
              "    }\n",
              "\n",
              "    .colab-df-convert:hover {\n",
              "      background-color: #E2EBFA;\n",
              "      box-shadow: 0px 1px 2px rgba(60, 64, 67, 0.3), 0px 1px 3px 1px rgba(60, 64, 67, 0.15);\n",
              "      fill: #174EA6;\n",
              "    }\n",
              "\n",
              "    [theme=dark] .colab-df-convert {\n",
              "      background-color: #3B4455;\n",
              "      fill: #D2E3FC;\n",
              "    }\n",
              "\n",
              "    [theme=dark] .colab-df-convert:hover {\n",
              "      background-color: #434B5C;\n",
              "      box-shadow: 0px 1px 3px 1px rgba(0, 0, 0, 0.15);\n",
              "      filter: drop-shadow(0px 1px 2px rgba(0, 0, 0, 0.3));\n",
              "      fill: #FFFFFF;\n",
              "    }\n",
              "  </style>\n",
              "\n",
              "      <script>\n",
              "        const buttonEl =\n",
              "          document.querySelector('#df-363e3b64-2273-4dbf-a451-91c7fccc8327 button.colab-df-convert');\n",
              "        buttonEl.style.display =\n",
              "          google.colab.kernel.accessAllowed ? 'block' : 'none';\n",
              "\n",
              "        async function convertToInteractive(key) {\n",
              "          const element = document.querySelector('#df-363e3b64-2273-4dbf-a451-91c7fccc8327');\n",
              "          const dataTable =\n",
              "            await google.colab.kernel.invokeFunction('convertToInteractive',\n",
              "                                                     [key], {});\n",
              "          if (!dataTable) return;\n",
              "\n",
              "          const docLinkHtml = 'Like what you see? Visit the ' +\n",
              "            '<a target=\"_blank\" href=https://colab.research.google.com/notebooks/data_table.ipynb>data table notebook</a>'\n",
              "            + ' to learn more about interactive tables.';\n",
              "          element.innerHTML = '';\n",
              "          dataTable['output_type'] = 'display_data';\n",
              "          await google.colab.output.renderOutput(dataTable, element);\n",
              "          const docLink = document.createElement('div');\n",
              "          docLink.innerHTML = docLinkHtml;\n",
              "          element.appendChild(docLink);\n",
              "        }\n",
              "      </script>\n",
              "    </div>\n",
              "  </div>\n",
              "  "
            ]
          },
          "metadata": {},
          "execution_count": 122
        }
      ],
      "source": [
        "bnb"
      ],
      "id": "6Puhtpbh9wtY"
    },
    {
      "cell_type": "markdown",
      "metadata": {
        "id": "RUp18-T-CDM8"
      },
      "source": [
        "#Coin 4 : Xrp"
      ],
      "id": "RUp18-T-CDM8"
    },
    {
      "cell_type": "code",
      "execution_count": 123,
      "metadata": {
        "id": "xRyxElFyBxCN"
      },
      "outputs": [],
      "source": [
        "from statsmodels.tsa.arima_model import ARIMA\n",
        "features=['Open', 'Close_return', 'High', 'Low','max_corr_coin_return', 'min_corr_coin_return', 'polarity', 'subjectivity','Close_sma_3', 'Close_sma_7', 'Close_sma_20',\n",
        "            'Close_ema_3', 'Close_ema_7']\n",
        "modelall=ARIMA(endog=xrp_train['Close'],order=(1,2,1),exog=xrp_train[features])\n",
        "fitted = modelall.fit(disp=-1) \n",
        "# Forecast\n",
        "fc, se, conf = fitted.forecast(366,exog=xrp_test[features] ,alpha=0.05)  # 95% conf"
      ],
      "id": "xRyxElFyBxCN"
    },
    {
      "cell_type": "code",
      "execution_count": 124,
      "metadata": {
        "id": "E2Tj7EfyDgPU"
      },
      "outputs": [],
      "source": [
        "resu = fc.mean()"
      ],
      "id": "E2Tj7EfyDgPU"
    },
    {
      "cell_type": "code",
      "execution_count": 125,
      "metadata": {
        "id": "SnyLAIwwDj0D"
      },
      "outputs": [],
      "source": [
        "r_xrp=list()\n",
        "\n",
        "def classify_xrp(ls):\n",
        "  r_xrp.append(0)\n",
        "  for i in range(len(ls)-1):\n",
        "    if ls[i] <ls[i+1]:\n",
        "      r_xrp.append(1)\n",
        "    else:\n",
        "      r_xrp.append(0)\n",
        "  \n",
        "  return r_xrp"
      ],
      "id": "SnyLAIwwDj0D"
    },
    {
      "cell_type": "code",
      "execution_count": 126,
      "metadata": {
        "id": "3_T1XjlJEAza"
      },
      "outputs": [],
      "source": [
        "report = classification_report(xrp_test['target'], classify_xrp(fc), output_dict=True)\n",
        "\n",
        "vals = [report['0']['precision'], report['0']['recall'], report['0']['f1-score'], \n",
        "                    report['1']['precision'], report['1']['recall'], report['1']['f1-score'], \n",
        "                    'XRP', report['weighted avg']['f1-score']]\n",
        "res = res.append(dict(zip(res.columns, vals)), ignore_index=True)\n",
        "xrp=res"
      ],
      "id": "3_T1XjlJEAza"
    },
    {
      "cell_type": "code",
      "execution_count": 127,
      "metadata": {
        "colab": {
          "base_uri": "https://localhost:8080/",
          "height": 0
        },
        "id": "N45GLkxv_Wf4",
        "outputId": "9924829e-74c0-487c-83a6-3fd267f2234c"
      },
      "outputs": [
        {
          "output_type": "execute_result",
          "data": {
            "text/plain": [
              "Direction        Up                          Down                     Coin  \\\n",
              "Metric    Precision    Recall  F1 Score Precision    Recall  F1 Score        \n",
              "0          0.482051  0.494737  0.488312  0.438596  0.426136  0.432277  BTC   \n",
              "1          0.522255  0.926316  0.667932  0.517241  0.085227  0.146341  ETH   \n",
              "2          0.493075  0.983425  0.656827  0.400000  0.010811  0.021053  BNB   \n",
              "3          0.513353  0.920213  0.659048  0.482759  0.078652  0.135266  XRP   \n",
              "\n",
              "Direction Weighted Avg F1  \n",
              "Metric                     \n",
              "0                0.461366  \n",
              "1                0.417112  \n",
              "2                0.335465  \n",
              "3                0.404312  "
            ],
            "text/html": [
              "\n",
              "  <div id=\"df-6efbb968-146b-40c9-9f16-4c1e297d7e03\">\n",
              "    <div class=\"colab-df-container\">\n",
              "      <div>\n",
              "<style scoped>\n",
              "    .dataframe tbody tr th:only-of-type {\n",
              "        vertical-align: middle;\n",
              "    }\n",
              "\n",
              "    .dataframe tbody tr th {\n",
              "        vertical-align: top;\n",
              "    }\n",
              "\n",
              "    .dataframe thead tr th {\n",
              "        text-align: left;\n",
              "    }\n",
              "</style>\n",
              "<table border=\"1\" class=\"dataframe\">\n",
              "  <thead>\n",
              "    <tr>\n",
              "      <th>Direction</th>\n",
              "      <th colspan=\"3\" halign=\"left\">Up</th>\n",
              "      <th colspan=\"3\" halign=\"left\">Down</th>\n",
              "      <th>Coin</th>\n",
              "      <th>Weighted Avg F1</th>\n",
              "    </tr>\n",
              "    <tr>\n",
              "      <th>Metric</th>\n",
              "      <th>Precision</th>\n",
              "      <th>Recall</th>\n",
              "      <th>F1 Score</th>\n",
              "      <th>Precision</th>\n",
              "      <th>Recall</th>\n",
              "      <th>F1 Score</th>\n",
              "      <th></th>\n",
              "      <th></th>\n",
              "    </tr>\n",
              "  </thead>\n",
              "  <tbody>\n",
              "    <tr>\n",
              "      <th>0</th>\n",
              "      <td>0.482051</td>\n",
              "      <td>0.494737</td>\n",
              "      <td>0.488312</td>\n",
              "      <td>0.438596</td>\n",
              "      <td>0.426136</td>\n",
              "      <td>0.432277</td>\n",
              "      <td>BTC</td>\n",
              "      <td>0.461366</td>\n",
              "    </tr>\n",
              "    <tr>\n",
              "      <th>1</th>\n",
              "      <td>0.522255</td>\n",
              "      <td>0.926316</td>\n",
              "      <td>0.667932</td>\n",
              "      <td>0.517241</td>\n",
              "      <td>0.085227</td>\n",
              "      <td>0.146341</td>\n",
              "      <td>ETH</td>\n",
              "      <td>0.417112</td>\n",
              "    </tr>\n",
              "    <tr>\n",
              "      <th>2</th>\n",
              "      <td>0.493075</td>\n",
              "      <td>0.983425</td>\n",
              "      <td>0.656827</td>\n",
              "      <td>0.400000</td>\n",
              "      <td>0.010811</td>\n",
              "      <td>0.021053</td>\n",
              "      <td>BNB</td>\n",
              "      <td>0.335465</td>\n",
              "    </tr>\n",
              "    <tr>\n",
              "      <th>3</th>\n",
              "      <td>0.513353</td>\n",
              "      <td>0.920213</td>\n",
              "      <td>0.659048</td>\n",
              "      <td>0.482759</td>\n",
              "      <td>0.078652</td>\n",
              "      <td>0.135266</td>\n",
              "      <td>XRP</td>\n",
              "      <td>0.404312</td>\n",
              "    </tr>\n",
              "  </tbody>\n",
              "</table>\n",
              "</div>\n",
              "      <button class=\"colab-df-convert\" onclick=\"convertToInteractive('df-6efbb968-146b-40c9-9f16-4c1e297d7e03')\"\n",
              "              title=\"Convert this dataframe to an interactive table.\"\n",
              "              style=\"display:none;\">\n",
              "        \n",
              "  <svg xmlns=\"http://www.w3.org/2000/svg\" height=\"24px\"viewBox=\"0 0 24 24\"\n",
              "       width=\"24px\">\n",
              "    <path d=\"M0 0h24v24H0V0z\" fill=\"none\"/>\n",
              "    <path d=\"M18.56 5.44l.94 2.06.94-2.06 2.06-.94-2.06-.94-.94-2.06-.94 2.06-2.06.94zm-11 1L8.5 8.5l.94-2.06 2.06-.94-2.06-.94L8.5 2.5l-.94 2.06-2.06.94zm10 10l.94 2.06.94-2.06 2.06-.94-2.06-.94-.94-2.06-.94 2.06-2.06.94z\"/><path d=\"M17.41 7.96l-1.37-1.37c-.4-.4-.92-.59-1.43-.59-.52 0-1.04.2-1.43.59L10.3 9.45l-7.72 7.72c-.78.78-.78 2.05 0 2.83L4 21.41c.39.39.9.59 1.41.59.51 0 1.02-.2 1.41-.59l7.78-7.78 2.81-2.81c.8-.78.8-2.07 0-2.86zM5.41 20L4 18.59l7.72-7.72 1.47 1.35L5.41 20z\"/>\n",
              "  </svg>\n",
              "      </button>\n",
              "      \n",
              "  <style>\n",
              "    .colab-df-container {\n",
              "      display:flex;\n",
              "      flex-wrap:wrap;\n",
              "      gap: 12px;\n",
              "    }\n",
              "\n",
              "    .colab-df-convert {\n",
              "      background-color: #E8F0FE;\n",
              "      border: none;\n",
              "      border-radius: 50%;\n",
              "      cursor: pointer;\n",
              "      display: none;\n",
              "      fill: #1967D2;\n",
              "      height: 32px;\n",
              "      padding: 0 0 0 0;\n",
              "      width: 32px;\n",
              "    }\n",
              "\n",
              "    .colab-df-convert:hover {\n",
              "      background-color: #E2EBFA;\n",
              "      box-shadow: 0px 1px 2px rgba(60, 64, 67, 0.3), 0px 1px 3px 1px rgba(60, 64, 67, 0.15);\n",
              "      fill: #174EA6;\n",
              "    }\n",
              "\n",
              "    [theme=dark] .colab-df-convert {\n",
              "      background-color: #3B4455;\n",
              "      fill: #D2E3FC;\n",
              "    }\n",
              "\n",
              "    [theme=dark] .colab-df-convert:hover {\n",
              "      background-color: #434B5C;\n",
              "      box-shadow: 0px 1px 3px 1px rgba(0, 0, 0, 0.15);\n",
              "      filter: drop-shadow(0px 1px 2px rgba(0, 0, 0, 0.3));\n",
              "      fill: #FFFFFF;\n",
              "    }\n",
              "  </style>\n",
              "\n",
              "      <script>\n",
              "        const buttonEl =\n",
              "          document.querySelector('#df-6efbb968-146b-40c9-9f16-4c1e297d7e03 button.colab-df-convert');\n",
              "        buttonEl.style.display =\n",
              "          google.colab.kernel.accessAllowed ? 'block' : 'none';\n",
              "\n",
              "        async function convertToInteractive(key) {\n",
              "          const element = document.querySelector('#df-6efbb968-146b-40c9-9f16-4c1e297d7e03');\n",
              "          const dataTable =\n",
              "            await google.colab.kernel.invokeFunction('convertToInteractive',\n",
              "                                                     [key], {});\n",
              "          if (!dataTable) return;\n",
              "\n",
              "          const docLinkHtml = 'Like what you see? Visit the ' +\n",
              "            '<a target=\"_blank\" href=https://colab.research.google.com/notebooks/data_table.ipynb>data table notebook</a>'\n",
              "            + ' to learn more about interactive tables.';\n",
              "          element.innerHTML = '';\n",
              "          dataTable['output_type'] = 'display_data';\n",
              "          await google.colab.output.renderOutput(dataTable, element);\n",
              "          const docLink = document.createElement('div');\n",
              "          docLink.innerHTML = docLinkHtml;\n",
              "          element.appendChild(docLink);\n",
              "        }\n",
              "      </script>\n",
              "    </div>\n",
              "  </div>\n",
              "  "
            ]
          },
          "metadata": {},
          "execution_count": 127
        }
      ],
      "source": [
        "xrp"
      ],
      "id": "N45GLkxv_Wf4"
    },
    {
      "cell_type": "markdown",
      "metadata": {
        "id": "Zk5yAHw2FFzC"
      },
      "source": [
        "#Coin 5 : Ada"
      ],
      "id": "Zk5yAHw2FFzC"
    },
    {
      "cell_type": "code",
      "execution_count": 128,
      "metadata": {
        "id": "SCKrx4zTERIO"
      },
      "outputs": [],
      "source": [
        "from statsmodels.tsa.arima_model import ARIMA\n",
        "features=['Open', 'Close_return', 'High', 'Low','max_corr_coin_return', 'min_corr_coin_return', 'polarity', 'subjectivity','Close_sma_3', 'Close_sma_7', 'Close_sma_20',\n",
        "            'Close_ema_3', 'Close_ema_7']\n",
        "modelall=ARIMA(endog=ada_train['Close'],order=(1,2,1),exog=ada_train[features])\n",
        "fitted = modelall.fit(disp=-1) \n",
        "# Forecast\n",
        "fc, se, conf = fitted.forecast(366,exog=ada_test[features] ,alpha=0.05)  # 95% conf"
      ],
      "id": "SCKrx4zTERIO"
    },
    {
      "cell_type": "code",
      "execution_count": 129,
      "metadata": {
        "id": "14HAonxzFW-d"
      },
      "outputs": [],
      "source": [
        "resu = fc.mean()"
      ],
      "id": "14HAonxzFW-d"
    },
    {
      "cell_type": "code",
      "execution_count": 130,
      "metadata": {
        "id": "B959l1I1Fhn-"
      },
      "outputs": [],
      "source": [
        "r_ada=list()\n",
        "\n",
        "def classify_ada(ls):\n",
        "  r_ada.append(0)\n",
        "  for i in range(len(ls)-1):\n",
        "    if ls[i] <ls[i+1]:\n",
        "      r_ada.append(1)\n",
        "    else:\n",
        "      r_ada.append(0)\n",
        "  \n",
        "  return r_ada"
      ],
      "id": "B959l1I1Fhn-"
    },
    {
      "cell_type": "code",
      "execution_count": 131,
      "metadata": {
        "id": "fW-MLU9OF1dr"
      },
      "outputs": [],
      "source": [
        "report = classification_report(ada_test['target'], classify_ada(fc), output_dict=True)\n",
        "\n",
        "vals = [report['0']['precision'], report['0']['recall'], report['0']['f1-score'], \n",
        "                    report['1']['precision'], report['1']['recall'], report['1']['f1-score'], \n",
        "                    'ADA', report['weighted avg']['f1-score']]\n",
        "res = res.append(dict(zip(res.columns, vals)), ignore_index=True)\n",
        "ada=res"
      ],
      "id": "fW-MLU9OF1dr"
    },
    {
      "cell_type": "code",
      "execution_count": 132,
      "metadata": {
        "colab": {
          "base_uri": "https://localhost:8080/",
          "height": 0
        },
        "id": "BDrDRfzM_vax",
        "outputId": "c47be2d1-4eaf-4de9-8f25-055517178d0e"
      },
      "outputs": [
        {
          "output_type": "execute_result",
          "data": {
            "text/plain": [
              "Direction        Up                          Down                     Coin  \\\n",
              "Metric    Precision    Recall  F1 Score Precision    Recall  F1 Score        \n",
              "0          0.482051  0.494737  0.488312  0.438596  0.426136  0.432277  BTC   \n",
              "1          0.522255  0.926316  0.667932  0.517241  0.085227  0.146341  ETH   \n",
              "2          0.493075  0.983425  0.656827  0.400000  0.010811  0.021053  BNB   \n",
              "3          0.513353  0.920213  0.659048  0.482759  0.078652  0.135266  XRP   \n",
              "4          0.530055  1.000000  0.692857  0.000000  0.000000  0.000000  ADA   \n",
              "\n",
              "Direction Weighted Avg F1  \n",
              "Metric                     \n",
              "0                0.461366  \n",
              "1                0.417112  \n",
              "2                0.335465  \n",
              "3                0.404312  \n",
              "4                0.367252  "
            ],
            "text/html": [
              "\n",
              "  <div id=\"df-163cef29-8926-478a-b75b-d9165ca81875\">\n",
              "    <div class=\"colab-df-container\">\n",
              "      <div>\n",
              "<style scoped>\n",
              "    .dataframe tbody tr th:only-of-type {\n",
              "        vertical-align: middle;\n",
              "    }\n",
              "\n",
              "    .dataframe tbody tr th {\n",
              "        vertical-align: top;\n",
              "    }\n",
              "\n",
              "    .dataframe thead tr th {\n",
              "        text-align: left;\n",
              "    }\n",
              "</style>\n",
              "<table border=\"1\" class=\"dataframe\">\n",
              "  <thead>\n",
              "    <tr>\n",
              "      <th>Direction</th>\n",
              "      <th colspan=\"3\" halign=\"left\">Up</th>\n",
              "      <th colspan=\"3\" halign=\"left\">Down</th>\n",
              "      <th>Coin</th>\n",
              "      <th>Weighted Avg F1</th>\n",
              "    </tr>\n",
              "    <tr>\n",
              "      <th>Metric</th>\n",
              "      <th>Precision</th>\n",
              "      <th>Recall</th>\n",
              "      <th>F1 Score</th>\n",
              "      <th>Precision</th>\n",
              "      <th>Recall</th>\n",
              "      <th>F1 Score</th>\n",
              "      <th></th>\n",
              "      <th></th>\n",
              "    </tr>\n",
              "  </thead>\n",
              "  <tbody>\n",
              "    <tr>\n",
              "      <th>0</th>\n",
              "      <td>0.482051</td>\n",
              "      <td>0.494737</td>\n",
              "      <td>0.488312</td>\n",
              "      <td>0.438596</td>\n",
              "      <td>0.426136</td>\n",
              "      <td>0.432277</td>\n",
              "      <td>BTC</td>\n",
              "      <td>0.461366</td>\n",
              "    </tr>\n",
              "    <tr>\n",
              "      <th>1</th>\n",
              "      <td>0.522255</td>\n",
              "      <td>0.926316</td>\n",
              "      <td>0.667932</td>\n",
              "      <td>0.517241</td>\n",
              "      <td>0.085227</td>\n",
              "      <td>0.146341</td>\n",
              "      <td>ETH</td>\n",
              "      <td>0.417112</td>\n",
              "    </tr>\n",
              "    <tr>\n",
              "      <th>2</th>\n",
              "      <td>0.493075</td>\n",
              "      <td>0.983425</td>\n",
              "      <td>0.656827</td>\n",
              "      <td>0.400000</td>\n",
              "      <td>0.010811</td>\n",
              "      <td>0.021053</td>\n",
              "      <td>BNB</td>\n",
              "      <td>0.335465</td>\n",
              "    </tr>\n",
              "    <tr>\n",
              "      <th>3</th>\n",
              "      <td>0.513353</td>\n",
              "      <td>0.920213</td>\n",
              "      <td>0.659048</td>\n",
              "      <td>0.482759</td>\n",
              "      <td>0.078652</td>\n",
              "      <td>0.135266</td>\n",
              "      <td>XRP</td>\n",
              "      <td>0.404312</td>\n",
              "    </tr>\n",
              "    <tr>\n",
              "      <th>4</th>\n",
              "      <td>0.530055</td>\n",
              "      <td>1.000000</td>\n",
              "      <td>0.692857</td>\n",
              "      <td>0.000000</td>\n",
              "      <td>0.000000</td>\n",
              "      <td>0.000000</td>\n",
              "      <td>ADA</td>\n",
              "      <td>0.367252</td>\n",
              "    </tr>\n",
              "  </tbody>\n",
              "</table>\n",
              "</div>\n",
              "      <button class=\"colab-df-convert\" onclick=\"convertToInteractive('df-163cef29-8926-478a-b75b-d9165ca81875')\"\n",
              "              title=\"Convert this dataframe to an interactive table.\"\n",
              "              style=\"display:none;\">\n",
              "        \n",
              "  <svg xmlns=\"http://www.w3.org/2000/svg\" height=\"24px\"viewBox=\"0 0 24 24\"\n",
              "       width=\"24px\">\n",
              "    <path d=\"M0 0h24v24H0V0z\" fill=\"none\"/>\n",
              "    <path d=\"M18.56 5.44l.94 2.06.94-2.06 2.06-.94-2.06-.94-.94-2.06-.94 2.06-2.06.94zm-11 1L8.5 8.5l.94-2.06 2.06-.94-2.06-.94L8.5 2.5l-.94 2.06-2.06.94zm10 10l.94 2.06.94-2.06 2.06-.94-2.06-.94-.94-2.06-.94 2.06-2.06.94z\"/><path d=\"M17.41 7.96l-1.37-1.37c-.4-.4-.92-.59-1.43-.59-.52 0-1.04.2-1.43.59L10.3 9.45l-7.72 7.72c-.78.78-.78 2.05 0 2.83L4 21.41c.39.39.9.59 1.41.59.51 0 1.02-.2 1.41-.59l7.78-7.78 2.81-2.81c.8-.78.8-2.07 0-2.86zM5.41 20L4 18.59l7.72-7.72 1.47 1.35L5.41 20z\"/>\n",
              "  </svg>\n",
              "      </button>\n",
              "      \n",
              "  <style>\n",
              "    .colab-df-container {\n",
              "      display:flex;\n",
              "      flex-wrap:wrap;\n",
              "      gap: 12px;\n",
              "    }\n",
              "\n",
              "    .colab-df-convert {\n",
              "      background-color: #E8F0FE;\n",
              "      border: none;\n",
              "      border-radius: 50%;\n",
              "      cursor: pointer;\n",
              "      display: none;\n",
              "      fill: #1967D2;\n",
              "      height: 32px;\n",
              "      padding: 0 0 0 0;\n",
              "      width: 32px;\n",
              "    }\n",
              "\n",
              "    .colab-df-convert:hover {\n",
              "      background-color: #E2EBFA;\n",
              "      box-shadow: 0px 1px 2px rgba(60, 64, 67, 0.3), 0px 1px 3px 1px rgba(60, 64, 67, 0.15);\n",
              "      fill: #174EA6;\n",
              "    }\n",
              "\n",
              "    [theme=dark] .colab-df-convert {\n",
              "      background-color: #3B4455;\n",
              "      fill: #D2E3FC;\n",
              "    }\n",
              "\n",
              "    [theme=dark] .colab-df-convert:hover {\n",
              "      background-color: #434B5C;\n",
              "      box-shadow: 0px 1px 3px 1px rgba(0, 0, 0, 0.15);\n",
              "      filter: drop-shadow(0px 1px 2px rgba(0, 0, 0, 0.3));\n",
              "      fill: #FFFFFF;\n",
              "    }\n",
              "  </style>\n",
              "\n",
              "      <script>\n",
              "        const buttonEl =\n",
              "          document.querySelector('#df-163cef29-8926-478a-b75b-d9165ca81875 button.colab-df-convert');\n",
              "        buttonEl.style.display =\n",
              "          google.colab.kernel.accessAllowed ? 'block' : 'none';\n",
              "\n",
              "        async function convertToInteractive(key) {\n",
              "          const element = document.querySelector('#df-163cef29-8926-478a-b75b-d9165ca81875');\n",
              "          const dataTable =\n",
              "            await google.colab.kernel.invokeFunction('convertToInteractive',\n",
              "                                                     [key], {});\n",
              "          if (!dataTable) return;\n",
              "\n",
              "          const docLinkHtml = 'Like what you see? Visit the ' +\n",
              "            '<a target=\"_blank\" href=https://colab.research.google.com/notebooks/data_table.ipynb>data table notebook</a>'\n",
              "            + ' to learn more about interactive tables.';\n",
              "          element.innerHTML = '';\n",
              "          dataTable['output_type'] = 'display_data';\n",
              "          await google.colab.output.renderOutput(dataTable, element);\n",
              "          const docLink = document.createElement('div');\n",
              "          docLink.innerHTML = docLinkHtml;\n",
              "          element.appendChild(docLink);\n",
              "        }\n",
              "      </script>\n",
              "    </div>\n",
              "  </div>\n",
              "  "
            ]
          },
          "metadata": {},
          "execution_count": 132
        }
      ],
      "source": [
        "ada"
      ],
      "id": "BDrDRfzM_vax"
    },
    {
      "cell_type": "markdown",
      "metadata": {
        "id": "lVa7mym6GM06"
      },
      "source": [
        "#Coin 6 : Doge"
      ],
      "id": "lVa7mym6GM06"
    },
    {
      "cell_type": "code",
      "execution_count": 133,
      "metadata": {
        "id": "IrFrUaN2F7an"
      },
      "outputs": [],
      "source": [
        "from statsmodels.tsa.arima_model import ARIMA\n",
        "features=['Open', 'Close_return', 'High', 'Low','max_corr_coin_return', 'min_corr_coin_return', 'polarity', 'subjectivity','Close_sma_3', 'Close_sma_7', 'Close_sma_20',\n",
        "            'Close_ema_3', 'Close_ema_7']\n",
        "modelall=ARIMA(endog=doge_train['Close'],order=(1,2,1),exog=doge_train[features])\n",
        "fitted = modelall.fit(disp=-1) \n",
        "# Forecast\n",
        "fc, se, conf = fitted.forecast(366,exog=doge_test[features] ,alpha=0.05)  # 95% conf"
      ],
      "id": "IrFrUaN2F7an"
    },
    {
      "cell_type": "code",
      "execution_count": 134,
      "metadata": {
        "id": "FwFmqvwtHLNN"
      },
      "outputs": [],
      "source": [
        "resu = fc.mean()"
      ],
      "id": "FwFmqvwtHLNN"
    },
    {
      "cell_type": "code",
      "execution_count": 135,
      "metadata": {
        "id": "2_U14p3ZHSFA"
      },
      "outputs": [],
      "source": [
        "r_doge=list()\n",
        "\n",
        "def classify_doge(ls):\n",
        "  r_doge.append(0)\n",
        "  for i in range(len(ls)-1):\n",
        "    if ls[i] <ls[i+1]:\n",
        "      r_doge.append(1)\n",
        "    else:\n",
        "      r_doge.append(0)\n",
        "  \n",
        "  return r_doge"
      ],
      "id": "2_U14p3ZHSFA"
    },
    {
      "cell_type": "code",
      "execution_count": 136,
      "metadata": {
        "id": "nG_Snr2tHfra"
      },
      "outputs": [],
      "source": [
        "report = classification_report(doge_test['target'], classify_doge(fc), output_dict=True)\n",
        "\n",
        "vals = [report['0']['precision'], report['0']['recall'], report['0']['f1-score'], \n",
        "                    report['1']['precision'], report['1']['recall'], report['1']['f1-score'], \n",
        "                    'DOGE', report['weighted avg']['f1-score']]\n",
        "res = res.append(dict(zip(res.columns, vals)), ignore_index=True)\n",
        "doge=res"
      ],
      "id": "nG_Snr2tHfra"
    },
    {
      "cell_type": "code",
      "execution_count": 137,
      "metadata": {
        "colab": {
          "base_uri": "https://localhost:8080/",
          "height": 0
        },
        "id": "o4XW6xECAG80",
        "outputId": "bdec2c75-10bf-4c68-968c-2152ef6a3abe"
      },
      "outputs": [
        {
          "output_type": "execute_result",
          "data": {
            "text/plain": [
              "Direction        Up                          Down                      Coin  \\\n",
              "Metric    Precision    Recall  F1 Score Precision    Recall  F1 Score         \n",
              "0          0.482051  0.494737  0.488312  0.438596  0.426136  0.432277   BTC   \n",
              "1          0.522255  0.926316  0.667932  0.517241  0.085227  0.146341   ETH   \n",
              "2          0.493075  0.983425  0.656827  0.400000  0.010811  0.021053   BNB   \n",
              "3          0.513353  0.920213  0.659048  0.482759  0.078652  0.135266   XRP   \n",
              "4          0.530055  1.000000  0.692857  0.000000  0.000000  0.000000   ADA   \n",
              "5          0.250000  0.005435  0.010638  0.494475  0.983516  0.658088  DOGE   \n",
              "\n",
              "Direction Weighted Avg F1  \n",
              "Metric                     \n",
              "0                0.461366  \n",
              "1                0.417112  \n",
              "2                0.335465  \n",
              "3                0.404312  \n",
              "4                0.367252  \n",
              "5                0.332594  "
            ],
            "text/html": [
              "\n",
              "  <div id=\"df-2b2125d5-b692-4a64-a0cb-f9952e7445df\">\n",
              "    <div class=\"colab-df-container\">\n",
              "      <div>\n",
              "<style scoped>\n",
              "    .dataframe tbody tr th:only-of-type {\n",
              "        vertical-align: middle;\n",
              "    }\n",
              "\n",
              "    .dataframe tbody tr th {\n",
              "        vertical-align: top;\n",
              "    }\n",
              "\n",
              "    .dataframe thead tr th {\n",
              "        text-align: left;\n",
              "    }\n",
              "</style>\n",
              "<table border=\"1\" class=\"dataframe\">\n",
              "  <thead>\n",
              "    <tr>\n",
              "      <th>Direction</th>\n",
              "      <th colspan=\"3\" halign=\"left\">Up</th>\n",
              "      <th colspan=\"3\" halign=\"left\">Down</th>\n",
              "      <th>Coin</th>\n",
              "      <th>Weighted Avg F1</th>\n",
              "    </tr>\n",
              "    <tr>\n",
              "      <th>Metric</th>\n",
              "      <th>Precision</th>\n",
              "      <th>Recall</th>\n",
              "      <th>F1 Score</th>\n",
              "      <th>Precision</th>\n",
              "      <th>Recall</th>\n",
              "      <th>F1 Score</th>\n",
              "      <th></th>\n",
              "      <th></th>\n",
              "    </tr>\n",
              "  </thead>\n",
              "  <tbody>\n",
              "    <tr>\n",
              "      <th>0</th>\n",
              "      <td>0.482051</td>\n",
              "      <td>0.494737</td>\n",
              "      <td>0.488312</td>\n",
              "      <td>0.438596</td>\n",
              "      <td>0.426136</td>\n",
              "      <td>0.432277</td>\n",
              "      <td>BTC</td>\n",
              "      <td>0.461366</td>\n",
              "    </tr>\n",
              "    <tr>\n",
              "      <th>1</th>\n",
              "      <td>0.522255</td>\n",
              "      <td>0.926316</td>\n",
              "      <td>0.667932</td>\n",
              "      <td>0.517241</td>\n",
              "      <td>0.085227</td>\n",
              "      <td>0.146341</td>\n",
              "      <td>ETH</td>\n",
              "      <td>0.417112</td>\n",
              "    </tr>\n",
              "    <tr>\n",
              "      <th>2</th>\n",
              "      <td>0.493075</td>\n",
              "      <td>0.983425</td>\n",
              "      <td>0.656827</td>\n",
              "      <td>0.400000</td>\n",
              "      <td>0.010811</td>\n",
              "      <td>0.021053</td>\n",
              "      <td>BNB</td>\n",
              "      <td>0.335465</td>\n",
              "    </tr>\n",
              "    <tr>\n",
              "      <th>3</th>\n",
              "      <td>0.513353</td>\n",
              "      <td>0.920213</td>\n",
              "      <td>0.659048</td>\n",
              "      <td>0.482759</td>\n",
              "      <td>0.078652</td>\n",
              "      <td>0.135266</td>\n",
              "      <td>XRP</td>\n",
              "      <td>0.404312</td>\n",
              "    </tr>\n",
              "    <tr>\n",
              "      <th>4</th>\n",
              "      <td>0.530055</td>\n",
              "      <td>1.000000</td>\n",
              "      <td>0.692857</td>\n",
              "      <td>0.000000</td>\n",
              "      <td>0.000000</td>\n",
              "      <td>0.000000</td>\n",
              "      <td>ADA</td>\n",
              "      <td>0.367252</td>\n",
              "    </tr>\n",
              "    <tr>\n",
              "      <th>5</th>\n",
              "      <td>0.250000</td>\n",
              "      <td>0.005435</td>\n",
              "      <td>0.010638</td>\n",
              "      <td>0.494475</td>\n",
              "      <td>0.983516</td>\n",
              "      <td>0.658088</td>\n",
              "      <td>DOGE</td>\n",
              "      <td>0.332594</td>\n",
              "    </tr>\n",
              "  </tbody>\n",
              "</table>\n",
              "</div>\n",
              "      <button class=\"colab-df-convert\" onclick=\"convertToInteractive('df-2b2125d5-b692-4a64-a0cb-f9952e7445df')\"\n",
              "              title=\"Convert this dataframe to an interactive table.\"\n",
              "              style=\"display:none;\">\n",
              "        \n",
              "  <svg xmlns=\"http://www.w3.org/2000/svg\" height=\"24px\"viewBox=\"0 0 24 24\"\n",
              "       width=\"24px\">\n",
              "    <path d=\"M0 0h24v24H0V0z\" fill=\"none\"/>\n",
              "    <path d=\"M18.56 5.44l.94 2.06.94-2.06 2.06-.94-2.06-.94-.94-2.06-.94 2.06-2.06.94zm-11 1L8.5 8.5l.94-2.06 2.06-.94-2.06-.94L8.5 2.5l-.94 2.06-2.06.94zm10 10l.94 2.06.94-2.06 2.06-.94-2.06-.94-.94-2.06-.94 2.06-2.06.94z\"/><path d=\"M17.41 7.96l-1.37-1.37c-.4-.4-.92-.59-1.43-.59-.52 0-1.04.2-1.43.59L10.3 9.45l-7.72 7.72c-.78.78-.78 2.05 0 2.83L4 21.41c.39.39.9.59 1.41.59.51 0 1.02-.2 1.41-.59l7.78-7.78 2.81-2.81c.8-.78.8-2.07 0-2.86zM5.41 20L4 18.59l7.72-7.72 1.47 1.35L5.41 20z\"/>\n",
              "  </svg>\n",
              "      </button>\n",
              "      \n",
              "  <style>\n",
              "    .colab-df-container {\n",
              "      display:flex;\n",
              "      flex-wrap:wrap;\n",
              "      gap: 12px;\n",
              "    }\n",
              "\n",
              "    .colab-df-convert {\n",
              "      background-color: #E8F0FE;\n",
              "      border: none;\n",
              "      border-radius: 50%;\n",
              "      cursor: pointer;\n",
              "      display: none;\n",
              "      fill: #1967D2;\n",
              "      height: 32px;\n",
              "      padding: 0 0 0 0;\n",
              "      width: 32px;\n",
              "    }\n",
              "\n",
              "    .colab-df-convert:hover {\n",
              "      background-color: #E2EBFA;\n",
              "      box-shadow: 0px 1px 2px rgba(60, 64, 67, 0.3), 0px 1px 3px 1px rgba(60, 64, 67, 0.15);\n",
              "      fill: #174EA6;\n",
              "    }\n",
              "\n",
              "    [theme=dark] .colab-df-convert {\n",
              "      background-color: #3B4455;\n",
              "      fill: #D2E3FC;\n",
              "    }\n",
              "\n",
              "    [theme=dark] .colab-df-convert:hover {\n",
              "      background-color: #434B5C;\n",
              "      box-shadow: 0px 1px 3px 1px rgba(0, 0, 0, 0.15);\n",
              "      filter: drop-shadow(0px 1px 2px rgba(0, 0, 0, 0.3));\n",
              "      fill: #FFFFFF;\n",
              "    }\n",
              "  </style>\n",
              "\n",
              "      <script>\n",
              "        const buttonEl =\n",
              "          document.querySelector('#df-2b2125d5-b692-4a64-a0cb-f9952e7445df button.colab-df-convert');\n",
              "        buttonEl.style.display =\n",
              "          google.colab.kernel.accessAllowed ? 'block' : 'none';\n",
              "\n",
              "        async function convertToInteractive(key) {\n",
              "          const element = document.querySelector('#df-2b2125d5-b692-4a64-a0cb-f9952e7445df');\n",
              "          const dataTable =\n",
              "            await google.colab.kernel.invokeFunction('convertToInteractive',\n",
              "                                                     [key], {});\n",
              "          if (!dataTable) return;\n",
              "\n",
              "          const docLinkHtml = 'Like what you see? Visit the ' +\n",
              "            '<a target=\"_blank\" href=https://colab.research.google.com/notebooks/data_table.ipynb>data table notebook</a>'\n",
              "            + ' to learn more about interactive tables.';\n",
              "          element.innerHTML = '';\n",
              "          dataTable['output_type'] = 'display_data';\n",
              "          await google.colab.output.renderOutput(dataTable, element);\n",
              "          const docLink = document.createElement('div');\n",
              "          docLink.innerHTML = docLinkHtml;\n",
              "          element.appendChild(docLink);\n",
              "        }\n",
              "      </script>\n",
              "    </div>\n",
              "  </div>\n",
              "  "
            ]
          },
          "metadata": {},
          "execution_count": 137
        }
      ],
      "source": [
        "doge"
      ],
      "id": "o4XW6xECAG80"
    },
    {
      "cell_type": "markdown",
      "metadata": {
        "id": "tf76JtU6IDg8"
      },
      "source": [
        "# Coin 7: Matic"
      ],
      "id": "tf76JtU6IDg8"
    },
    {
      "cell_type": "code",
      "execution_count": 138,
      "metadata": {
        "id": "wsoJV1GWHl7F"
      },
      "outputs": [],
      "source": [
        "from statsmodels.tsa.arima_model import ARIMA\n",
        "features=['Open', 'Close_return', 'High', 'Low','max_corr_coin_return', 'min_corr_coin_return', 'polarity', 'subjectivity','Close_sma_3', 'Close_sma_7', 'Close_sma_20',\n",
        "            'Close_ema_3', 'Close_ema_7']\n",
        "modelall=ARIMA(endog=matic_train['Close'],order=(1,2,1),exog=matic_train[features])\n",
        "fitted = modelall.fit(disp=-1) \n",
        "# Forecast\n",
        "fc, se, conf = fitted.forecast(366,exog=matic_test[features] ,alpha=0.05)  # 95% conf"
      ],
      "id": "wsoJV1GWHl7F"
    },
    {
      "cell_type": "code",
      "execution_count": 139,
      "metadata": {
        "id": "VUqAqiWjI023"
      },
      "outputs": [],
      "source": [
        "resu = fc.mean()"
      ],
      "id": "VUqAqiWjI023"
    },
    {
      "cell_type": "code",
      "execution_count": 140,
      "metadata": {
        "id": "XQ4MhKHvI6ky"
      },
      "outputs": [],
      "source": [
        "r_matic=list()\n",
        "\n",
        "def classify_matic(ls):\n",
        "  r_matic.append(0)\n",
        "  for i in range(len(ls)-1):\n",
        "    if ls[i] <ls[i+1]:\n",
        "      r_matic.append(1)\n",
        "    else:\n",
        "      r_matic.append(0)\n",
        "  \n",
        "  return r_matic"
      ],
      "id": "XQ4MhKHvI6ky"
    },
    {
      "cell_type": "code",
      "execution_count": 141,
      "metadata": {
        "id": "sXsxX-TjJGP4"
      },
      "outputs": [],
      "source": [
        "report = classification_report(matic_test['target'], classify_matic(fc), output_dict=True)\n",
        "\n",
        "vals = [report['0']['precision'], report['0']['recall'], report['0']['f1-score'], \n",
        "                    report['1']['precision'], report['1']['recall'], report['1']['f1-score'], \n",
        "                    'MATIC', report['weighted avg']['f1-score']]\n",
        "res = res.append(dict(zip(res.columns, vals)), ignore_index=True)\n",
        "matic=res"
      ],
      "id": "sXsxX-TjJGP4"
    },
    {
      "cell_type": "markdown",
      "metadata": {
        "id": "yTvya1gbJTq6"
      },
      "source": [
        "#Coin 8:Trx"
      ],
      "id": "yTvya1gbJTq6"
    },
    {
      "cell_type": "code",
      "execution_count": 142,
      "metadata": {
        "id": "OjDO-VLPJNn7"
      },
      "outputs": [],
      "source": [
        "from statsmodels.tsa.arima_model import ARIMA\n",
        "features=['Open', 'Close_return', 'High', 'Low','max_corr_coin_return', 'min_corr_coin_return', 'polarity', 'subjectivity','Close_sma_3', 'Close_sma_7', 'Close_sma_20',\n",
        "            'Close_ema_3', 'Close_ema_7']\n",
        "modelall=ARIMA(endog=trx_train['Close'],order=(1,2,1),exog=trx_train[features])\n",
        "fitted = modelall.fit(disp=-1) \n",
        "# Forecast\n",
        "fc, se, conf = fitted.forecast(366,exog=trx_test[features] ,alpha=0.05)  # 95% conf"
      ],
      "id": "OjDO-VLPJNn7"
    },
    {
      "cell_type": "code",
      "execution_count": 143,
      "metadata": {
        "id": "MmT8BA8dJZhP"
      },
      "outputs": [],
      "source": [
        "resu = fc.mean()"
      ],
      "id": "MmT8BA8dJZhP"
    },
    {
      "cell_type": "code",
      "execution_count": 144,
      "metadata": {
        "id": "soPwqd8hJiB8"
      },
      "outputs": [],
      "source": [
        "r_trx=list()\n",
        "\n",
        "def classify_trx(ls):\n",
        "  r_trx.append(0)\n",
        "  for i in range(len(ls)-1):\n",
        "    if ls[i] <ls[i+1]:\n",
        "      r_trx.append(1)\n",
        "    else:\n",
        "      r_trx.append(0)\n",
        "  \n",
        "  return r_trx"
      ],
      "id": "soPwqd8hJiB8"
    },
    {
      "cell_type": "code",
      "execution_count": 145,
      "metadata": {
        "id": "PKPRKF7aJl2U"
      },
      "outputs": [],
      "source": [
        "report = classification_report(trx_test['target'], classify_trx(fc), output_dict=True)\n",
        "\n",
        "vals = [report['0']['precision'], report['0']['recall'], report['0']['f1-score'], \n",
        "                    report['1']['precision'], report['1']['recall'], report['1']['f1-score'], \n",
        "                    'TRX', report['weighted avg']['f1-score']]\n",
        "res = res.append(dict(zip(res.columns, vals)), ignore_index=True)\n"
      ],
      "id": "PKPRKF7aJl2U"
    },
    {
      "cell_type": "markdown",
      "metadata": {
        "id": "HcspWVMkKB-V"
      },
      "source": [
        "# Coin 9:LEO"
      ],
      "id": "HcspWVMkKB-V"
    },
    {
      "cell_type": "code",
      "execution_count": 146,
      "metadata": {
        "id": "klePtLqsJ8tT"
      },
      "outputs": [],
      "source": [
        "from statsmodels.tsa.arima_model import ARIMA\n",
        "features=['Open', 'Close_return', 'High', 'Low','max_corr_coin_return', 'min_corr_coin_return', 'polarity', 'subjectivity','Close_sma_3', 'Close_sma_7', 'Close_sma_20',\n",
        "            'Close_ema_3', 'Close_ema_7']\n",
        "modelall=ARIMA(endog=leo_train['Close'],order=(1,2,1),exog=leo_train[features])\n",
        "fitted = modelall.fit(disp=-1) \n",
        "# Forecast\n",
        "fc, se, conf = fitted.forecast(366,exog=leo_test[features] ,alpha=0.05)  # 95% conf"
      ],
      "id": "klePtLqsJ8tT"
    },
    {
      "cell_type": "code",
      "execution_count": 147,
      "metadata": {
        "id": "Fg1DPWTzKKjG"
      },
      "outputs": [],
      "source": [
        "resu = fc.mean()"
      ],
      "id": "Fg1DPWTzKKjG"
    },
    {
      "cell_type": "code",
      "execution_count": 148,
      "metadata": {
        "id": "U6niahAnKMn-"
      },
      "outputs": [],
      "source": [
        "r_leo=list()\n",
        "\n",
        "def classify_leo(ls):\n",
        "  r_leo.append(0)\n",
        "  for i in range(len(ls)-1):\n",
        "    if ls[i] <ls[i+1]:\n",
        "      r_leo.append(1)\n",
        "    else:\n",
        "      r_leo.append(0)\n",
        "  \n",
        "  return r_leo"
      ],
      "id": "U6niahAnKMn-"
    },
    {
      "cell_type": "code",
      "execution_count": 149,
      "metadata": {
        "id": "HY-_KrTjKYgL"
      },
      "outputs": [],
      "source": [
        "report = classification_report(leo_test['target'], classify_leo(fc), output_dict=True)\n",
        "\n",
        "vals = [report['0']['precision'], report['0']['recall'], report['0']['f1-score'], \n",
        "                    report['1']['precision'], report['1']['recall'], report['1']['f1-score'], \n",
        "                    'LEO', report['weighted avg']['f1-score']]\n",
        "res = res.append(dict(zip(res.columns, vals)), ignore_index=True)\n"
      ],
      "id": "HY-_KrTjKYgL"
    },
    {
      "cell_type": "code",
      "execution_count": 150,
      "metadata": {
        "colab": {
          "base_uri": "https://localhost:8080/",
          "height": 0
        },
        "id": "-Yi5EXbCB9Bk",
        "outputId": "a3cb206b-6a43-46d8-93ec-246dc54a12ff"
      },
      "outputs": [
        {
          "output_type": "execute_result",
          "data": {
            "text/plain": [
              "Direction        Up                          Down                       Coin  \\\n",
              "Metric    Precision    Recall  F1 Score Precision    Recall  F1 Score          \n",
              "0          0.482051  0.494737  0.488312  0.438596  0.426136  0.432277    BTC   \n",
              "1          0.522255  0.926316  0.667932  0.517241  0.085227  0.146341    ETH   \n",
              "2          0.493075  0.983425  0.656827  0.400000  0.010811  0.021053    BNB   \n",
              "3          0.513353  0.920213  0.659048  0.482759  0.078652  0.135266    XRP   \n",
              "4          0.530055  1.000000  0.692857  0.000000  0.000000  0.000000    ADA   \n",
              "5          0.250000  0.005435  0.010638  0.494475  0.983516  0.658088   DOGE   \n",
              "6          0.166667  0.005405  0.010471  0.488889  0.972376  0.650647  MATIC   \n",
              "7          0.409091  0.364162  0.385321  0.481132  0.528497  0.503704    TRX   \n",
              "8          0.485714  0.854749  0.619433  0.490196  0.133690  0.210084    LEO   \n",
              "\n",
              "Direction Weighted Avg F1  \n",
              "Metric                     \n",
              "0                0.461366  \n",
              "1                0.417112  \n",
              "2                0.335465  \n",
              "3                0.404312  \n",
              "4                0.367252  \n",
              "5                0.332594  \n",
              "6                0.327061  \n",
              "7                0.447747  \n",
              "8                0.410285  "
            ],
            "text/html": [
              "\n",
              "  <div id=\"df-2a788c68-ffe9-4085-aa20-cd213044aad2\">\n",
              "    <div class=\"colab-df-container\">\n",
              "      <div>\n",
              "<style scoped>\n",
              "    .dataframe tbody tr th:only-of-type {\n",
              "        vertical-align: middle;\n",
              "    }\n",
              "\n",
              "    .dataframe tbody tr th {\n",
              "        vertical-align: top;\n",
              "    }\n",
              "\n",
              "    .dataframe thead tr th {\n",
              "        text-align: left;\n",
              "    }\n",
              "</style>\n",
              "<table border=\"1\" class=\"dataframe\">\n",
              "  <thead>\n",
              "    <tr>\n",
              "      <th>Direction</th>\n",
              "      <th colspan=\"3\" halign=\"left\">Up</th>\n",
              "      <th colspan=\"3\" halign=\"left\">Down</th>\n",
              "      <th>Coin</th>\n",
              "      <th>Weighted Avg F1</th>\n",
              "    </tr>\n",
              "    <tr>\n",
              "      <th>Metric</th>\n",
              "      <th>Precision</th>\n",
              "      <th>Recall</th>\n",
              "      <th>F1 Score</th>\n",
              "      <th>Precision</th>\n",
              "      <th>Recall</th>\n",
              "      <th>F1 Score</th>\n",
              "      <th></th>\n",
              "      <th></th>\n",
              "    </tr>\n",
              "  </thead>\n",
              "  <tbody>\n",
              "    <tr>\n",
              "      <th>0</th>\n",
              "      <td>0.482051</td>\n",
              "      <td>0.494737</td>\n",
              "      <td>0.488312</td>\n",
              "      <td>0.438596</td>\n",
              "      <td>0.426136</td>\n",
              "      <td>0.432277</td>\n",
              "      <td>BTC</td>\n",
              "      <td>0.461366</td>\n",
              "    </tr>\n",
              "    <tr>\n",
              "      <th>1</th>\n",
              "      <td>0.522255</td>\n",
              "      <td>0.926316</td>\n",
              "      <td>0.667932</td>\n",
              "      <td>0.517241</td>\n",
              "      <td>0.085227</td>\n",
              "      <td>0.146341</td>\n",
              "      <td>ETH</td>\n",
              "      <td>0.417112</td>\n",
              "    </tr>\n",
              "    <tr>\n",
              "      <th>2</th>\n",
              "      <td>0.493075</td>\n",
              "      <td>0.983425</td>\n",
              "      <td>0.656827</td>\n",
              "      <td>0.400000</td>\n",
              "      <td>0.010811</td>\n",
              "      <td>0.021053</td>\n",
              "      <td>BNB</td>\n",
              "      <td>0.335465</td>\n",
              "    </tr>\n",
              "    <tr>\n",
              "      <th>3</th>\n",
              "      <td>0.513353</td>\n",
              "      <td>0.920213</td>\n",
              "      <td>0.659048</td>\n",
              "      <td>0.482759</td>\n",
              "      <td>0.078652</td>\n",
              "      <td>0.135266</td>\n",
              "      <td>XRP</td>\n",
              "      <td>0.404312</td>\n",
              "    </tr>\n",
              "    <tr>\n",
              "      <th>4</th>\n",
              "      <td>0.530055</td>\n",
              "      <td>1.000000</td>\n",
              "      <td>0.692857</td>\n",
              "      <td>0.000000</td>\n",
              "      <td>0.000000</td>\n",
              "      <td>0.000000</td>\n",
              "      <td>ADA</td>\n",
              "      <td>0.367252</td>\n",
              "    </tr>\n",
              "    <tr>\n",
              "      <th>5</th>\n",
              "      <td>0.250000</td>\n",
              "      <td>0.005435</td>\n",
              "      <td>0.010638</td>\n",
              "      <td>0.494475</td>\n",
              "      <td>0.983516</td>\n",
              "      <td>0.658088</td>\n",
              "      <td>DOGE</td>\n",
              "      <td>0.332594</td>\n",
              "    </tr>\n",
              "    <tr>\n",
              "      <th>6</th>\n",
              "      <td>0.166667</td>\n",
              "      <td>0.005405</td>\n",
              "      <td>0.010471</td>\n",
              "      <td>0.488889</td>\n",
              "      <td>0.972376</td>\n",
              "      <td>0.650647</td>\n",
              "      <td>MATIC</td>\n",
              "      <td>0.327061</td>\n",
              "    </tr>\n",
              "    <tr>\n",
              "      <th>7</th>\n",
              "      <td>0.409091</td>\n",
              "      <td>0.364162</td>\n",
              "      <td>0.385321</td>\n",
              "      <td>0.481132</td>\n",
              "      <td>0.528497</td>\n",
              "      <td>0.503704</td>\n",
              "      <td>TRX</td>\n",
              "      <td>0.447747</td>\n",
              "    </tr>\n",
              "    <tr>\n",
              "      <th>8</th>\n",
              "      <td>0.485714</td>\n",
              "      <td>0.854749</td>\n",
              "      <td>0.619433</td>\n",
              "      <td>0.490196</td>\n",
              "      <td>0.133690</td>\n",
              "      <td>0.210084</td>\n",
              "      <td>LEO</td>\n",
              "      <td>0.410285</td>\n",
              "    </tr>\n",
              "  </tbody>\n",
              "</table>\n",
              "</div>\n",
              "      <button class=\"colab-df-convert\" onclick=\"convertToInteractive('df-2a788c68-ffe9-4085-aa20-cd213044aad2')\"\n",
              "              title=\"Convert this dataframe to an interactive table.\"\n",
              "              style=\"display:none;\">\n",
              "        \n",
              "  <svg xmlns=\"http://www.w3.org/2000/svg\" height=\"24px\"viewBox=\"0 0 24 24\"\n",
              "       width=\"24px\">\n",
              "    <path d=\"M0 0h24v24H0V0z\" fill=\"none\"/>\n",
              "    <path d=\"M18.56 5.44l.94 2.06.94-2.06 2.06-.94-2.06-.94-.94-2.06-.94 2.06-2.06.94zm-11 1L8.5 8.5l.94-2.06 2.06-.94-2.06-.94L8.5 2.5l-.94 2.06-2.06.94zm10 10l.94 2.06.94-2.06 2.06-.94-2.06-.94-.94-2.06-.94 2.06-2.06.94z\"/><path d=\"M17.41 7.96l-1.37-1.37c-.4-.4-.92-.59-1.43-.59-.52 0-1.04.2-1.43.59L10.3 9.45l-7.72 7.72c-.78.78-.78 2.05 0 2.83L4 21.41c.39.39.9.59 1.41.59.51 0 1.02-.2 1.41-.59l7.78-7.78 2.81-2.81c.8-.78.8-2.07 0-2.86zM5.41 20L4 18.59l7.72-7.72 1.47 1.35L5.41 20z\"/>\n",
              "  </svg>\n",
              "      </button>\n",
              "      \n",
              "  <style>\n",
              "    .colab-df-container {\n",
              "      display:flex;\n",
              "      flex-wrap:wrap;\n",
              "      gap: 12px;\n",
              "    }\n",
              "\n",
              "    .colab-df-convert {\n",
              "      background-color: #E8F0FE;\n",
              "      border: none;\n",
              "      border-radius: 50%;\n",
              "      cursor: pointer;\n",
              "      display: none;\n",
              "      fill: #1967D2;\n",
              "      height: 32px;\n",
              "      padding: 0 0 0 0;\n",
              "      width: 32px;\n",
              "    }\n",
              "\n",
              "    .colab-df-convert:hover {\n",
              "      background-color: #E2EBFA;\n",
              "      box-shadow: 0px 1px 2px rgba(60, 64, 67, 0.3), 0px 1px 3px 1px rgba(60, 64, 67, 0.15);\n",
              "      fill: #174EA6;\n",
              "    }\n",
              "\n",
              "    [theme=dark] .colab-df-convert {\n",
              "      background-color: #3B4455;\n",
              "      fill: #D2E3FC;\n",
              "    }\n",
              "\n",
              "    [theme=dark] .colab-df-convert:hover {\n",
              "      background-color: #434B5C;\n",
              "      box-shadow: 0px 1px 3px 1px rgba(0, 0, 0, 0.15);\n",
              "      filter: drop-shadow(0px 1px 2px rgba(0, 0, 0, 0.3));\n",
              "      fill: #FFFFFF;\n",
              "    }\n",
              "  </style>\n",
              "\n",
              "      <script>\n",
              "        const buttonEl =\n",
              "          document.querySelector('#df-2a788c68-ffe9-4085-aa20-cd213044aad2 button.colab-df-convert');\n",
              "        buttonEl.style.display =\n",
              "          google.colab.kernel.accessAllowed ? 'block' : 'none';\n",
              "\n",
              "        async function convertToInteractive(key) {\n",
              "          const element = document.querySelector('#df-2a788c68-ffe9-4085-aa20-cd213044aad2');\n",
              "          const dataTable =\n",
              "            await google.colab.kernel.invokeFunction('convertToInteractive',\n",
              "                                                     [key], {});\n",
              "          if (!dataTable) return;\n",
              "\n",
              "          const docLinkHtml = 'Like what you see? Visit the ' +\n",
              "            '<a target=\"_blank\" href=https://colab.research.google.com/notebooks/data_table.ipynb>data table notebook</a>'\n",
              "            + ' to learn more about interactive tables.';\n",
              "          element.innerHTML = '';\n",
              "          dataTable['output_type'] = 'display_data';\n",
              "          await google.colab.output.renderOutput(dataTable, element);\n",
              "          const docLink = document.createElement('div');\n",
              "          docLink.innerHTML = docLinkHtml;\n",
              "          element.appendChild(docLink);\n",
              "        }\n",
              "      </script>\n",
              "    </div>\n",
              "  </div>\n",
              "  "
            ]
          },
          "metadata": {},
          "execution_count": 150
        }
      ],
      "source": [
        "res"
      ],
      "id": "-Yi5EXbCB9Bk"
    },
    {
      "cell_type": "markdown",
      "metadata": {
        "id": "gnSsJSM1fOlZ"
      },
      "source": [
        "# Coin 10 : LTC"
      ],
      "id": "gnSsJSM1fOlZ"
    },
    {
      "cell_type": "code",
      "execution_count": 151,
      "metadata": {
        "id": "zcKgeuPUfRdH"
      },
      "outputs": [],
      "source": [
        "from statsmodels.tsa.arima_model import ARIMA\n",
        "features=['Open', 'Close_return', 'High', 'Low','max_corr_coin_return', 'min_corr_coin_return', 'polarity', 'subjectivity','Close_sma_3', 'Close_sma_7', 'Close_sma_20',\n",
        "            'Close_ema_3', 'Close_ema_7']\n",
        "modelall=ARIMA(endog=ltc_train['Close'],order=(1,2,1),exog=ltc_train[features])\n",
        "fitted = modelall.fit(disp=-1) \n",
        "# Forecast\n",
        "fc, se, conf = fitted.forecast(366,exog=ltc_test[features] ,alpha=0.05)  # 95% conf"
      ],
      "id": "zcKgeuPUfRdH"
    },
    {
      "cell_type": "code",
      "execution_count": 152,
      "metadata": {
        "id": "z2hsUqCmKe8o"
      },
      "outputs": [],
      "source": [
        "resu = fc.mean()"
      ],
      "id": "z2hsUqCmKe8o"
    },
    {
      "cell_type": "code",
      "execution_count": 153,
      "metadata": {
        "id": "pfpIIQB9ffBT"
      },
      "outputs": [],
      "source": [
        "r_ltc=list()\n",
        "\n",
        "def classify_ltc(ls):\n",
        "  r_ltc.append(0)\n",
        "  for i in range(len(ls)-1):\n",
        "    if ls[i] <ls[i+1]:\n",
        "      r_ltc.append(1)\n",
        "    else:\n",
        "      r_ltc.append(0)\n",
        "  \n",
        "  return r_ltc"
      ],
      "id": "pfpIIQB9ffBT"
    },
    {
      "cell_type": "code",
      "execution_count": 154,
      "metadata": {
        "id": "gYxNcTCKffLP"
      },
      "outputs": [],
      "source": [
        "report = classification_report(ltc_test['target'], classify_ltc(fc), output_dict=True)\n",
        "\n",
        "vals = [report['0']['precision'], report['0']['recall'], report['0']['f1-score'], \n",
        "                    report['1']['precision'], report['1']['recall'], report['1']['f1-score'], \n",
        "                    'LTC', report['weighted avg']['f1-score']]\n",
        "res = res.append(dict(zip(res.columns, vals)), ignore_index=True)\n"
      ],
      "id": "gYxNcTCKffLP"
    },
    {
      "cell_type": "code",
      "execution_count": 155,
      "metadata": {
        "id": "NejGTFCsCTqr",
        "colab": {
          "base_uri": "https://localhost:8080/",
          "height": 394
        },
        "outputId": "61af3ee4-4ee1-41bb-ff23-fb9729dcfa4a"
      },
      "outputs": [
        {
          "output_type": "execute_result",
          "data": {
            "text/plain": [
              "Direction        Up                          Down                       Coin  \\\n",
              "Metric    Precision    Recall  F1 Score Precision    Recall  F1 Score          \n",
              "0          0.482051  0.494737  0.488312  0.438596  0.426136  0.432277    BTC   \n",
              "1          0.522255  0.926316  0.667932  0.517241  0.085227  0.146341    ETH   \n",
              "2          0.493075  0.983425  0.656827  0.400000  0.010811  0.021053    BNB   \n",
              "3          0.513353  0.920213  0.659048  0.482759  0.078652  0.135266    XRP   \n",
              "4          0.530055  1.000000  0.692857  0.000000  0.000000  0.000000    ADA   \n",
              "5          0.250000  0.005435  0.010638  0.494475  0.983516  0.658088   DOGE   \n",
              "6          0.166667  0.005405  0.010471  0.488889  0.972376  0.650647  MATIC   \n",
              "7          0.409091  0.364162  0.385321  0.481132  0.528497  0.503704    TRX   \n",
              "8          0.485714  0.854749  0.619433  0.490196  0.133690  0.210084    LEO   \n",
              "9          0.509677  0.868132  0.642276  0.571429  0.173913  0.266667    LTC   \n",
              "\n",
              "Direction Weighted Avg F1  \n",
              "Metric                     \n",
              "0                0.461366  \n",
              "1                0.417112  \n",
              "2                0.335465  \n",
              "3                0.404312  \n",
              "4                0.367252  \n",
              "5                0.332594  \n",
              "6                0.327061  \n",
              "7                0.447747  \n",
              "8                0.410285  \n",
              "9                0.453445  "
            ],
            "text/html": [
              "\n",
              "  <div id=\"df-41ba5680-a3ae-4120-8d8c-512acf654c77\">\n",
              "    <div class=\"colab-df-container\">\n",
              "      <div>\n",
              "<style scoped>\n",
              "    .dataframe tbody tr th:only-of-type {\n",
              "        vertical-align: middle;\n",
              "    }\n",
              "\n",
              "    .dataframe tbody tr th {\n",
              "        vertical-align: top;\n",
              "    }\n",
              "\n",
              "    .dataframe thead tr th {\n",
              "        text-align: left;\n",
              "    }\n",
              "</style>\n",
              "<table border=\"1\" class=\"dataframe\">\n",
              "  <thead>\n",
              "    <tr>\n",
              "      <th>Direction</th>\n",
              "      <th colspan=\"3\" halign=\"left\">Up</th>\n",
              "      <th colspan=\"3\" halign=\"left\">Down</th>\n",
              "      <th>Coin</th>\n",
              "      <th>Weighted Avg F1</th>\n",
              "    </tr>\n",
              "    <tr>\n",
              "      <th>Metric</th>\n",
              "      <th>Precision</th>\n",
              "      <th>Recall</th>\n",
              "      <th>F1 Score</th>\n",
              "      <th>Precision</th>\n",
              "      <th>Recall</th>\n",
              "      <th>F1 Score</th>\n",
              "      <th></th>\n",
              "      <th></th>\n",
              "    </tr>\n",
              "  </thead>\n",
              "  <tbody>\n",
              "    <tr>\n",
              "      <th>0</th>\n",
              "      <td>0.482051</td>\n",
              "      <td>0.494737</td>\n",
              "      <td>0.488312</td>\n",
              "      <td>0.438596</td>\n",
              "      <td>0.426136</td>\n",
              "      <td>0.432277</td>\n",
              "      <td>BTC</td>\n",
              "      <td>0.461366</td>\n",
              "    </tr>\n",
              "    <tr>\n",
              "      <th>1</th>\n",
              "      <td>0.522255</td>\n",
              "      <td>0.926316</td>\n",
              "      <td>0.667932</td>\n",
              "      <td>0.517241</td>\n",
              "      <td>0.085227</td>\n",
              "      <td>0.146341</td>\n",
              "      <td>ETH</td>\n",
              "      <td>0.417112</td>\n",
              "    </tr>\n",
              "    <tr>\n",
              "      <th>2</th>\n",
              "      <td>0.493075</td>\n",
              "      <td>0.983425</td>\n",
              "      <td>0.656827</td>\n",
              "      <td>0.400000</td>\n",
              "      <td>0.010811</td>\n",
              "      <td>0.021053</td>\n",
              "      <td>BNB</td>\n",
              "      <td>0.335465</td>\n",
              "    </tr>\n",
              "    <tr>\n",
              "      <th>3</th>\n",
              "      <td>0.513353</td>\n",
              "      <td>0.920213</td>\n",
              "      <td>0.659048</td>\n",
              "      <td>0.482759</td>\n",
              "      <td>0.078652</td>\n",
              "      <td>0.135266</td>\n",
              "      <td>XRP</td>\n",
              "      <td>0.404312</td>\n",
              "    </tr>\n",
              "    <tr>\n",
              "      <th>4</th>\n",
              "      <td>0.530055</td>\n",
              "      <td>1.000000</td>\n",
              "      <td>0.692857</td>\n",
              "      <td>0.000000</td>\n",
              "      <td>0.000000</td>\n",
              "      <td>0.000000</td>\n",
              "      <td>ADA</td>\n",
              "      <td>0.367252</td>\n",
              "    </tr>\n",
              "    <tr>\n",
              "      <th>5</th>\n",
              "      <td>0.250000</td>\n",
              "      <td>0.005435</td>\n",
              "      <td>0.010638</td>\n",
              "      <td>0.494475</td>\n",
              "      <td>0.983516</td>\n",
              "      <td>0.658088</td>\n",
              "      <td>DOGE</td>\n",
              "      <td>0.332594</td>\n",
              "    </tr>\n",
              "    <tr>\n",
              "      <th>6</th>\n",
              "      <td>0.166667</td>\n",
              "      <td>0.005405</td>\n",
              "      <td>0.010471</td>\n",
              "      <td>0.488889</td>\n",
              "      <td>0.972376</td>\n",
              "      <td>0.650647</td>\n",
              "      <td>MATIC</td>\n",
              "      <td>0.327061</td>\n",
              "    </tr>\n",
              "    <tr>\n",
              "      <th>7</th>\n",
              "      <td>0.409091</td>\n",
              "      <td>0.364162</td>\n",
              "      <td>0.385321</td>\n",
              "      <td>0.481132</td>\n",
              "      <td>0.528497</td>\n",
              "      <td>0.503704</td>\n",
              "      <td>TRX</td>\n",
              "      <td>0.447747</td>\n",
              "    </tr>\n",
              "    <tr>\n",
              "      <th>8</th>\n",
              "      <td>0.485714</td>\n",
              "      <td>0.854749</td>\n",
              "      <td>0.619433</td>\n",
              "      <td>0.490196</td>\n",
              "      <td>0.133690</td>\n",
              "      <td>0.210084</td>\n",
              "      <td>LEO</td>\n",
              "      <td>0.410285</td>\n",
              "    </tr>\n",
              "    <tr>\n",
              "      <th>9</th>\n",
              "      <td>0.509677</td>\n",
              "      <td>0.868132</td>\n",
              "      <td>0.642276</td>\n",
              "      <td>0.571429</td>\n",
              "      <td>0.173913</td>\n",
              "      <td>0.266667</td>\n",
              "      <td>LTC</td>\n",
              "      <td>0.453445</td>\n",
              "    </tr>\n",
              "  </tbody>\n",
              "</table>\n",
              "</div>\n",
              "      <button class=\"colab-df-convert\" onclick=\"convertToInteractive('df-41ba5680-a3ae-4120-8d8c-512acf654c77')\"\n",
              "              title=\"Convert this dataframe to an interactive table.\"\n",
              "              style=\"display:none;\">\n",
              "        \n",
              "  <svg xmlns=\"http://www.w3.org/2000/svg\" height=\"24px\"viewBox=\"0 0 24 24\"\n",
              "       width=\"24px\">\n",
              "    <path d=\"M0 0h24v24H0V0z\" fill=\"none\"/>\n",
              "    <path d=\"M18.56 5.44l.94 2.06.94-2.06 2.06-.94-2.06-.94-.94-2.06-.94 2.06-2.06.94zm-11 1L8.5 8.5l.94-2.06 2.06-.94-2.06-.94L8.5 2.5l-.94 2.06-2.06.94zm10 10l.94 2.06.94-2.06 2.06-.94-2.06-.94-.94-2.06-.94 2.06-2.06.94z\"/><path d=\"M17.41 7.96l-1.37-1.37c-.4-.4-.92-.59-1.43-.59-.52 0-1.04.2-1.43.59L10.3 9.45l-7.72 7.72c-.78.78-.78 2.05 0 2.83L4 21.41c.39.39.9.59 1.41.59.51 0 1.02-.2 1.41-.59l7.78-7.78 2.81-2.81c.8-.78.8-2.07 0-2.86zM5.41 20L4 18.59l7.72-7.72 1.47 1.35L5.41 20z\"/>\n",
              "  </svg>\n",
              "      </button>\n",
              "      \n",
              "  <style>\n",
              "    .colab-df-container {\n",
              "      display:flex;\n",
              "      flex-wrap:wrap;\n",
              "      gap: 12px;\n",
              "    }\n",
              "\n",
              "    .colab-df-convert {\n",
              "      background-color: #E8F0FE;\n",
              "      border: none;\n",
              "      border-radius: 50%;\n",
              "      cursor: pointer;\n",
              "      display: none;\n",
              "      fill: #1967D2;\n",
              "      height: 32px;\n",
              "      padding: 0 0 0 0;\n",
              "      width: 32px;\n",
              "    }\n",
              "\n",
              "    .colab-df-convert:hover {\n",
              "      background-color: #E2EBFA;\n",
              "      box-shadow: 0px 1px 2px rgba(60, 64, 67, 0.3), 0px 1px 3px 1px rgba(60, 64, 67, 0.15);\n",
              "      fill: #174EA6;\n",
              "    }\n",
              "\n",
              "    [theme=dark] .colab-df-convert {\n",
              "      background-color: #3B4455;\n",
              "      fill: #D2E3FC;\n",
              "    }\n",
              "\n",
              "    [theme=dark] .colab-df-convert:hover {\n",
              "      background-color: #434B5C;\n",
              "      box-shadow: 0px 1px 3px 1px rgba(0, 0, 0, 0.15);\n",
              "      filter: drop-shadow(0px 1px 2px rgba(0, 0, 0, 0.3));\n",
              "      fill: #FFFFFF;\n",
              "    }\n",
              "  </style>\n",
              "\n",
              "      <script>\n",
              "        const buttonEl =\n",
              "          document.querySelector('#df-41ba5680-a3ae-4120-8d8c-512acf654c77 button.colab-df-convert');\n",
              "        buttonEl.style.display =\n",
              "          google.colab.kernel.accessAllowed ? 'block' : 'none';\n",
              "\n",
              "        async function convertToInteractive(key) {\n",
              "          const element = document.querySelector('#df-41ba5680-a3ae-4120-8d8c-512acf654c77');\n",
              "          const dataTable =\n",
              "            await google.colab.kernel.invokeFunction('convertToInteractive',\n",
              "                                                     [key], {});\n",
              "          if (!dataTable) return;\n",
              "\n",
              "          const docLinkHtml = 'Like what you see? Visit the ' +\n",
              "            '<a target=\"_blank\" href=https://colab.research.google.com/notebooks/data_table.ipynb>data table notebook</a>'\n",
              "            + ' to learn more about interactive tables.';\n",
              "          element.innerHTML = '';\n",
              "          dataTable['output_type'] = 'display_data';\n",
              "          await google.colab.output.renderOutput(dataTable, element);\n",
              "          const docLink = document.createElement('div');\n",
              "          docLink.innerHTML = docLinkHtml;\n",
              "          element.appendChild(docLink);\n",
              "        }\n",
              "      </script>\n",
              "    </div>\n",
              "  </div>\n",
              "  "
            ]
          },
          "metadata": {},
          "execution_count": 155
        }
      ],
      "source": [
        "\n",
        "res"
      ],
      "id": "NejGTFCsCTqr"
    },
    {
      "cell_type": "code",
      "execution_count": 156,
      "metadata": {
        "id": "JSin06qPCbLm"
      },
      "outputs": [],
      "source": [
        "res.to_csv('classificationreport.csv')"
      ],
      "id": "JSin06qPCbLm"
    },
    {
      "cell_type": "code",
      "execution_count": 156,
      "metadata": {
        "id": "57bcwJ8eUSiY"
      },
      "outputs": [],
      "source": [],
      "id": "57bcwJ8eUSiY"
    }
  ],
  "metadata": {
    "colab": {
      "provenance": []
    },
    "kernelspec": {
      "display_name": "Python 3 (ipykernel)",
      "language": "python",
      "name": "python3"
    },
    "language_info": {
      "codemirror_mode": {
        "name": "ipython",
        "version": 3
      },
      "file_extension": ".py",
      "mimetype": "text/x-python",
      "name": "python",
      "nbconvert_exporter": "python",
      "pygments_lexer": "ipython3",
      "version": "3.8.6"
    }
  },
  "nbformat": 4,
  "nbformat_minor": 5
}