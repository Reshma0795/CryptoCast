{
  "nbformat": 4,
  "nbformat_minor": 0,
  "metadata": {
    "colab": {
      "provenance": []
    },
    "kernelspec": {
      "name": "python3",
      "display_name": "Python 3"
    },
    "language_info": {
      "name": "python"
    },
    "accelerator": "GPU",
    "gpuClass": "standard"
  },
  "cells": [
    {
      "cell_type": "markdown",
      "source": [
        "#Importing the library"
      ],
      "metadata": {
        "id": "jh01lpPAOmTm"
      }
    },
    {
      "cell_type": "code",
      "source": [
        "#Lets import the needed library\n",
        "import tensorflow as tf\n",
        "import numpy as np\n",
        "import pandas as pd\n",
        "import matplotlib.pyplot as plt\n",
        "import nltk\n",
        "from collections import defaultdict\n",
        "from collections import Counter\n",
        "import seaborn as sns\n",
        "import networkx as nx\n",
        "from nltk.cluster.util import cosine_distance\n",
        "from wordcloud import WordCloud\n",
        "from textblob import TextBlob"
      ],
      "metadata": {
        "id": "jL4-53L0Ojth"
      },
      "execution_count": 1,
      "outputs": []
    },
    {
      "cell_type": "markdown",
      "source": [
        "# Reading the post and tweets scraped"
      ],
      "metadata": {
        "id": "j4gvvFF7m_9r"
      }
    },
    {
      "cell_type": "code",
      "source": [
        "# Reading the dataset of the tweets \n",
        "df=pd.read_csv(\"/content/scrapped_data2.csv\")"
      ],
      "metadata": {
        "id": "nlyDt1KMzhHj"
      },
      "execution_count": 2,
      "outputs": []
    },
    {
      "cell_type": "markdown",
      "source": [
        "# Analysing the dataframe"
      ],
      "metadata": {
        "id": "Wdd8Vd1enHFe"
      }
    },
    {
      "cell_type": "markdown",
      "source": [
        "## Shape of the dataset"
      ],
      "metadata": {
        "id": "Y_nPVd_snNuX"
      }
    },
    {
      "cell_type": "code",
      "source": [
        "# Seeing the shape of the dataset\n",
        "df.shape"
      ],
      "metadata": {
        "colab": {
          "base_uri": "https://localhost:8080/"
        },
        "id": "H1XA9hPYz9_M",
        "outputId": "b963cdff-1174-4d61-ab6d-4f2969adf843"
      },
      "execution_count": 3,
      "outputs": [
        {
          "output_type": "execute_result",
          "data": {
            "text/plain": [
              "(171842, 10)"
            ]
          },
          "metadata": {},
          "execution_count": 3
        }
      ]
    },
    {
      "cell_type": "markdown",
      "source": [
        "## Info on the dataset"
      ],
      "metadata": {
        "id": "B3r0tbQvnSrs"
      }
    },
    {
      "cell_type": "code",
      "source": [
        "#Lets get info on the dataset\n",
        "df.info()"
      ],
      "metadata": {
        "colab": {
          "base_uri": "https://localhost:8080/"
        },
        "id": "SZYpPboZOlHW",
        "outputId": "3ecc1c1a-17cf-41c4-da59-3d588de9a701"
      },
      "execution_count": 4,
      "outputs": [
        {
          "output_type": "stream",
          "name": "stdout",
          "text": [
            "<class 'pandas.core.frame.DataFrame'>\n",
            "RangeIndex: 171842 entries, 0 to 171841\n",
            "Data columns (total 10 columns):\n",
            " #   Column                 Non-Null Count   Dtype \n",
            "---  ------                 --------------   ----- \n",
            " 0   Post ID                171842 non-null  object\n",
            " 1   Title                  171842 non-null  object\n",
            " 2   Url                    171827 non-null  object\n",
            " 3   Author                 171842 non-null  object\n",
            " 4   Score                  171842 non-null  int64 \n",
            " 5   Publish Date           171842 non-null  object\n",
            " 6   Total No. of Comments  171842 non-null  int64 \n",
            " 7   Permalink              171842 non-null  object\n",
            " 8   Flair                  139952 non-null  object\n",
            " 9   Text                   104903 non-null  object\n",
            "dtypes: int64(2), object(8)\n",
            "memory usage: 13.1+ MB\n"
          ]
        }
      ]
    },
    {
      "cell_type": "markdown",
      "source": [
        "## Seeing first few rows of the dataset"
      ],
      "metadata": {
        "id": "xdQOHYuInZCX"
      }
    },
    {
      "cell_type": "code",
      "source": [
        "#Seeing the dataset \n",
        "df.head()"
      ],
      "metadata": {
        "colab": {
          "base_uri": "https://localhost:8080/",
          "height": 669
        },
        "id": "s-72ajgz0NeU",
        "outputId": "278ec2ec-ef9c-4514-b73c-edb56750dfaf"
      },
      "execution_count": 5,
      "outputs": [
        {
          "output_type": "execute_result",
          "data": {
            "text/plain": [
              "  Post ID                                              Title  \\\n",
              "0  dlk314     Crypto Retail Adoption Improving - Crypto News   \n",
              "1  dlk8tj                              Pi Crypto Beta Invite   \n",
              "2  dlkn0n                     Crypto TA Morning Update 10/22   \n",
              "3  dllneq  #BTC It’s been months since the crypto winter ...   \n",
              "4  dlmrd5  Crypto Trading in South Korea Is Dying; Steep ...   \n",
              "\n",
              "                                                 Url         Author  Score  \\\n",
              "0  https://bitboycrypto.com/crypto-retail-adoptio...  _solowhizkid_      1   \n",
              "1  https://www.reddit.com/r/CryptoCurrency/commen...       BrianCog      1   \n",
              "2        https://www.youtube.com/watch?v=VJky7ErIy0g         TCr0wn      0   \n",
              "3  https://www.reddit.com/r/CryptoCurrency/commen...  webnowcompany      1   \n",
              "4  https://bitcoinexchangeguide.com/crypto-tradin...   LivingPublic      1   \n",
              "\n",
              "          Publish Date  Total No. of Comments  \\\n",
              "0  2019-10-23 00:09:06                      1   \n",
              "1  2019-10-23 00:20:24                      0   \n",
              "2  2019-10-23 00:48:57                      2   \n",
              "3  2019-10-23 01:57:40                      1   \n",
              "4  2019-10-23 03:12:27                      1   \n",
              "\n",
              "                                           Permalink         Flair       Text  \n",
              "0  /r/CryptoCurrency/comments/dlk314/crypto_retai...  GENERAL-NEWS        NaN  \n",
              "1  /r/CryptoCurrency/comments/dlk8tj/pi_crypto_be...           NaN  [removed]  \n",
              "2  /r/CryptoCurrency/comments/dlkn0n/crypto_ta_mo...       TRADING  [deleted]  \n",
              "3  /r/CryptoCurrency/comments/dllneq/btc_its_been...           NaN  [removed]  \n",
              "4  /r/CryptoCurrency/comments/dlmrd5/crypto_tradi...           NaN        NaN  "
            ],
            "text/html": [
              "\n",
              "  <div id=\"df-732f377e-c63c-4100-8df9-faa9ad777da8\">\n",
              "    <div class=\"colab-df-container\">\n",
              "      <div>\n",
              "<style scoped>\n",
              "    .dataframe tbody tr th:only-of-type {\n",
              "        vertical-align: middle;\n",
              "    }\n",
              "\n",
              "    .dataframe tbody tr th {\n",
              "        vertical-align: top;\n",
              "    }\n",
              "\n",
              "    .dataframe thead th {\n",
              "        text-align: right;\n",
              "    }\n",
              "</style>\n",
              "<table border=\"1\" class=\"dataframe\">\n",
              "  <thead>\n",
              "    <tr style=\"text-align: right;\">\n",
              "      <th></th>\n",
              "      <th>Post ID</th>\n",
              "      <th>Title</th>\n",
              "      <th>Url</th>\n",
              "      <th>Author</th>\n",
              "      <th>Score</th>\n",
              "      <th>Publish Date</th>\n",
              "      <th>Total No. of Comments</th>\n",
              "      <th>Permalink</th>\n",
              "      <th>Flair</th>\n",
              "      <th>Text</th>\n",
              "    </tr>\n",
              "  </thead>\n",
              "  <tbody>\n",
              "    <tr>\n",
              "      <th>0</th>\n",
              "      <td>dlk314</td>\n",
              "      <td>Crypto Retail Adoption Improving - Crypto News</td>\n",
              "      <td>https://bitboycrypto.com/crypto-retail-adoptio...</td>\n",
              "      <td>_solowhizkid_</td>\n",
              "      <td>1</td>\n",
              "      <td>2019-10-23 00:09:06</td>\n",
              "      <td>1</td>\n",
              "      <td>/r/CryptoCurrency/comments/dlk314/crypto_retai...</td>\n",
              "      <td>GENERAL-NEWS</td>\n",
              "      <td>NaN</td>\n",
              "    </tr>\n",
              "    <tr>\n",
              "      <th>1</th>\n",
              "      <td>dlk8tj</td>\n",
              "      <td>Pi Crypto Beta Invite</td>\n",
              "      <td>https://www.reddit.com/r/CryptoCurrency/commen...</td>\n",
              "      <td>BrianCog</td>\n",
              "      <td>1</td>\n",
              "      <td>2019-10-23 00:20:24</td>\n",
              "      <td>0</td>\n",
              "      <td>/r/CryptoCurrency/comments/dlk8tj/pi_crypto_be...</td>\n",
              "      <td>NaN</td>\n",
              "      <td>[removed]</td>\n",
              "    </tr>\n",
              "    <tr>\n",
              "      <th>2</th>\n",
              "      <td>dlkn0n</td>\n",
              "      <td>Crypto TA Morning Update 10/22</td>\n",
              "      <td>https://www.youtube.com/watch?v=VJky7ErIy0g</td>\n",
              "      <td>TCr0wn</td>\n",
              "      <td>0</td>\n",
              "      <td>2019-10-23 00:48:57</td>\n",
              "      <td>2</td>\n",
              "      <td>/r/CryptoCurrency/comments/dlkn0n/crypto_ta_mo...</td>\n",
              "      <td>TRADING</td>\n",
              "      <td>[deleted]</td>\n",
              "    </tr>\n",
              "    <tr>\n",
              "      <th>3</th>\n",
              "      <td>dllneq</td>\n",
              "      <td>#BTC It’s been months since the crypto winter ...</td>\n",
              "      <td>https://www.reddit.com/r/CryptoCurrency/commen...</td>\n",
              "      <td>webnowcompany</td>\n",
              "      <td>1</td>\n",
              "      <td>2019-10-23 01:57:40</td>\n",
              "      <td>1</td>\n",
              "      <td>/r/CryptoCurrency/comments/dllneq/btc_its_been...</td>\n",
              "      <td>NaN</td>\n",
              "      <td>[removed]</td>\n",
              "    </tr>\n",
              "    <tr>\n",
              "      <th>4</th>\n",
              "      <td>dlmrd5</td>\n",
              "      <td>Crypto Trading in South Korea Is Dying; Steep ...</td>\n",
              "      <td>https://bitcoinexchangeguide.com/crypto-tradin...</td>\n",
              "      <td>LivingPublic</td>\n",
              "      <td>1</td>\n",
              "      <td>2019-10-23 03:12:27</td>\n",
              "      <td>1</td>\n",
              "      <td>/r/CryptoCurrency/comments/dlmrd5/crypto_tradi...</td>\n",
              "      <td>NaN</td>\n",
              "      <td>NaN</td>\n",
              "    </tr>\n",
              "  </tbody>\n",
              "</table>\n",
              "</div>\n",
              "      <button class=\"colab-df-convert\" onclick=\"convertToInteractive('df-732f377e-c63c-4100-8df9-faa9ad777da8')\"\n",
              "              title=\"Convert this dataframe to an interactive table.\"\n",
              "              style=\"display:none;\">\n",
              "        \n",
              "  <svg xmlns=\"http://www.w3.org/2000/svg\" height=\"24px\"viewBox=\"0 0 24 24\"\n",
              "       width=\"24px\">\n",
              "    <path d=\"M0 0h24v24H0V0z\" fill=\"none\"/>\n",
              "    <path d=\"M18.56 5.44l.94 2.06.94-2.06 2.06-.94-2.06-.94-.94-2.06-.94 2.06-2.06.94zm-11 1L8.5 8.5l.94-2.06 2.06-.94-2.06-.94L8.5 2.5l-.94 2.06-2.06.94zm10 10l.94 2.06.94-2.06 2.06-.94-2.06-.94-.94-2.06-.94 2.06-2.06.94z\"/><path d=\"M17.41 7.96l-1.37-1.37c-.4-.4-.92-.59-1.43-.59-.52 0-1.04.2-1.43.59L10.3 9.45l-7.72 7.72c-.78.78-.78 2.05 0 2.83L4 21.41c.39.39.9.59 1.41.59.51 0 1.02-.2 1.41-.59l7.78-7.78 2.81-2.81c.8-.78.8-2.07 0-2.86zM5.41 20L4 18.59l7.72-7.72 1.47 1.35L5.41 20z\"/>\n",
              "  </svg>\n",
              "      </button>\n",
              "      \n",
              "  <style>\n",
              "    .colab-df-container {\n",
              "      display:flex;\n",
              "      flex-wrap:wrap;\n",
              "      gap: 12px;\n",
              "    }\n",
              "\n",
              "    .colab-df-convert {\n",
              "      background-color: #E8F0FE;\n",
              "      border: none;\n",
              "      border-radius: 50%;\n",
              "      cursor: pointer;\n",
              "      display: none;\n",
              "      fill: #1967D2;\n",
              "      height: 32px;\n",
              "      padding: 0 0 0 0;\n",
              "      width: 32px;\n",
              "    }\n",
              "\n",
              "    .colab-df-convert:hover {\n",
              "      background-color: #E2EBFA;\n",
              "      box-shadow: 0px 1px 2px rgba(60, 64, 67, 0.3), 0px 1px 3px 1px rgba(60, 64, 67, 0.15);\n",
              "      fill: #174EA6;\n",
              "    }\n",
              "\n",
              "    [theme=dark] .colab-df-convert {\n",
              "      background-color: #3B4455;\n",
              "      fill: #D2E3FC;\n",
              "    }\n",
              "\n",
              "    [theme=dark] .colab-df-convert:hover {\n",
              "      background-color: #434B5C;\n",
              "      box-shadow: 0px 1px 3px 1px rgba(0, 0, 0, 0.15);\n",
              "      filter: drop-shadow(0px 1px 2px rgba(0, 0, 0, 0.3));\n",
              "      fill: #FFFFFF;\n",
              "    }\n",
              "  </style>\n",
              "\n",
              "      <script>\n",
              "        const buttonEl =\n",
              "          document.querySelector('#df-732f377e-c63c-4100-8df9-faa9ad777da8 button.colab-df-convert');\n",
              "        buttonEl.style.display =\n",
              "          google.colab.kernel.accessAllowed ? 'block' : 'none';\n",
              "\n",
              "        async function convertToInteractive(key) {\n",
              "          const element = document.querySelector('#df-732f377e-c63c-4100-8df9-faa9ad777da8');\n",
              "          const dataTable =\n",
              "            await google.colab.kernel.invokeFunction('convertToInteractive',\n",
              "                                                     [key], {});\n",
              "          if (!dataTable) return;\n",
              "\n",
              "          const docLinkHtml = 'Like what you see? Visit the ' +\n",
              "            '<a target=\"_blank\" href=https://colab.research.google.com/notebooks/data_table.ipynb>data table notebook</a>'\n",
              "            + ' to learn more about interactive tables.';\n",
              "          element.innerHTML = '';\n",
              "          dataTable['output_type'] = 'display_data';\n",
              "          await google.colab.output.renderOutput(dataTable, element);\n",
              "          const docLink = document.createElement('div');\n",
              "          docLink.innerHTML = docLinkHtml;\n",
              "          element.appendChild(docLink);\n",
              "        }\n",
              "      </script>\n",
              "    </div>\n",
              "  </div>\n",
              "  "
            ]
          },
          "metadata": {},
          "execution_count": 5
        }
      ]
    },
    {
      "cell_type": "markdown",
      "source": [
        "## Datatypes of the columns of the dataframe"
      ],
      "metadata": {
        "id": "amSq2b8Ynja9"
      }
    },
    {
      "cell_type": "code",
      "source": [
        "#Checking the datatypes of the columns in the dataframe\n",
        "df.dtypes"
      ],
      "metadata": {
        "colab": {
          "base_uri": "https://localhost:8080/"
        },
        "id": "nbHPxSxOMXTN",
        "outputId": "50b6d13f-afac-450b-cc66-d0242d9296b8"
      },
      "execution_count": 6,
      "outputs": [
        {
          "output_type": "execute_result",
          "data": {
            "text/plain": [
              "Post ID                  object\n",
              "Title                    object\n",
              "Url                      object\n",
              "Author                   object\n",
              "Score                     int64\n",
              "Publish Date             object\n",
              "Total No. of Comments     int64\n",
              "Permalink                object\n",
              "Flair                    object\n",
              "Text                     object\n",
              "dtype: object"
            ]
          },
          "metadata": {},
          "execution_count": 6
        }
      ]
    },
    {
      "cell_type": "markdown",
      "source": [
        "##Counting the NA values on the Text and Title Columns"
      ],
      "metadata": {
        "id": "ET818eM2oPFd"
      }
    },
    {
      "cell_type": "code",
      "source": [
        "#Lets count the number of na in the text column\n",
        "df['Text'].isna().sum()"
      ],
      "metadata": {
        "colab": {
          "base_uri": "https://localhost:8080/"
        },
        "id": "4mFBTRGR0QaM",
        "outputId": "731b98c1-d268-4f1b-b8f4-d476b83b6652"
      },
      "execution_count": 7,
      "outputs": [
        {
          "output_type": "execute_result",
          "data": {
            "text/plain": [
              "66939"
            ]
          },
          "metadata": {},
          "execution_count": 7
        }
      ]
    },
    {
      "cell_type": "code",
      "source": [
        "#Checking the number of na columns in the title column\n",
        "df.Title.isna().sum()"
      ],
      "metadata": {
        "colab": {
          "base_uri": "https://localhost:8080/"
        },
        "id": "zt56In4wNYsz",
        "outputId": "af2035ea-4360-4a1e-8c95-97c07afe2ab0"
      },
      "execution_count": 8,
      "outputs": [
        {
          "output_type": "execute_result",
          "data": {
            "text/plain": [
              "0"
            ]
          },
          "metadata": {},
          "execution_count": 8
        }
      ]
    },
    {
      "cell_type": "code",
      "source": [
        "# Since the text column is the most important column inthe dataframe checking unneccesary columns in the dataframe\n",
        "df['Text'].value_counts()"
      ],
      "metadata": {
        "colab": {
          "base_uri": "https://localhost:8080/"
        },
        "id": "j8K-uJyi1ONr",
        "outputId": "581b9b3c-0eb8-4ffa-ee69-786cf70778fa"
      },
      "execution_count": 9,
      "outputs": [
        {
          "output_type": "execute_result",
          "data": {
            "text/plain": [
              "[removed]                                                                                                                                                                                                                                                                                                                                                                                                                                                                                                                                                                                                                                                                                                                                                                                                                                                                                                                                                                                                                                                                                                                                                                                                                                                                                                                                                                                                                                                                                                                                                                                                                                                                                                                                                                                                                                                                                                                                                                                                                                                                                                                                                                                                                                                                                                                                                                                                                                                                                                                                                                                                                                                                                                                                                                                                                                                                                                                                                                                                                                                                                                                                                                                                                                                                                                                                                                                                                                                                                                                                                                                                                                                                                                                                                                                                                                                                                                                                                                                                                                                                                                                       71099\n",
              "[deleted]                                                                                                                                                                                                                                                                                                                                                                                                                                                                                                                                                                                                                                                                                                                                                                                                                                                                                                                                                                                                                                                                                                                                                                                                                                                                                                                                                                                                                                                                                                                                                                                                                                                                                                                                                                                                                                                                                                                                                                                                                                                                                                                                                                                                                                                                                                                                                                                                                                                                                                                                                                                                                                                                                                                                                                                                                                                                                                                                                                                                                                                                                                                                                                                                                                                                                                                                                                                                                                                                                                                                                                                                                                                                                                                                                                                                                                                                                                                                                                                                                                                                                                                        7392\n",
              "https://mobile.twitter.com/DefiPte/status/1406956928329261056                                                                                                                                                                                                                                                                                                                                                                                                                                                                                                                                                                                                                                                                                                                                                                                                                                                                                                                                                                                                                                                                                                                                                                                                                                                                                                                                                                                                                                                                                                                                                                                                                                                                                                                                                                                                                                                                                                                                                                                                                                                                                                                                                                                                                                                                                                                                                                                                                                                                                                                                                                                                                                                                                                                                                                                                                                                                                                                                                                                                                                                                                                                                                                                                                                                                                                                                                                                                                                                                                                                                                                                                                                                                                                                                                                                                                                                                                                                                                                                                                                                                       8\n",
              "I see a lot of newcomers to the space that have questions about basic things. Feel free to ask them here or DM me if need any help. I want to welcome you to the space and help you get started. Hopefully the mods allow this to stay up and we have a helpful community discussion.                                                                                                                                                                                                                                                                                                                                                                                                                                                                                                                                                                                                                                                                                                                                                                                                                                                                                                                                                                                                                                                                                                                                                                                                                                                                                                                                                                                                                                                                                                                                                                                                                                                                                                                                                                                                                                                                                                                                                                                                                                                                                                                                                                                                                                                                                                                                                                                                                                                                                                                                                                                                                                                                                                                                                                                                                                                                                                                                                                                                                                                                                                                                                                                                                                                                                                                                                                                                                                                                                                                                                                                                                                                                                                                                                                                                                                               5\n",
              "I've been using an online bank for the longest time, but Plaid hasn't been working for the last two years (e.g. can't fund any accounts via ACH now, and I'm not gonna pay for a wire lol) and I'm finally fed up enough with it to change.  I'm most interested in larger brick and mortar banks: really all I'm trying to avoid is a bank telling me I can't send money to crypto-related platforms, and I've been hearing different things about different banks' stances on crypto.  Any recommendations or banks to avoid?                                                                                                                                                                                                                                                                                                                                                                                                                                                                                                                                                                                                                                                                                                                                                                                                                                                                                                                                                                                                                                                                                                                                                                                                                                                                                                                                                                                                                                                                                                                                                                                                                                                                                                                                                                                                                                                                                                                                                                                                                                                                                                                                                                                                                                                                                                                                                                                                                                                                                                                                                                                                                                                                                                                                                                                                                                                                                                                                                                                                                                                                                                                                                                                                                                                                                                                                                                                                                                                                                                                                                                                                     4\n",
              "                                                                                                                                                                                                                                                                                                                                                                                                                                                                                                                                                                                                                                                                                                                                                                                                                                                                                                                                                                                                                                                                                                                                                                                                                                                                                                                                                                                                                                                                                                                                                                                                                                                                                                                                                                                                                                                                                                                                                                                                                                                                                                                                                                                                                                                                                                                                                                                                                                                                                                                                                                                                                                                                                                                                                                                                                                                                                                                                                                                                                                                                                                                                                                                                                                                                                                                                                                                                                                                                                                                                                                                                                                                                                                                                                                                                                                                                                                                                                                                                                                                                                                                                ...  \n",
              "Hi guys !\\n\\nI own 3 online stores and for the moment I accept credit card and paypal like everyone. But since a long time (since I am interested in crypto) I want to accept crypto payments !\\n\\nMy questions are :\\n\\nHow can I implement this? Is there something like paypal for cryptopayment? When the payment is ok, it confirms and I send the product? Or does I need to do it manually? With others payments methods, all is automatics and it give me a notification when I need to send the product!\\n\\nWith crypto it looks more complicated, like less \"officialy\", I can't just let my crypto adress and tell them to send me an email with their crypto adress and verify manually that this is the same guy who pay for which product...\\n\\nHave you some advices?\\n\\nI hope this is clear, because this is not my first language and this was complicated to write \\n\\nThank you guys                                                                                                                                                                                                                                                                                                                                                                                                                                                                                                                                                                                                                                                                                                                                                                                                                                                                                                                                                                                                                                                                                                                                                                                                                                                                                                                                                                                                                                                                                                                                                                                                                                                                                                                                                                                                                                                                                                                                                                                                                                                                                                                                                                                                                                                                                                                                                                                                                                                                                                                                                                                                                                                                                                                                                                                                                                                                                                                                                                                                                                                                                                                                                                                                                            1\n",
              "Many people have posted in the past regarding how and why to talk to their spouse or partner regarding crypto. If anything happens to you, does your partner know how to access the various wallets and exchange accounts many of us hold? This is important but not what I'm talking about.\\n\\nThere are two primary reasons I will discuss in this post:\\n\\n1. Taxes\\n\\n2. Rewards/\"Earn\"\\n\\nFor number 1 you will need to consult your local tax laws but many places around the world allow for partners to be taxed individually for capital gains. In the UK for instance, that means that if you and your partner \"split\" your stack and take profits as individuals you gain an extra £12k-ish before tax.\\n\\nFor number 2, not only is this important, **I would strongly suggest you pursue this now if you consider the current market to be in a dip that we will recover from**. Earn and rewards programmes like Coinbase earn are extremely valuable ways to grow your stack because they are FREE. Particularly if you are a small/new investor. Many sites/services offer these sorts of rewards. I recently referred my wife to CB and made the minimum purchase of BTC on her account netting us a bonus £14 of BTC between us. She provided all the KYC and was off the earn waitlist within a few days (I recognise this is not always the experience, I'm not sure why, if you think it will take longer then more reason to start the process now). That netted us about a further £20 in free crypto. \\n\\nBut here's the kicker: **rewards are issued in fiat, not crypto, meaning that if we recover from this \"dip\" then that £34 will be worth much more. Earning during the dip is a big advantage.**\\n\\nA final note, and not one I included in the main list as I have a vested interest, is the use of Crypto.com card (or similar crypto rewards visa cards). I rarely go out shopping so for the most part the physical card is of limited use. I can use the virtual card no problem. My wife however, does shop, and would do so regardless of what we were doing in the crypto space. So letting her take my card for any purchases makes perfect sense. \\n\\n-----------------\\n\\ninb4 \"you have wife\", jokes about divorce or selling etc.\\n\\n**If you're single then here's something else for you**: maybe you have a sibling or friend. Tell them you would like to purchase some Bitcoin for them for their Birthday and help them set up and CB account. Refer them. Get them set up with earn. You will both benefit and they might benefit a lot. If you have people in your life that you care about then you can use this as a way to gift them a little more, even if you think they'll probably forget about it a week after you do it (which might be a great strategy on their part).                                                                                                                                                                                                                                                                                                                                                                                                                                                                                                                                                                                                                                                                                                                                                                                                                                                                                                                                                                                                                                                                                                                                                                                                                                                                                             1\n",
              "Discussion/ question only. Purely a thought I had after looking into CBDC’s (Central Bank Digital Currency). \\nApologies if this sounds silly or uninformed. \\n\\nSo, Central Banks (USD, EUR, YUAN, etc.) produce money for the government by purchasing government bonds. What is stopping governments from using this money to purchase billions of dollars worth of crypto to take control of it?\\n\\nThis would destroy the value of fiat in the short term, pump crypto, but with the digital Central Bank currencies in the works, central banks could switch to a new currency if they wanted. Whilst one currency crashes, slowly rolling out another in exchange for a lower ratio with a higher interest rate. Then once they hold a desired amount of crypto, sell that to buy their own digital currency, dumping the crypto price and pumping the CBDC. \\n\\nIs this a potential hazard for people and if so, what cab we do to prepare for this?                                                                                                                                                                                                                                                                                                                                                                                                                                                                                                                                                                                                                                                                                                                                                                                                                                                                                                                                                                                                                                                                                                                                                                                                                                                                                                                                                                                                                                                                                                                                                                                                                                                                                                                                                                                                                                                                                                                                                                                                                                                                                                                                                                                                                                                                                                                                                                                                                                                                                                                                                                                                                                                                                                                                                                                                                                                                                                                                                                                                                                                                                                                                                                        1\n",
              "Seems like a missing feature to me. It's super annoying to have to buy from an exchange, wait a few days for the transfer to clear, then transfer the crypto to our own wallets.\\n\\nIs it not possible to decentralize this process?                                                                                                                                                                                                                                                                                                                                                                                                                                                                                                                                                                                                                                                                                                                                                                                                                                                                                                                                                                                                                                                                                                                                                                                                                                                                                                                                                                                                                                                                                                                                                                                                                                                                                                                                                                                                                                                                                                                                                                                                                                                                                                                                                                                                                                                                                                                                                                                                                                                                                                                                                                                                                                                                                                                                                                                                                                                                                                                                                                                                                                                                                                                                                                                                                                                                                                                                                                                                                                                                                                                                                                                                                                                                                                                                                                                                                                                                                                1\n",
              "Price go up, then price go down. It’s almost as if the only reason the crypto community exist is to invest in a specific set of high-volatility assets, that most people consider too risky to try out. Or at least this is how it feels for a newcomer to this world: the only thing you should look for is the price movement of a coin, buy at the bottom and sell at the top, plus everything in between. I’m fairly new to crypto, less than two years into the journey, and I got in for the money. \\n\\nI want to tell you how my outlook on crypto has changed since.\\n\\nRecently, I stumbled across one of the most widely famous books in the community: “The Infinite Machine”; The Infinite Machine is a book about the creation of Ethereum: now, if you are here now there is no need to explain the details Ethereum itself and is probably much more interesting to look at the bigger picture. Let's start with the origins of it all.\\n\\nWith Bitcoin, it was finally implemented a currency independent from governments, banks and capable of connecting financially anyone with a connection across the globe. Ethereum takes this process of decentralization a step further: not only it is now possible to run a currency on a blockchain, but now the blockchain has the goal of becoming the internet itself, independent and decentralized.\\n\\n**Why do we need someone to reinvent something that already exists?**\\n\\nIn times of green candles and economical growth, like the last decade, is easy to forget how flawed the financial system is. Ours is a system relying on Banks that grant loans with money they do not have and the government bailing out banks that took too much of a risk. Mix this with questionable money printing tactics and the grand scheme of things is clear: we live in a rotten system that **structurally** needs cyclic periods of heavy crisis. At the same time, the main victims paying the price of economical recessions are not in the 1% that ignited the crisis. \\n\\nDecades of movements and political unrest to fix this (probably) broken system did not result in a revolutionary restructuring of the global economy, any attempt to bring an element of divergence to the establishment was met simply by absorbing the divergence. At some point around the 2008 crisis, fed up with it, some unknown developer(s) thought: “if the system is resistant to change, I might as well create an independent and **better** financial system that the world can rely upon. Unchangeable, incorruptible, and most importantly decentralized. Bitcoin was born to fill the demand for a currency not bound to anything apart from the basic rule of supply and demand, which was able to verify transactions between users independently from a central authority. \\n\\nWith Bitcoin, there would be no such thing as decades of savings evaporated by raging hyperinflation. There would not be any arbitrary seizure of your money from banks. The blockchain became a way to give back control of their money to people. \\n\\nIn the bigger picture, the price movement of bitcoin (lowercase, just refers to the coin itself and not to Bitcoin, the blockchain) is largely irrelevant. Right now we are in a phase of adoption, with an unstable price movement and a lot of speculation going on, but that does not change the fundamentals of the breakthrough: a way to escape the established financial system exists, for anyone with an internet connection.\\n\\n**Now, why not scale this, from “just” a payment method, to the whole Internet?”**\\n\\nThat is the goal of Ethereum.\\n\\nI hope to talk a bit about Ethereum in a follow-up post, this is already a pretty big one. Thanks for reading up here, here is a link for a PDF of The Infinite Machine for the people that want to know more. \\n\\n&#x200B;\\n\\n[https://github.com/myself659/awesomebooks/blob/master/The%20Infinite%20Machine%20-%20Camila%20Russo.pdf](https://github.com/myself659/awesomebooks/blob/master/The%20Infinite%20Machine%20-%20Camila%20Russo.pdf)        1\n",
              "Name: Text, Length: 26321, dtype: int64"
            ]
          },
          "metadata": {},
          "execution_count": 9
        }
      ]
    },
    {
      "cell_type": "markdown",
      "source": [
        "## Dropping the NA , Removed and Deleted values in the Text Column"
      ],
      "metadata": {
        "id": "FfnoOL1ZokuW"
      }
    },
    {
      "cell_type": "code",
      "source": [
        "# Dropping the columns having na values\n",
        "df.Text.dropna()"
      ],
      "metadata": {
        "colab": {
          "base_uri": "https://localhost:8080/"
        },
        "id": "xQXlXqI11eil",
        "outputId": "a9f5a3fa-2ebe-46a6-a0a6-248aadbb18ca"
      },
      "execution_count": 10,
      "outputs": [
        {
          "output_type": "execute_result",
          "data": {
            "text/plain": [
              "1                                                 [removed]\n",
              "2                                                 [deleted]\n",
              "3                                                 [removed]\n",
              "6         Does anyone have the a copy of the text of the...\n",
              "8                                                 [removed]\n",
              "                                ...                        \n",
              "171828    Crypto is full of scammers, rug pulls, hacks o...\n",
              "171830                                            [removed]\n",
              "171831                                            [removed]\n",
              "171832                                            [removed]\n",
              "171833    Price go up, then price go down. It’s almost a...\n",
              "Name: Text, Length: 104903, dtype: object"
            ]
          },
          "metadata": {},
          "execution_count": 10
        }
      ]
    },
    {
      "cell_type": "code",
      "source": [
        "# Dropping the rows having removed as the text value\n",
        "df_new=df[df['Text']!='[removed]']"
      ],
      "metadata": {
        "id": "C0gPmlEeIEe4"
      },
      "execution_count": 11,
      "outputs": []
    },
    {
      "cell_type": "code",
      "source": [
        "# Dropping the rows having deleted as the text value\n",
        "df_new=df_new[df_new['Text']!='[deleted]']"
      ],
      "metadata": {
        "id": "GK7T7tz0Hglt"
      },
      "execution_count": 12,
      "outputs": []
    },
    {
      "cell_type": "code",
      "source": [
        "df_new.columns"
      ],
      "metadata": {
        "colab": {
          "base_uri": "https://localhost:8080/"
        },
        "id": "XA-B8KSPk6yu",
        "outputId": "3a6ea810-b470-4ef7-df7b-85d2e5140843"
      },
      "execution_count": 13,
      "outputs": [
        {
          "output_type": "execute_result",
          "data": {
            "text/plain": [
              "Index(['Post ID', 'Title', 'Url', 'Author', 'Score', 'Publish Date',\n",
              "       'Total No. of Comments', 'Permalink', 'Flair', 'Text'],\n",
              "      dtype='object')"
            ]
          },
          "metadata": {},
          "execution_count": 13
        }
      ]
    },
    {
      "cell_type": "code",
      "source": [
        "df['Text'].isnull().sum()"
      ],
      "metadata": {
        "colab": {
          "base_uri": "https://localhost:8080/"
        },
        "id": "9kPAoCG2kmDj",
        "outputId": "2962eb58-7b94-49d6-f5d9-eced7ebc954e"
      },
      "execution_count": 14,
      "outputs": [
        {
          "output_type": "execute_result",
          "data": {
            "text/plain": [
              "66939"
            ]
          },
          "metadata": {},
          "execution_count": 14
        }
      ]
    },
    {
      "cell_type": "markdown",
      "source": [
        "## Checking the shape of the updated dataframe"
      ],
      "metadata": {
        "id": "llJ4VDsmpd6w"
      }
    },
    {
      "cell_type": "code",
      "source": [
        "# Checking the shape of the updated new dataframe\n",
        "df_new.shape"
      ],
      "metadata": {
        "colab": {
          "base_uri": "https://localhost:8080/"
        },
        "id": "iHapH4EDIit-",
        "outputId": "87351fac-e07e-45ca-98bc-294be8140fce"
      },
      "execution_count": 15,
      "outputs": [
        {
          "output_type": "execute_result",
          "data": {
            "text/plain": [
              "(93351, 10)"
            ]
          },
          "metadata": {},
          "execution_count": 15
        }
      ]
    },
    {
      "cell_type": "code",
      "source": [
        "df_new.Title.value_counts()"
      ],
      "metadata": {
        "colab": {
          "base_uri": "https://localhost:8080/"
        },
        "id": "rIwy-AdqJX-W",
        "outputId": "701576db-f334-4192-dd8b-de9781e56e45"
      },
      "execution_count": 16,
      "outputs": [
        {
          "output_type": "execute_result",
          "data": {
            "text/plain": [
              "Crypto                                                                                                                                                                                                                                64\n",
              "Get $25 to invest in crypto when you join the waitlist for Stacked Managed Portfolios                                                                                                                                                 60\n",
              "Crypto Quantum Leap                                                                                                                                                                                                                   31\n",
              "crypto                                                                                                                                                                                                                                31\n",
              "💸 Earn free BTC and multiply your crypto with BetFury BOXes 📦 Enjoy the easy way to get cryptocurrency! Real rewards every 20 min 💥 👉 https://betfury.io/                                                                             31\n",
              "                                                                                                                                                                                                                                      ..\n",
              "How to make crypto gains without making any losses 100% legit                                                                                                                                                                          1\n",
              "PAC Protocol reaches 20,000 masternodes worldwide making it the largest crypto data network                                                                                                                                            1\n",
              "Reminder: Go do the new round of Coinbase earn even if it’s not your main exchange. Who can say no to free crypto that may grow over the years? They recently added one for Clover Finance $CLV. Check it out! Non referral link :     1\n",
              "Crypto exchange FTX valued at $18 billion after funding                                                                                                                                                                                1\n",
              "CNBC praises ETH merge: Crypto is becoming more sustainable and mainstream media is taking notice                                                                                                                                      1\n",
              "Name: Title, Length: 87313, dtype: int64"
            ]
          },
          "metadata": {},
          "execution_count": 16
        }
      ]
    },
    {
      "cell_type": "markdown",
      "source": [
        "## Creating a new dataframe"
      ],
      "metadata": {
        "id": "gVxnwDQ1poqZ"
      }
    },
    {
      "cell_type": "code",
      "source": [
        "columns=['Title','Text','Publish Date']\n",
        "df_text=df_new[columns]\n"
      ],
      "metadata": {
        "id": "nZ5pzVJDNQFa"
      },
      "execution_count": 17,
      "outputs": []
    },
    {
      "cell_type": "code",
      "source": [
        "df_text= df_text.dropna()"
      ],
      "metadata": {
        "id": "t403GUEUPPMV"
      },
      "execution_count": 18,
      "outputs": []
    },
    {
      "cell_type": "code",
      "source": [
        "df_text.shape"
      ],
      "metadata": {
        "colab": {
          "base_uri": "https://localhost:8080/"
        },
        "id": "oiD5UpRLPiEY",
        "outputId": "e6c4890a-0282-4d67-f5c5-a3e567a53e04"
      },
      "execution_count": 19,
      "outputs": [
        {
          "output_type": "execute_result",
          "data": {
            "text/plain": [
              "(26412, 3)"
            ]
          },
          "metadata": {},
          "execution_count": 19
        }
      ]
    },
    {
      "cell_type": "code",
      "source": [
        "df_text.head(3)"
      ],
      "metadata": {
        "colab": {
          "base_uri": "https://localhost:8080/",
          "height": 0
        },
        "id": "vL7PDqY5Pkn1",
        "outputId": "f3a3a0d0-cfef-4719-c1c0-372df5726e90"
      },
      "execution_count": 20,
      "outputs": [
        {
          "output_type": "execute_result",
          "data": {
            "text/plain": [
              "                                                Title  \\\n",
              "6          Can you buy crypto with the MCO visa card?   \n",
              "54  Online wallet / service that tracks multiple c...   \n",
              "71  Now, the questions is, does crypto beat 5% ann...   \n",
              "\n",
              "                                                 Text         Publish Date  \n",
              "6   Does anyone have the a copy of the text of the...  2019-10-23 05:18:38  \n",
              "54  Wallet is probably wrong word - looking for an...  2019-10-25 05:37:15  \n",
              "71  I generally disregard the very fluffy content ...  2019-10-25 21:46:01  "
            ],
            "text/html": [
              "\n",
              "  <div id=\"df-92f80c27-404e-4d5f-9c15-f1817968b916\">\n",
              "    <div class=\"colab-df-container\">\n",
              "      <div>\n",
              "<style scoped>\n",
              "    .dataframe tbody tr th:only-of-type {\n",
              "        vertical-align: middle;\n",
              "    }\n",
              "\n",
              "    .dataframe tbody tr th {\n",
              "        vertical-align: top;\n",
              "    }\n",
              "\n",
              "    .dataframe thead th {\n",
              "        text-align: right;\n",
              "    }\n",
              "</style>\n",
              "<table border=\"1\" class=\"dataframe\">\n",
              "  <thead>\n",
              "    <tr style=\"text-align: right;\">\n",
              "      <th></th>\n",
              "      <th>Title</th>\n",
              "      <th>Text</th>\n",
              "      <th>Publish Date</th>\n",
              "    </tr>\n",
              "  </thead>\n",
              "  <tbody>\n",
              "    <tr>\n",
              "      <th>6</th>\n",
              "      <td>Can you buy crypto with the MCO visa card?</td>\n",
              "      <td>Does anyone have the a copy of the text of the...</td>\n",
              "      <td>2019-10-23 05:18:38</td>\n",
              "    </tr>\n",
              "    <tr>\n",
              "      <th>54</th>\n",
              "      <td>Online wallet / service that tracks multiple c...</td>\n",
              "      <td>Wallet is probably wrong word - looking for an...</td>\n",
              "      <td>2019-10-25 05:37:15</td>\n",
              "    </tr>\n",
              "    <tr>\n",
              "      <th>71</th>\n",
              "      <td>Now, the questions is, does crypto beat 5% ann...</td>\n",
              "      <td>I generally disregard the very fluffy content ...</td>\n",
              "      <td>2019-10-25 21:46:01</td>\n",
              "    </tr>\n",
              "  </tbody>\n",
              "</table>\n",
              "</div>\n",
              "      <button class=\"colab-df-convert\" onclick=\"convertToInteractive('df-92f80c27-404e-4d5f-9c15-f1817968b916')\"\n",
              "              title=\"Convert this dataframe to an interactive table.\"\n",
              "              style=\"display:none;\">\n",
              "        \n",
              "  <svg xmlns=\"http://www.w3.org/2000/svg\" height=\"24px\"viewBox=\"0 0 24 24\"\n",
              "       width=\"24px\">\n",
              "    <path d=\"M0 0h24v24H0V0z\" fill=\"none\"/>\n",
              "    <path d=\"M18.56 5.44l.94 2.06.94-2.06 2.06-.94-2.06-.94-.94-2.06-.94 2.06-2.06.94zm-11 1L8.5 8.5l.94-2.06 2.06-.94-2.06-.94L8.5 2.5l-.94 2.06-2.06.94zm10 10l.94 2.06.94-2.06 2.06-.94-2.06-.94-.94-2.06-.94 2.06-2.06.94z\"/><path d=\"M17.41 7.96l-1.37-1.37c-.4-.4-.92-.59-1.43-.59-.52 0-1.04.2-1.43.59L10.3 9.45l-7.72 7.72c-.78.78-.78 2.05 0 2.83L4 21.41c.39.39.9.59 1.41.59.51 0 1.02-.2 1.41-.59l7.78-7.78 2.81-2.81c.8-.78.8-2.07 0-2.86zM5.41 20L4 18.59l7.72-7.72 1.47 1.35L5.41 20z\"/>\n",
              "  </svg>\n",
              "      </button>\n",
              "      \n",
              "  <style>\n",
              "    .colab-df-container {\n",
              "      display:flex;\n",
              "      flex-wrap:wrap;\n",
              "      gap: 12px;\n",
              "    }\n",
              "\n",
              "    .colab-df-convert {\n",
              "      background-color: #E8F0FE;\n",
              "      border: none;\n",
              "      border-radius: 50%;\n",
              "      cursor: pointer;\n",
              "      display: none;\n",
              "      fill: #1967D2;\n",
              "      height: 32px;\n",
              "      padding: 0 0 0 0;\n",
              "      width: 32px;\n",
              "    }\n",
              "\n",
              "    .colab-df-convert:hover {\n",
              "      background-color: #E2EBFA;\n",
              "      box-shadow: 0px 1px 2px rgba(60, 64, 67, 0.3), 0px 1px 3px 1px rgba(60, 64, 67, 0.15);\n",
              "      fill: #174EA6;\n",
              "    }\n",
              "\n",
              "    [theme=dark] .colab-df-convert {\n",
              "      background-color: #3B4455;\n",
              "      fill: #D2E3FC;\n",
              "    }\n",
              "\n",
              "    [theme=dark] .colab-df-convert:hover {\n",
              "      background-color: #434B5C;\n",
              "      box-shadow: 0px 1px 3px 1px rgba(0, 0, 0, 0.15);\n",
              "      filter: drop-shadow(0px 1px 2px rgba(0, 0, 0, 0.3));\n",
              "      fill: #FFFFFF;\n",
              "    }\n",
              "  </style>\n",
              "\n",
              "      <script>\n",
              "        const buttonEl =\n",
              "          document.querySelector('#df-92f80c27-404e-4d5f-9c15-f1817968b916 button.colab-df-convert');\n",
              "        buttonEl.style.display =\n",
              "          google.colab.kernel.accessAllowed ? 'block' : 'none';\n",
              "\n",
              "        async function convertToInteractive(key) {\n",
              "          const element = document.querySelector('#df-92f80c27-404e-4d5f-9c15-f1817968b916');\n",
              "          const dataTable =\n",
              "            await google.colab.kernel.invokeFunction('convertToInteractive',\n",
              "                                                     [key], {});\n",
              "          if (!dataTable) return;\n",
              "\n",
              "          const docLinkHtml = 'Like what you see? Visit the ' +\n",
              "            '<a target=\"_blank\" href=https://colab.research.google.com/notebooks/data_table.ipynb>data table notebook</a>'\n",
              "            + ' to learn more about interactive tables.';\n",
              "          element.innerHTML = '';\n",
              "          dataTable['output_type'] = 'display_data';\n",
              "          await google.colab.output.renderOutput(dataTable, element);\n",
              "          const docLink = document.createElement('div');\n",
              "          docLink.innerHTML = docLinkHtml;\n",
              "          element.appendChild(docLink);\n",
              "        }\n",
              "      </script>\n",
              "    </div>\n",
              "  </div>\n",
              "  "
            ]
          },
          "metadata": {},
          "execution_count": 20
        }
      ]
    },
    {
      "cell_type": "markdown",
      "source": [
        "## Creating three new columns "
      ],
      "metadata": {
        "id": "hY-M-33Cp7Jj"
      }
    },
    {
      "cell_type": "code",
      "source": [
        "#create new column for the character length of each title dataframe\n",
        "df_text['char_len_of_title'] = df_text.Title.str.len()"
      ],
      "metadata": {
        "id": "RVaBRJywPxzO",
        "colab": {
          "base_uri": "https://localhost:8080/"
        },
        "outputId": "746455b0-ab71-4ce1-d3ad-f18d3eac7161"
      },
      "execution_count": 21,
      "outputs": [
        {
          "output_type": "stream",
          "name": "stderr",
          "text": [
            "/usr/local/lib/python3.7/dist-packages/ipykernel_launcher.py:2: SettingWithCopyWarning: \n",
            "A value is trying to be set on a copy of a slice from a DataFrame.\n",
            "Try using .loc[row_indexer,col_indexer] = value instead\n",
            "\n",
            "See the caveats in the documentation: https://pandas.pydata.org/pandas-docs/stable/user_guide/indexing.html#returning-a-view-versus-a-copy\n",
            "  \n"
          ]
        }
      ]
    },
    {
      "cell_type": "code",
      "source": [
        "#create new column for the character length of each text dataframe\n",
        "df_text['char_len_of_text'] = df_text.Text.str.len()"
      ],
      "metadata": {
        "id": "WlvCuuHkRY-Z",
        "colab": {
          "base_uri": "https://localhost:8080/"
        },
        "outputId": "4fd79efc-2231-4c89-e5aa-8307cae510fc"
      },
      "execution_count": 22,
      "outputs": [
        {
          "output_type": "stream",
          "name": "stderr",
          "text": [
            "/usr/local/lib/python3.7/dist-packages/ipykernel_launcher.py:2: SettingWithCopyWarning: \n",
            "A value is trying to be set on a copy of a slice from a DataFrame.\n",
            "Try using .loc[row_indexer,col_indexer] = value instead\n",
            "\n",
            "See the caveats in the documentation: https://pandas.pydata.org/pandas-docs/stable/user_guide/indexing.html#returning-a-view-versus-a-copy\n",
            "  \n"
          ]
        }
      ]
    },
    {
      "cell_type": "code",
      "source": [
        "\n",
        "def word_count(text):\n",
        "  ls=list()\n",
        "  ls=text.split()\n",
        "  return len(ls)\n",
        "df_text[\"WordLength\"]  = df_text[\"Text\"].apply(word_count)"
      ],
      "metadata": {
        "id": "g4hLhaMZs5U4"
      },
      "execution_count": 23,
      "outputs": []
    },
    {
      "cell_type": "code",
      "source": [
        "# Observing the new features which has been created\n",
        "df_text.head()"
      ],
      "metadata": {
        "colab": {
          "base_uri": "https://localhost:8080/",
          "height": 0
        },
        "id": "UQdgxNwRRptg",
        "outputId": "588261a4-1510-4a14-e436-be3890c68a91"
      },
      "execution_count": 24,
      "outputs": [
        {
          "output_type": "execute_result",
          "data": {
            "text/plain": [
              "                                                Title  \\\n",
              "6          Can you buy crypto with the MCO visa card?   \n",
              "54  Online wallet / service that tracks multiple c...   \n",
              "71  Now, the questions is, does crypto beat 5% ann...   \n",
              "72                    My journey in crypto since 2017   \n",
              "96                  Is LH-Crypto dead? Was it a scam?   \n",
              "\n",
              "                                                 Text         Publish Date  \\\n",
              "6   Does anyone have the a copy of the text of the...  2019-10-23 05:18:38   \n",
              "54  Wallet is probably wrong word - looking for an...  2019-10-25 05:37:15   \n",
              "71  I generally disregard the very fluffy content ...  2019-10-25 21:46:01   \n",
              "72  Hi guys! I've been in crypto since August 2017...  2019-10-25 23:09:53   \n",
              "96  Have you guys heard of [Lh-crypto.io](https://...  2019-10-27 02:34:22   \n",
              "\n",
              "    char_len_of_title  char_len_of_text  WordLength  \n",
              "6                  42               228          37  \n",
              "54                 68               699         133  \n",
              "71                 76              1089         155  \n",
              "72                 31              1426         259  \n",
              "96                 33               368          46  "
            ],
            "text/html": [
              "\n",
              "  <div id=\"df-3c247fe1-7ffa-458f-a433-081786985d39\">\n",
              "    <div class=\"colab-df-container\">\n",
              "      <div>\n",
              "<style scoped>\n",
              "    .dataframe tbody tr th:only-of-type {\n",
              "        vertical-align: middle;\n",
              "    }\n",
              "\n",
              "    .dataframe tbody tr th {\n",
              "        vertical-align: top;\n",
              "    }\n",
              "\n",
              "    .dataframe thead th {\n",
              "        text-align: right;\n",
              "    }\n",
              "</style>\n",
              "<table border=\"1\" class=\"dataframe\">\n",
              "  <thead>\n",
              "    <tr style=\"text-align: right;\">\n",
              "      <th></th>\n",
              "      <th>Title</th>\n",
              "      <th>Text</th>\n",
              "      <th>Publish Date</th>\n",
              "      <th>char_len_of_title</th>\n",
              "      <th>char_len_of_text</th>\n",
              "      <th>WordLength</th>\n",
              "    </tr>\n",
              "  </thead>\n",
              "  <tbody>\n",
              "    <tr>\n",
              "      <th>6</th>\n",
              "      <td>Can you buy crypto with the MCO visa card?</td>\n",
              "      <td>Does anyone have the a copy of the text of the...</td>\n",
              "      <td>2019-10-23 05:18:38</td>\n",
              "      <td>42</td>\n",
              "      <td>228</td>\n",
              "      <td>37</td>\n",
              "    </tr>\n",
              "    <tr>\n",
              "      <th>54</th>\n",
              "      <td>Online wallet / service that tracks multiple c...</td>\n",
              "      <td>Wallet is probably wrong word - looking for an...</td>\n",
              "      <td>2019-10-25 05:37:15</td>\n",
              "      <td>68</td>\n",
              "      <td>699</td>\n",
              "      <td>133</td>\n",
              "    </tr>\n",
              "    <tr>\n",
              "      <th>71</th>\n",
              "      <td>Now, the questions is, does crypto beat 5% ann...</td>\n",
              "      <td>I generally disregard the very fluffy content ...</td>\n",
              "      <td>2019-10-25 21:46:01</td>\n",
              "      <td>76</td>\n",
              "      <td>1089</td>\n",
              "      <td>155</td>\n",
              "    </tr>\n",
              "    <tr>\n",
              "      <th>72</th>\n",
              "      <td>My journey in crypto since 2017</td>\n",
              "      <td>Hi guys! I've been in crypto since August 2017...</td>\n",
              "      <td>2019-10-25 23:09:53</td>\n",
              "      <td>31</td>\n",
              "      <td>1426</td>\n",
              "      <td>259</td>\n",
              "    </tr>\n",
              "    <tr>\n",
              "      <th>96</th>\n",
              "      <td>Is LH-Crypto dead? Was it a scam?</td>\n",
              "      <td>Have you guys heard of [Lh-crypto.io](https://...</td>\n",
              "      <td>2019-10-27 02:34:22</td>\n",
              "      <td>33</td>\n",
              "      <td>368</td>\n",
              "      <td>46</td>\n",
              "    </tr>\n",
              "  </tbody>\n",
              "</table>\n",
              "</div>\n",
              "      <button class=\"colab-df-convert\" onclick=\"convertToInteractive('df-3c247fe1-7ffa-458f-a433-081786985d39')\"\n",
              "              title=\"Convert this dataframe to an interactive table.\"\n",
              "              style=\"display:none;\">\n",
              "        \n",
              "  <svg xmlns=\"http://www.w3.org/2000/svg\" height=\"24px\"viewBox=\"0 0 24 24\"\n",
              "       width=\"24px\">\n",
              "    <path d=\"M0 0h24v24H0V0z\" fill=\"none\"/>\n",
              "    <path d=\"M18.56 5.44l.94 2.06.94-2.06 2.06-.94-2.06-.94-.94-2.06-.94 2.06-2.06.94zm-11 1L8.5 8.5l.94-2.06 2.06-.94-2.06-.94L8.5 2.5l-.94 2.06-2.06.94zm10 10l.94 2.06.94-2.06 2.06-.94-2.06-.94-.94-2.06-.94 2.06-2.06.94z\"/><path d=\"M17.41 7.96l-1.37-1.37c-.4-.4-.92-.59-1.43-.59-.52 0-1.04.2-1.43.59L10.3 9.45l-7.72 7.72c-.78.78-.78 2.05 0 2.83L4 21.41c.39.39.9.59 1.41.59.51 0 1.02-.2 1.41-.59l7.78-7.78 2.81-2.81c.8-.78.8-2.07 0-2.86zM5.41 20L4 18.59l7.72-7.72 1.47 1.35L5.41 20z\"/>\n",
              "  </svg>\n",
              "      </button>\n",
              "      \n",
              "  <style>\n",
              "    .colab-df-container {\n",
              "      display:flex;\n",
              "      flex-wrap:wrap;\n",
              "      gap: 12px;\n",
              "    }\n",
              "\n",
              "    .colab-df-convert {\n",
              "      background-color: #E8F0FE;\n",
              "      border: none;\n",
              "      border-radius: 50%;\n",
              "      cursor: pointer;\n",
              "      display: none;\n",
              "      fill: #1967D2;\n",
              "      height: 32px;\n",
              "      padding: 0 0 0 0;\n",
              "      width: 32px;\n",
              "    }\n",
              "\n",
              "    .colab-df-convert:hover {\n",
              "      background-color: #E2EBFA;\n",
              "      box-shadow: 0px 1px 2px rgba(60, 64, 67, 0.3), 0px 1px 3px 1px rgba(60, 64, 67, 0.15);\n",
              "      fill: #174EA6;\n",
              "    }\n",
              "\n",
              "    [theme=dark] .colab-df-convert {\n",
              "      background-color: #3B4455;\n",
              "      fill: #D2E3FC;\n",
              "    }\n",
              "\n",
              "    [theme=dark] .colab-df-convert:hover {\n",
              "      background-color: #434B5C;\n",
              "      box-shadow: 0px 1px 3px 1px rgba(0, 0, 0, 0.15);\n",
              "      filter: drop-shadow(0px 1px 2px rgba(0, 0, 0, 0.3));\n",
              "      fill: #FFFFFF;\n",
              "    }\n",
              "  </style>\n",
              "\n",
              "      <script>\n",
              "        const buttonEl =\n",
              "          document.querySelector('#df-3c247fe1-7ffa-458f-a433-081786985d39 button.colab-df-convert');\n",
              "        buttonEl.style.display =\n",
              "          google.colab.kernel.accessAllowed ? 'block' : 'none';\n",
              "\n",
              "        async function convertToInteractive(key) {\n",
              "          const element = document.querySelector('#df-3c247fe1-7ffa-458f-a433-081786985d39');\n",
              "          const dataTable =\n",
              "            await google.colab.kernel.invokeFunction('convertToInteractive',\n",
              "                                                     [key], {});\n",
              "          if (!dataTable) return;\n",
              "\n",
              "          const docLinkHtml = 'Like what you see? Visit the ' +\n",
              "            '<a target=\"_blank\" href=https://colab.research.google.com/notebooks/data_table.ipynb>data table notebook</a>'\n",
              "            + ' to learn more about interactive tables.';\n",
              "          element.innerHTML = '';\n",
              "          dataTable['output_type'] = 'display_data';\n",
              "          await google.colab.output.renderOutput(dataTable, element);\n",
              "          const docLink = document.createElement('div');\n",
              "          docLink.innerHTML = docLinkHtml;\n",
              "          element.appendChild(docLink);\n",
              "        }\n",
              "      </script>\n",
              "    </div>\n",
              "  </div>\n",
              "  "
            ]
          },
          "metadata": {},
          "execution_count": 24
        }
      ]
    },
    {
      "cell_type": "markdown",
      "source": [
        "## Summary Statistics on the new columns"
      ],
      "metadata": {
        "id": "UTKCT4hULPys"
      }
    },
    {
      "cell_type": "code",
      "source": [
        "#Lets see the  summary statistics of the char_len_of_title\n",
        "df_text['char_len_of_title'].describe()"
      ],
      "metadata": {
        "colab": {
          "base_uri": "https://localhost:8080/"
        },
        "id": "aa6eqASHRsFY",
        "outputId": "aaac46f5-4bbf-4531-e65a-b04a84476183"
      },
      "execution_count": 25,
      "outputs": [
        {
          "output_type": "execute_result",
          "data": {
            "text/plain": [
              "count    26412.00000\n",
              "mean        72.69794\n",
              "std         45.50538\n",
              "min          6.00000\n",
              "25%         42.00000\n",
              "50%         62.00000\n",
              "75%         90.00000\n",
              "max        307.00000\n",
              "Name: char_len_of_title, dtype: float64"
            ]
          },
          "metadata": {},
          "execution_count": 25
        }
      ]
    },
    {
      "cell_type": "code",
      "source": [
        "#Lets see the  summary statistics of the char_len_of_text\n",
        "df_text['char_len_of_text'].describe()"
      ],
      "metadata": {
        "colab": {
          "base_uri": "https://localhost:8080/"
        },
        "id": "CIzTp5T_Sp41",
        "outputId": "d60ea3d8-262d-46bc-c7f7-63cd12c78b27"
      },
      "execution_count": 26,
      "outputs": [
        {
          "output_type": "execute_result",
          "data": {
            "text/plain": [
              "count    26412.000000\n",
              "mean      1230.415758\n",
              "std       1591.590745\n",
              "min          1.000000\n",
              "25%        539.000000\n",
              "50%        800.000000\n",
              "75%       1332.000000\n",
              "max      39723.000000\n",
              "Name: char_len_of_text, dtype: float64"
            ]
          },
          "metadata": {},
          "execution_count": 26
        }
      ]
    },
    {
      "cell_type": "code",
      "source": [
        "#Lets see the  summary statistics of the WordLength\n",
        "df_text['WordLength'].describe()"
      ],
      "metadata": {
        "colab": {
          "base_uri": "https://localhost:8080/"
        },
        "id": "4LhIurQ3uW1R",
        "outputId": "bd9ef3a3-7707-48b9-aa16-d97bc43b3038"
      },
      "execution_count": 27,
      "outputs": [
        {
          "output_type": "execute_result",
          "data": {
            "text/plain": [
              "count    26412.000000\n",
              "mean       208.476980\n",
              "std        251.482299\n",
              "min          1.000000\n",
              "25%         96.000000\n",
              "50%        141.000000\n",
              "75%        230.000000\n",
              "max       6807.000000\n",
              "Name: WordLength, dtype: float64"
            ]
          },
          "metadata": {},
          "execution_count": 27
        }
      ]
    },
    {
      "cell_type": "markdown",
      "source": [
        "# Visulization on the columns "
      ],
      "metadata": {
        "id": "WrLjoUBDLdg7"
      }
    },
    {
      "cell_type": "markdown",
      "source": [
        "## Plotting histogram for the character legth of content"
      ],
      "metadata": {
        "id": "__BjeSjxL0Ae"
      }
    },
    {
      "cell_type": "code",
      "source": [
        "# Creating  visulization on the dataframe df_text  attributes\n",
        "# Lets plot the histogram for character length  of  content\n",
        "plt.rcParams['figure.figsize']=(5,5)\n",
        "df_text['char_len_of_text'].plot(kind='hist',bins=10)\n",
        "plt.grid()\n",
        "plt.title(\"Character Length Of Each Text\",fontsize=16)\n",
        "plt.xlabel(\"Count of characters\",fontsize=14)\n",
        "plt.show()"
      ],
      "metadata": {
        "colab": {
          "base_uri": "https://localhost:8080/",
          "height": 0
        },
        "id": "L2FYjr3-SwIE",
        "outputId": "6880442d-ad06-4c60-93d6-b342b1ec0ccc"
      },
      "execution_count": 28,
      "outputs": [
        {
          "output_type": "display_data",
          "data": {
            "text/plain": [
              "<Figure size 360x360 with 1 Axes>"
            ],
            "image/png": "[encoded data removed]"
          },
          "metadata": {
            "needs_background": "light"
          }
        }
      ]
    },
    {
      "cell_type": "markdown",
      "source": [
        "## Plotting histogram for the character legth of title"
      ],
      "metadata": {
        "id": "oz-jnW6eMJbj"
      }
    },
    {
      "cell_type": "code",
      "source": [
        "# Creating  visulization on the dataframe df_text  attributes\n",
        "# Lets plot the histogram for character length  of  title\n",
        "plt.rcParams['figure.figsize']=(5,5)\n",
        "df_text['char_len_of_title'].plot(kind='hist',bins=10)\n",
        "plt.grid()\n",
        "plt.title(\"Character Length Of Each Title \",fontsize=16)\n",
        "plt.xlabel(\"Count of characters\",fontsize=14)\n",
        "plt.show()"
      ],
      "metadata": {
        "colab": {
          "base_uri": "https://localhost:8080/",
          "height": 0
        },
        "id": "G9UZWRXlZHT5",
        "outputId": "7db73387-77d6-40af-e870-25a2161a4528"
      },
      "execution_count": 29,
      "outputs": [
        {
          "output_type": "display_data",
          "data": {
            "text/plain": [
              "<Figure size 360x360 with 1 Axes>"
            ],
            "image/png": "[encoded data removed]"
          },
          "metadata": {
            "needs_background": "light"
          }
        }
      ]
    },
    {
      "cell_type": "code",
      "source": [
        "# Defining a method to plot Average word length of each sentence\n",
        "def plot_average_word_length_of_each_sentence(column,title,xlabel):\n",
        "# Splitting and storing each word in a list and then Calculating the char length of each word in a sentence then averaging the char length across each sentence\n",
        "  plt.rcParams['figure.figsize']=(4,4)\n",
        "  df_text[column].str.split().\\\n",
        "     apply(lambda x : [len(i) for i in x]). \\\n",
        "    map(lambda x: np.mean(x)).hist()\n",
        "  plt.title(title)\n",
        "  plt.xlabel(xlabel)\n",
        "  plt.ylabel(\"Frequency\")\n",
        "  plt.show()"
      ],
      "metadata": {
        "id": "apQrrJmkZRbA"
      },
      "execution_count": 30,
      "outputs": []
    },
    {
      "cell_type": "code",
      "source": [
        "# Plotting for both the title and the content\n",
        "#plt.subplot(221)\n",
        "column_t='Title'\n",
        "title_t =\" Average word length of each title sentence \"\n",
        "xlabel_t = \"Word Length\"\n",
        "plot_average_word_length_of_each_sentence(column_t,title_t,xlabel_t)\n"
      ],
      "metadata": {
        "colab": {
          "base_uri": "https://localhost:8080/",
          "height": 0
        },
        "id": "N-TQk-9nmM5H",
        "outputId": "5876f151-551b-4cf6-a2d1-044c62ee86e5"
      },
      "execution_count": 31,
      "outputs": [
        {
          "output_type": "display_data",
          "data": {
            "text/plain": [
              "<Figure size 288x288 with 1 Axes>"
            ],
            "image/png": "[encoded data removed]"
          },
          "metadata": {
            "needs_background": "light"
          }
        }
      ]
    },
    {
      "cell_type": "markdown",
      "source": [
        "## Calculating top stopwords"
      ],
      "metadata": {
        "id": "Ha0k6vASMXUq"
      }
    },
    {
      "cell_type": "code",
      "source": [
        "# Lets download the stopwords and create a set of those english stop words\n",
        "nltk.download('stopwords')\n",
        "from nltk.corpus import stopwords\n",
        "stop=set(stopwords.words('english'))"
      ],
      "metadata": {
        "colab": {
          "base_uri": "https://localhost:8080/"
        },
        "id": "Npwug66SmZKW",
        "outputId": "a4e5e4e8-dd47-4db5-a50b-54b2be25450d"
      },
      "execution_count": 32,
      "outputs": [
        {
          "output_type": "stream",
          "name": "stderr",
          "text": [
            "[nltk_data] Downloading package stopwords to /root/nltk_data...\n",
            "[nltk_data]   Unzipping corpora/stopwords.zip.\n"
          ]
        }
      ]
    },
    {
      "cell_type": "code",
      "source": [
        "#Lets create a corpus and count the occurance of each stop words in the content and see the top 10 stop words\n",
        "corpus=[]\n",
        "# Splitting the  sentences into words\n",
        "news_word= df_text['Text'].str.split() \n",
        "news_word_to_list=news_word.values.tolist()\n",
        "counter_stopwords=0\n",
        "# Creating a corpus and to dict if its a stopword and also count the number of stop words\n",
        "corpus=[word for i in news_word_to_list for word in i] \n",
        "dic=defaultdict(int)\n",
        "for word in corpus:\n",
        "    if word in stop:\n",
        "        counter_stopwords = counter_stopwords + 1\n",
        "        dic[word]+=1\n",
        "# Calculating the top 10 stop words\n",
        "top_10=sorted(dic.items(), key=lambda x:x[1],reverse=True)[:10] \n",
        "print(f\" The top 10 stop words in the content are : {top_10}\")\n",
        "corpuswords=[word  for word in corpus  if word.isalnum()]\n",
        "d={'Stopwords':counter_stopwords,'NonStopwords':(len(corpus)-counter_stopwords)}\n"
      ],
      "metadata": {
        "colab": {
          "base_uri": "https://localhost:8080/"
        },
        "id": "g-bht6Jtm4Gp",
        "outputId": "deddadd2-dbfc-44b5-aecb-760052e3ab21"
      },
      "execution_count": 33,
      "outputs": [
        {
          "output_type": "stream",
          "name": "stdout",
          "text": [
            " The top 10 stop words in the content are : [('the', 191466), ('to', 163399), ('and', 133949), ('a', 121610), ('of', 107295), ('in', 77771), ('is', 75447), ('that', 61003), ('you', 56588), ('for', 53049)]\n"
          ]
        }
      ]
    },
    {
      "cell_type": "markdown",
      "source": [
        "## Creating a word cloud on top stopwords"
      ],
      "metadata": {
        "id": "rvW5rNIAMe-e"
      }
    },
    {
      "cell_type": "code",
      "source": [
        "lis=[top_10[i][0] for i in range(10)]\n",
        "words=str()\n",
        "d1 = {}\n",
        "for a, x in top_10:\n",
        "    d1[a] = x\n",
        "\n",
        "import matplotlib.pyplot as plt\n",
        "from wordcloud import WordCloud\n",
        "\n",
        "wordcloud = WordCloud(max_font_size=50, max_words=100, background_color=\"gray\")\n",
        "wordcloud.generate_from_frequencies(frequencies=d1)\n",
        "plt.figure()\n",
        "plt.imshow(wordcloud, interpolation=\"bilinear\")\n",
        "plt.axis(\"off\")\n",
        "plt.show()"
      ],
      "metadata": {
        "colab": {
          "base_uri": "https://localhost:8080/",
          "height": 0
        },
        "id": "JROZ7CXgMN0j",
        "outputId": "8af90dbf-af12-462f-d9b4-2f7d07c8ad93"
      },
      "execution_count": 34,
      "outputs": [
        {
          "output_type": "display_data",
          "data": {
            "text/plain": [
              "<Figure size 288x288 with 1 Axes>"
            ],
            "image/png": "[encoded data removed]"
          },
          "metadata": {
            "needs_background": "light"
          }
        }
      ]
    },
    {
      "cell_type": "markdown",
      "source": [
        "## Plotting a pie chart  distribution of stop words vs non stop words"
      ],
      "metadata": {
        "id": "xMBKV0hZMpF8"
      }
    },
    {
      "cell_type": "code",
      "source": [
        "# Lets visualize the number of stop words and non stop words through pie chart\n",
        "fig = plt.figure(figsize=(5,3))\n",
        "ax = fig.add_axes((0,0,.5,1))\n",
        "# Adding title\n",
        "ax.set_title('Stopwords vs NonStopwords', \n",
        "bbox={'facecolor':'0.8', 'pad':3})\n",
        "# Plotting the pie Chart\n",
        "plt.rcParams['figure.figsize']=(10,10)\n",
        "plt.pie(d.values(), labels=d.keys(),autopct='%1.1f%%')\n",
        "plt.show()\n"
      ],
      "metadata": {
        "colab": {
          "base_uri": "https://localhost:8080/",
          "height": 0
        },
        "id": "nO28aeJ1niec",
        "outputId": "3cac69fa-e88b-45af-ff43-b98d03562652"
      },
      "execution_count": 35,
      "outputs": [
        {
          "output_type": "display_data",
          "data": {
            "text/plain": [
              "<Figure size 360x216 with 1 Axes>"
            ],
            "image/png": "[encoded data removed]"
          },
          "metadata": {}
        }
      ]
    },
    {
      "cell_type": "markdown",
      "source": [
        "## Barplot of top 10 stopwords"
      ],
      "metadata": {
        "id": "z9r9w91eNbZi"
      }
    },
    {
      "cell_type": "code",
      "source": [
        "#Lets visualize top 10 occuring stop words in the content\n",
        "plt.rcParams['figure.figsize']=(5,5)\n",
        "x,y=zip(*top_10)\n",
        "plt.title(\" Top 10 stopwords in the content\",fontsize= 16)\n",
        "plt.xlabel(\"StopWords\",fontsize = 14)\n",
        "plt.ylabel(\"Count\",fontsize=14)\n",
        "plt.bar(x,y)\n",
        "plt.show()"
      ],
      "metadata": {
        "colab": {
          "base_uri": "https://localhost:8080/",
          "height": 0
        },
        "id": "-VgVjgajvT4T",
        "outputId": "eeb6e53a-abc3-4012-e366-f9d9b3983a95"
      },
      "execution_count": 36,
      "outputs": [
        {
          "output_type": "display_data",
          "data": {
            "text/plain": [
              "<Figure size 360x360 with 1 Axes>"
            ],
            "image/png": "[encoded data removed]"
          },
          "metadata": {
            "needs_background": "light"
          }
        }
      ]
    },
    {
      "cell_type": "markdown",
      "source": [
        "## Barplot of top non stopwords"
      ],
      "metadata": {
        "id": "7ehvg2FsOW53"
      }
    },
    {
      "cell_type": "code",
      "source": [
        "# Lets plot the barplot of the alphanumerical non stop words \n",
        "corpus = [token.lower() for token in corpus]\n",
        "counter=Counter(corpus)\n",
        "most=counter.most_common()\n",
        "plt.rcParams['figure.figsize']=(5,5)\n",
        "x, y= [], []\n",
        "# Counting the alphanumerical non stop words \n",
        "for word,count in most[:40]:\n",
        "    if (word not in stop and word.isalnum()):\n",
        "        x.append(word)\n",
        "        y.append(count)\n",
        " # Creating the barplot\n",
        "b=sns.barplot(x=y,y=x)\n",
        "b.axes.set_title('Top Non Stop Alphanumerical Words',fontsize=18)\n",
        "plt.xlabel('Count',fontsize=12) \n",
        "plt.ylabel('Non_Stop_Words',fontsize=12)\n",
        "\n",
        "plt.show()"
      ],
      "metadata": {
        "colab": {
          "base_uri": "https://localhost:8080/",
          "height": 0
        },
        "id": "uNDuFgxJvZ8o",
        "outputId": "eb70f3fd-f6c4-44ba-dfa5-90ad77255048"
      },
      "execution_count": 37,
      "outputs": [
        {
          "output_type": "display_data",
          "data": {
            "text/plain": [
              "<Figure size 360x360 with 1 Axes>"
            ],
            "image/png": "[encoded data removed]"
          },
          "metadata": {
            "needs_background": "light"
          }
        }
      ]
    },
    {
      "cell_type": "markdown",
      "source": [
        "#Creating a summary method"
      ],
      "metadata": {
        "id": "nV7d5rNVPJ8u"
      }
    },
    {
      "cell_type": "markdown",
      "source": [
        "## Cleaning the text"
      ],
      "metadata": {
        "id": "ierH87-rPtn9"
      }
    },
    {
      "cell_type": "code",
      "source": [
        "# Creating a text_clean method to clean the text\n",
        "def text_clean(text):\n",
        "    paragraph= text.split(\". \")\n",
        "    sentences = []\n",
        "  \n",
        "    for sentence in paragraph:\n",
        "        sentences.append(sentence.replace(\"[^a-zA-Z]\", \" \").split(\" \"))\n",
        "    sentences.pop() \n",
        "    #print(sentences)\n",
        "    return sentences"
      ],
      "metadata": {
        "id": "4BXmPZPEve30"
      },
      "execution_count": 38,
      "outputs": []
    },
    {
      "cell_type": "markdown",
      "source": [
        "## Cosine Similarity"
      ],
      "metadata": {
        "id": "UQ5zlv3oP3Xr"
      }
    },
    {
      "cell_type": "code",
      "source": [
        "# Constructing the method to calculate cosine similarity between the two sentences\n",
        "def sentence_similarity_cosine(sentence1, sentence2, stopwords=None):\n",
        "    if stopwords is None:\n",
        "        stopwords = []\n",
        " \n",
        "    sentence1 = [word.lower() for word in sentence1]\n",
        "    sentence2 = [word.lower() for word in sentence2]\n",
        " \n",
        "    all_words_list = list(set(sentence1 + sentence2))\n",
        " \n",
        "    vector1 = [0] * len(all_words_list)\n",
        "    vector2 = [0] * len(all_words_list)\n",
        " \n",
        "    # build the vector for the first sentence\n",
        "    for word in sentence1:\n",
        "        if word in stopwords:\n",
        "            continue\n",
        "        vector1[all_words_list.index(word)] += 1\n",
        " \n",
        "    # build the vector for the second sentence\n",
        "    for word in sentence2:\n",
        "        if word in stopwords:\n",
        "            continue\n",
        "        vector2[all_words_list.index(word)] += 1\n",
        " \n",
        "    return 1 - cosine_distance(vector1, vector2)\n",
        " "
      ],
      "metadata": {
        "id": "VZ_ngwsAweIV"
      },
      "execution_count": 39,
      "outputs": []
    },
    {
      "cell_type": "markdown",
      "source": [
        "## Similarity Matrix"
      ],
      "metadata": {
        "id": "ub7WxWTxQMTA"
      }
    },
    {
      "cell_type": "code",
      "source": [
        "# Constructing similarity matrix using the sentence_similarity_cosine() function defined earlier\n",
        "def similarity_matrix_construction(sentences, stop_words):\n",
        "    # Create an empty similarity matrix\n",
        "    similarity_matrix = np.zeros((len(sentences), len(sentences)))\n",
        " \n",
        "    for index1 in range(len(sentences)):\n",
        "        for index2 in range(len(sentences)):\n",
        "            if index1 == index2: #ignore if both are same sentences\n",
        "                continue \n",
        "            similarity_matrix[index1][index2] = sentence_similarity_cosine(sentences[index1], sentences[index2], stop_words)\n",
        "\n",
        "    return similarity_matrix"
      ],
      "metadata": {
        "id": "fAdoC9KzwkRc"
      },
      "execution_count": 40,
      "outputs": []
    },
    {
      "cell_type": "markdown",
      "source": [
        "## Summary method"
      ],
      "metadata": {
        "id": "mdIudRYvQSdx"
      }
    },
    {
      "cell_type": "code",
      "source": [
        "# Calls the required functions and creates the summary\n",
        "def generate_summary(dataset, top_n=3):\n",
        "    stop_words = stopwords.words('english')\n",
        "    summarize_text = []\n",
        "\n",
        "    # Step 1 - Read text anc split it\n",
        "    sentences =  text_clean(dataset)\n",
        "\n",
        "    # Step 2 - Generate Similary Martix across sentences\n",
        "    sentence_similarity_martix = similarity_matrix_construction(sentences, stop_words)\n",
        "\n",
        "    # Step 3 - Rank sentences in similarity martix\n",
        "    sentence_similarity_graph = nx.from_numpy_array(sentence_similarity_martix)\n",
        "    scores = nx.pagerank(sentence_similarity_graph , max_iter = 60000)\n",
        "\n",
        "    # Step 4 - Sort the rank and pick top sentences\n",
        "    ranked_sentence = sorted(((scores[i],s) for i,s in enumerate(sentences)), reverse=True)    \n",
        "   # print(\"Indexes of top ranked_sentence order are \", ranked_sentence)    \n",
        "    if len(ranked_sentence) >= 1:\n",
        "      for i in range(1):\n",
        "        summarize_text.append(\" \".join(ranked_sentence[i][1]))\n",
        "    else:\n",
        "      summarize_text.append(\"Nothing to summeraize\")\n",
        "   \n",
        "    return summarize_text"
      ],
      "metadata": {
        "id": "nCdBvNVQxl88"
      },
      "execution_count": 41,
      "outputs": []
    },
    {
      "cell_type": "markdown",
      "source": [
        "## Creating summary method for every row of the content column"
      ],
      "metadata": {
        "id": "atMpRR55QcWq"
      }
    },
    {
      "cell_type": "code",
      "source": [
        "# Lets create a summary for every row and content column\n",
        "def summary_content(dataset):\n",
        "  ls=list()\n",
        "#  Iterate over the dataset and call the summary method and add the data obtained to a list \n",
        "  for i in range(len(dataset)):  \n",
        "    text=generate_summary(dataset.Text.iloc[i])\n",
        "    ls.append(text)\n",
        "  df_summary=pd.DataFrame(ls)\n",
        "  df_summary['Summary'] = df_summary[df_summary.columns[0:]].apply(   \n",
        "    lambda x: ','.join(x.dropna().astype(str)),\n",
        "    axis=1)\n",
        "  df_summary=df_summary['Summary']\n",
        "  return df_summary"
      ],
      "metadata": {
        "id": "7rBitzuFyjbQ"
      },
      "execution_count": 42,
      "outputs": []
    },
    {
      "cell_type": "code",
      "source": [
        "# Calling the summary_content method \n",
        "df_summary=summary_content(df_text[0:10])\n"
      ],
      "metadata": {
        "id": "2lLRdo3Bymbr"
      },
      "execution_count": 43,
      "outputs": []
    },
    {
      "cell_type": "markdown",
      "source": [
        "## Randomly selecting the row and creating summarization"
      ],
      "metadata": {
        "id": "OpvUi-45RoOq"
      }
    },
    {
      "cell_type": "code",
      "source": [
        "# Randomly generate the row and send it to the generate_summary method\n",
        "ind = np.random.randint(0,len(df_text),size=1)\n",
        "i=int(ind)\n",
        "text=df_text.Text.iloc[4]\n",
        "print(text)\n",
        "result=generate_summary(text)"
      ],
      "metadata": {
        "colab": {
          "base_uri": "https://localhost:8080/"
        },
        "id": "QW1lx2j32p15",
        "outputId": "988b0056-339f-4838-8e1f-3cecfd28c165"
      },
      "execution_count": 44,
      "outputs": [
        {
          "output_type": "stream",
          "name": "stdout",
          "text": [
            "Have you guys heard of [Lh-crypto.io](https://Lh-crypto.io) ?\n",
            "\n",
            "Edit: The domain is still up!  I just couldn't reach it over wifi for some reason.  The ICO is supposed to have been over though,\n",
            "\n",
            "Does anybody have any info?  Here's an outdated \"review\" from a while ago:\n",
            "\n",
            "[https://www.forexnewsnow.com/reviews/lh-crypto/](https://www.forexnewsnow.com/reviews/lh-crypto/)\n"
          ]
        }
      ]
    },
    {
      "cell_type": "code",
      "source": [
        "print(result)"
      ],
      "metadata": {
        "colab": {
          "base_uri": "https://localhost:8080/"
        },
        "id": "zc5lLNUP2yrC",
        "outputId": "9005e993-0e77-4b5a-bfd1-07dfe68cfb13"
      },
      "execution_count": 45,
      "outputs": [
        {
          "output_type": "stream",
          "name": "stdout",
          "text": [
            "[\"Have you guys heard of [Lh-crypto.io](https://Lh-crypto.io) ?\\n\\nEdit: The domain is still up!  I just couldn't reach it over wifi for some reason\"]\n"
          ]
        }
      ]
    },
    {
      "cell_type": "code",
      "source": [
        "print(text)"
      ],
      "metadata": {
        "colab": {
          "base_uri": "https://localhost:8080/"
        },
        "id": "9vMgOTsQ5JxA",
        "outputId": "e4a657e1-04cd-45ca-e1ce-eba2f948eff8"
      },
      "execution_count": 46,
      "outputs": [
        {
          "output_type": "stream",
          "name": "stdout",
          "text": [
            "Have you guys heard of [Lh-crypto.io](https://Lh-crypto.io) ?\n",
            "\n",
            "Edit: The domain is still up!  I just couldn't reach it over wifi for some reason.  The ICO is supposed to have been over though,\n",
            "\n",
            "Does anybody have any info?  Here's an outdated \"review\" from a while ago:\n",
            "\n",
            "[https://www.forexnewsnow.com/reviews/lh-crypto/](https://www.forexnewsnow.com/reviews/lh-crypto/)\n"
          ]
        }
      ]
    },
    {
      "cell_type": "code",
      "source": [
        "df_summary"
      ],
      "metadata": {
        "colab": {
          "base_uri": "https://localhost:8080/"
        },
        "id": "xo10hHcj5Oj1",
        "outputId": "a44eec07-27c4-48a9-c965-9c09d2369623"
      },
      "execution_count": 47,
      "outputs": [
        {
          "output_type": "execute_result",
          "data": {
            "text/plain": [
              "0                                Nothing to summeraize\n",
              "1    Wallet is probably wrong word - looking for an...\n",
              "2    This research (linked in the article) from var...\n",
              "3    Trading only a small portion of my whole portf...\n",
              "4    Have you guys heard of [Lh-crypto.io](https://...\n",
              "5    Let's suppose there's another monster rally an...\n",
              "6    However I was looking into branching out into ...\n",
              "7    However I was looking into branching out into ...\n",
              "8    Soon after I started, I realized it sucked and...\n",
              "9    Topics range from interviews with leading prof...\n",
              "Name: Summary, dtype: object"
            ]
          },
          "metadata": {},
          "execution_count": 47
        }
      ]
    },
    {
      "cell_type": "markdown",
      "source": [
        "## Checking the difference between the summarized and the original text"
      ],
      "metadata": {
        "id": "5DDbvKXWRyvN"
      }
    },
    {
      "cell_type": "code",
      "source": [
        "# Lets take an example and see the difference of length\n",
        "print(f\"The original length of content :{len(df_text.Text.iloc[4])} \\n The length of content after summary method : {len(df_summary[4])}\")"
      ],
      "metadata": {
        "colab": {
          "base_uri": "https://localhost:8080/"
        },
        "id": "VXJxmzIW5xyY",
        "outputId": "9c5fd10a-db91-463f-8abb-6e90430bee49"
      },
      "execution_count": 48,
      "outputs": [
        {
          "output_type": "stream",
          "name": "stdout",
          "text": [
            "The original length of content :368 \n",
            " The length of content after summary method : 144\n"
          ]
        }
      ]
    },
    {
      "cell_type": "markdown",
      "source": [
        "# Cleaning the Text"
      ],
      "metadata": {
        "id": "jifnrd6JR-LF"
      }
    },
    {
      "cell_type": "markdown",
      "source": [
        "## importing libariries for cleaning"
      ],
      "metadata": {
        "id": "QiHsx69lBbmh"
      }
    },
    {
      "cell_type": "code",
      "source": [
        "import re\n",
        "from nltk.corpus import stopwords\n",
        "from nltk.stem import PorterStemmer\n",
        "from nltk.stem.wordnet import WordNetLemmatizer\n",
        "import string\n",
        "stop = set(stopwords.words('english'))\n",
        "sno = nltk.stem.SnowballStemmer('english')"
      ],
      "metadata": {
        "id": "KX5pyUVJCJXD"
      },
      "execution_count": 49,
      "outputs": []
    },
    {
      "cell_type": "markdown",
      "source": [
        "## Remove HTML Tags"
      ],
      "metadata": {
        "id": "dqgO7M7CBaiV"
      }
    },
    {
      "cell_type": "code",
      "source": [
        "# Fuction to remove html tag\n",
        "def removehtml(sentence):\n",
        "  cleanr=re.compile('<.*?>')\n",
        "  cleantext = re.sub(cleanr,' ',sentence)\n",
        "  return cleantext\n"
      ],
      "metadata": {
        "id": "EsC5m9X0SHxk"
      },
      "execution_count": 50,
      "outputs": []
    },
    {
      "cell_type": "markdown",
      "source": [
        "##Remove URL Tags"
      ],
      "metadata": {
        "id": "si2Wv_7oBt43"
      }
    },
    {
      "cell_type": "code",
      "source": [
        "# Fuction to remove URL tag\n",
        "def removeurl(sentence):\n",
        "   return re.sub(r\"http\\S+\", \"\", sentence)"
      ],
      "metadata": {
        "id": "8glOVLEiSLO8"
      },
      "execution_count": 51,
      "outputs": []
    },
    {
      "cell_type": "markdown",
      "source": [
        "## Expanding the contracted words"
      ],
      "metadata": {
        "id": "TehWdCw6Bw-_"
      }
    },
    {
      "cell_type": "code",
      "source": [
        "# Fuction to expand the contracted words\n",
        "def decontracted(phrase):\n",
        "    # specific\n",
        "    phrase = re.sub(r\"won't\", \"will not\", phrase)\n",
        "    phrase = re.sub(r\"can\\'t\", \"can not\", phrase)\n",
        "\n",
        "    # general\n",
        "    phrase = re.sub(r\"n\\'t\", \" not\", phrase)\n",
        "    phrase = re.sub(r\"\\'re\", \" are\", phrase)\n",
        "    phrase = re.sub(r\"\\'s\", \" is\", phrase)\n",
        "    phrase = re.sub(r\"\\'d\", \" would\", phrase)\n",
        "    phrase = re.sub(r\"\\'ll\", \" will\", phrase)\n",
        "    phrase = re.sub(r\"\\'t\", \" not\", phrase)\n",
        "    phrase = re.sub(r\"\\'ve\", \" have\", phrase)\n",
        "    phrase = re.sub(r\"\\'m\", \" am\", phrase)\n",
        "    return phrase"
      ],
      "metadata": {
        "id": "GqGlOCJbSOOm"
      },
      "execution_count": 52,
      "outputs": []
    },
    {
      "cell_type": "markdown",
      "source": [
        "## Remove punctuations and special character"
      ],
      "metadata": {
        "id": "36zfTrQZCBzP"
      }
    },
    {
      "cell_type": "code",
      "source": [
        "# Function to remove punctuation and special character\n",
        "def removepunc(sentence):\n",
        "  cleaned = re.sub(r'[?|!|\\'|\"|#|*]',r' ',sentence)\n",
        "  cleaned = re.sub(r'[.|,|)|(|\\|/]',r' ',cleaned)\n",
        "  return cleaned"
      ],
      "metadata": {
        "id": "IcBrE-bdSUxg"
      },
      "execution_count": 53,
      "outputs": []
    },
    {
      "cell_type": "markdown",
      "source": [
        "## Method handling the cleaning"
      ],
      "metadata": {
        "id": "iUNGCfDyCHFu"
      }
    },
    {
      "cell_type": "code",
      "source": [
        "# Function that calls other methods are returns the cleaned data\n",
        "def preprocessing_eda(dataset,column):\n",
        "  i=0\n",
        "  str1=' '\n",
        "  final_string=list()\n",
        "  s=' '\n",
        "  for sent in dataset[column].values:\n",
        "    filtered_sentence=list()\n",
        "    #  Removing url,hrml and expanding the contracted words\n",
        "    sent=removehtml(sent)\n",
        "    sent=removeurl(sent)\n",
        "    sent=decontracted(sent)\n",
        "    for w in sent.split():\n",
        "    # Removing punctuation stop words and words with length less than 2 and also adding the words which contains all alpha characters\n",
        "      for cleaned_words in removepunc(w).split():\n",
        "        if((cleaned_words.isalpha()) and (len(cleaned_words)>2)):\n",
        "          if(cleaned_words.lower() not in stop):\n",
        "    # Using snowball stemmer which is an better version of Porter Stemmer\n",
        "            s=(sno.stem(cleaned_words.lower())).encode('utf8')\n",
        "            filtered_sentence.append(s)\n",
        "          else:\n",
        "            continue\n",
        "        else:\n",
        "          continue\n",
        "    str1= b\" \".join(filtered_sentence)\n",
        "    str1 = str1.decode('UTF-8')  \n",
        "    final_string.append(str1)\n",
        "    i=i+1\n",
        "  return final_string"
      ],
      "metadata": {
        "id": "7syQr5fFSst_"
      },
      "execution_count": 54,
      "outputs": []
    },
    {
      "cell_type": "markdown",
      "source": [
        "## Preprocessing for Content and Title Columns"
      ],
      "metadata": {
        "id": "dRSfXpadCdDC"
      }
    },
    {
      "cell_type": "code",
      "source": [
        "# Calling the processing_eda method for content and title column\n",
        "column='Text'\n",
        "new_string = preprocessing_eda(df_text,column)\n",
        "df_text['CleanedText'] = new_string"
      ],
      "metadata": {
        "id": "DGB3X8YOSyVp"
      },
      "execution_count": 55,
      "outputs": []
    },
    {
      "cell_type": "code",
      "source": [
        "df_text.head(5)"
      ],
      "metadata": {
        "id": "_nBSgeVWS_4R",
        "outputId": "5a5b8122-283c-4364-d64f-d37e248ca237",
        "colab": {
          "base_uri": "https://localhost:8080/",
          "height": 0
        }
      },
      "execution_count": 56,
      "outputs": [
        {
          "output_type": "execute_result",
          "data": {
            "text/plain": [
              "                                                Title  \\\n",
              "6          Can you buy crypto with the MCO visa card?   \n",
              "54  Online wallet / service that tracks multiple c...   \n",
              "71  Now, the questions is, does crypto beat 5% ann...   \n",
              "72                    My journey in crypto since 2017   \n",
              "96                  Is LH-Crypto dead? Was it a scam?   \n",
              "\n",
              "                                                 Text         Publish Date  \\\n",
              "6   Does anyone have the a copy of the text of the...  2019-10-23 05:18:38   \n",
              "54  Wallet is probably wrong word - looking for an...  2019-10-25 05:37:15   \n",
              "71  I generally disregard the very fluffy content ...  2019-10-25 21:46:01   \n",
              "72  Hi guys! I've been in crypto since August 2017...  2019-10-25 23:09:53   \n",
              "96  Have you guys heard of [Lh-crypto.io](https://...  2019-10-27 02:34:22   \n",
              "\n",
              "    char_len_of_title  char_len_of_text  WordLength  \\\n",
              "6                  42               228          37   \n",
              "54                 68               699         133   \n",
              "71                 76              1089         155   \n",
              "72                 31              1426         259   \n",
              "96                 33               368          46   \n",
              "\n",
              "                                          CleanedText  \n",
              "6   anyon copi text visa agreement card mani tradi...  \n",
              "54  wallet probabl wrong word look onlin price tra...  \n",
              "71  general disregard fluffi content publish cnbc ...  \n",
              "72  guy crypto sinc august sure mani might join ti...  \n",
              "96  guy heard domain still could reach wifi reason...  "
            ],
            "text/html": [
              "\n",
              "  <div id=\"df-3320a1c8-edb6-43ad-8904-6fb485e4ad00\">\n",
              "    <div class=\"colab-df-container\">\n",
              "      <div>\n",
              "<style scoped>\n",
              "    .dataframe tbody tr th:only-of-type {\n",
              "        vertical-align: middle;\n",
              "    }\n",
              "\n",
              "    .dataframe tbody tr th {\n",
              "        vertical-align: top;\n",
              "    }\n",
              "\n",
              "    .dataframe thead th {\n",
              "        text-align: right;\n",
              "    }\n",
              "</style>\n",
              "<table border=\"1\" class=\"dataframe\">\n",
              "  <thead>\n",
              "    <tr style=\"text-align: right;\">\n",
              "      <th></th>\n",
              "      <th>Title</th>\n",
              "      <th>Text</th>\n",
              "      <th>Publish Date</th>\n",
              "      <th>char_len_of_title</th>\n",
              "      <th>char_len_of_text</th>\n",
              "      <th>WordLength</th>\n",
              "      <th>CleanedText</th>\n",
              "    </tr>\n",
              "  </thead>\n",
              "  <tbody>\n",
              "    <tr>\n",
              "      <th>6</th>\n",
              "      <td>Can you buy crypto with the MCO visa card?</td>\n",
              "      <td>Does anyone have the a copy of the text of the...</td>\n",
              "      <td>2019-10-23 05:18:38</td>\n",
              "      <td>42</td>\n",
              "      <td>228</td>\n",
              "      <td>37</td>\n",
              "      <td>anyon copi text visa agreement card mani tradi...</td>\n",
              "    </tr>\n",
              "    <tr>\n",
              "      <th>54</th>\n",
              "      <td>Online wallet / service that tracks multiple c...</td>\n",
              "      <td>Wallet is probably wrong word - looking for an...</td>\n",
              "      <td>2019-10-25 05:37:15</td>\n",
              "      <td>68</td>\n",
              "      <td>699</td>\n",
              "      <td>133</td>\n",
              "      <td>wallet probabl wrong word look onlin price tra...</td>\n",
              "    </tr>\n",
              "    <tr>\n",
              "      <th>71</th>\n",
              "      <td>Now, the questions is, does crypto beat 5% ann...</td>\n",
              "      <td>I generally disregard the very fluffy content ...</td>\n",
              "      <td>2019-10-25 21:46:01</td>\n",
              "      <td>76</td>\n",
              "      <td>1089</td>\n",
              "      <td>155</td>\n",
              "      <td>general disregard fluffi content publish cnbc ...</td>\n",
              "    </tr>\n",
              "    <tr>\n",
              "      <th>72</th>\n",
              "      <td>My journey in crypto since 2017</td>\n",
              "      <td>Hi guys! I've been in crypto since August 2017...</td>\n",
              "      <td>2019-10-25 23:09:53</td>\n",
              "      <td>31</td>\n",
              "      <td>1426</td>\n",
              "      <td>259</td>\n",
              "      <td>guy crypto sinc august sure mani might join ti...</td>\n",
              "    </tr>\n",
              "    <tr>\n",
              "      <th>96</th>\n",
              "      <td>Is LH-Crypto dead? Was it a scam?</td>\n",
              "      <td>Have you guys heard of [Lh-crypto.io](https://...</td>\n",
              "      <td>2019-10-27 02:34:22</td>\n",
              "      <td>33</td>\n",
              "      <td>368</td>\n",
              "      <td>46</td>\n",
              "      <td>guy heard domain still could reach wifi reason...</td>\n",
              "    </tr>\n",
              "  </tbody>\n",
              "</table>\n",
              "</div>\n",
              "      <button class=\"colab-df-convert\" onclick=\"convertToInteractive('df-3320a1c8-edb6-43ad-8904-6fb485e4ad00')\"\n",
              "              title=\"Convert this dataframe to an interactive table.\"\n",
              "              style=\"display:none;\">\n",
              "        \n",
              "  <svg xmlns=\"http://www.w3.org/2000/svg\" height=\"24px\"viewBox=\"0 0 24 24\"\n",
              "       width=\"24px\">\n",
              "    <path d=\"M0 0h24v24H0V0z\" fill=\"none\"/>\n",
              "    <path d=\"M18.56 5.44l.94 2.06.94-2.06 2.06-.94-2.06-.94-.94-2.06-.94 2.06-2.06.94zm-11 1L8.5 8.5l.94-2.06 2.06-.94-2.06-.94L8.5 2.5l-.94 2.06-2.06.94zm10 10l.94 2.06.94-2.06 2.06-.94-2.06-.94-.94-2.06-.94 2.06-2.06.94z\"/><path d=\"M17.41 7.96l-1.37-1.37c-.4-.4-.92-.59-1.43-.59-.52 0-1.04.2-1.43.59L10.3 9.45l-7.72 7.72c-.78.78-.78 2.05 0 2.83L4 21.41c.39.39.9.59 1.41.59.51 0 1.02-.2 1.41-.59l7.78-7.78 2.81-2.81c.8-.78.8-2.07 0-2.86zM5.41 20L4 18.59l7.72-7.72 1.47 1.35L5.41 20z\"/>\n",
              "  </svg>\n",
              "      </button>\n",
              "      \n",
              "  <style>\n",
              "    .colab-df-container {\n",
              "      display:flex;\n",
              "      flex-wrap:wrap;\n",
              "      gap: 12px;\n",
              "    }\n",
              "\n",
              "    .colab-df-convert {\n",
              "      background-color: #E8F0FE;\n",
              "      border: none;\n",
              "      border-radius: 50%;\n",
              "      cursor: pointer;\n",
              "      display: none;\n",
              "      fill: #1967D2;\n",
              "      height: 32px;\n",
              "      padding: 0 0 0 0;\n",
              "      width: 32px;\n",
              "    }\n",
              "\n",
              "    .colab-df-convert:hover {\n",
              "      background-color: #E2EBFA;\n",
              "      box-shadow: 0px 1px 2px rgba(60, 64, 67, 0.3), 0px 1px 3px 1px rgba(60, 64, 67, 0.15);\n",
              "      fill: #174EA6;\n",
              "    }\n",
              "\n",
              "    [theme=dark] .colab-df-convert {\n",
              "      background-color: #3B4455;\n",
              "      fill: #D2E3FC;\n",
              "    }\n",
              "\n",
              "    [theme=dark] .colab-df-convert:hover {\n",
              "      background-color: #434B5C;\n",
              "      box-shadow: 0px 1px 3px 1px rgba(0, 0, 0, 0.15);\n",
              "      filter: drop-shadow(0px 1px 2px rgba(0, 0, 0, 0.3));\n",
              "      fill: #FFFFFF;\n",
              "    }\n",
              "  </style>\n",
              "\n",
              "      <script>\n",
              "        const buttonEl =\n",
              "          document.querySelector('#df-3320a1c8-edb6-43ad-8904-6fb485e4ad00 button.colab-df-convert');\n",
              "        buttonEl.style.display =\n",
              "          google.colab.kernel.accessAllowed ? 'block' : 'none';\n",
              "\n",
              "        async function convertToInteractive(key) {\n",
              "          const element = document.querySelector('#df-3320a1c8-edb6-43ad-8904-6fb485e4ad00');\n",
              "          const dataTable =\n",
              "            await google.colab.kernel.invokeFunction('convertToInteractive',\n",
              "                                                     [key], {});\n",
              "          if (!dataTable) return;\n",
              "\n",
              "          const docLinkHtml = 'Like what you see? Visit the ' +\n",
              "            '<a target=\"_blank\" href=https://colab.research.google.com/notebooks/data_table.ipynb>data table notebook</a>'\n",
              "            + ' to learn more about interactive tables.';\n",
              "          element.innerHTML = '';\n",
              "          dataTable['output_type'] = 'display_data';\n",
              "          await google.colab.output.renderOutput(dataTable, element);\n",
              "          const docLink = document.createElement('div');\n",
              "          docLink.innerHTML = docLinkHtml;\n",
              "          element.appendChild(docLink);\n",
              "        }\n",
              "      </script>\n",
              "    </div>\n",
              "  </div>\n",
              "  "
            ]
          },
          "metadata": {},
          "execution_count": 56
        }
      ]
    },
    {
      "cell_type": "markdown",
      "source": [
        "# Calculating the subjectivity and the polarity on the cleaned text"
      ],
      "metadata": {
        "id": "u0oHB9HLCzbM"
      }
    },
    {
      "cell_type": "code",
      "source": [
        "# Lets define a function to create subjectivity and polarity\n",
        "def subjectivity(text):\n",
        "  return TextBlob(text).sentiment.subjectivity\n",
        "def polarity(text):\n",
        "  return TextBlob(text).sentiment.polarity\n",
        "df_text['subjectivity'] = df_text['CleanedText'].apply(subjectivity)\n",
        "df_text['polarity'] = df_text['CleanedText'].apply(polarity)"
      ],
      "metadata": {
        "id": "V6tzN09vWAwt"
      },
      "execution_count": 57,
      "outputs": []
    },
    {
      "cell_type": "code",
      "source": [
        "df_text.head(4)"
      ],
      "metadata": {
        "colab": {
          "base_uri": "https://localhost:8080/",
          "height": 305
        },
        "id": "SurSAowBXr-E",
        "outputId": "25e363fa-cf47-4db4-f8b6-4768fd8cd4ae"
      },
      "execution_count": 58,
      "outputs": [
        {
          "output_type": "execute_result",
          "data": {
            "text/plain": [
              "                                                Title  \\\n",
              "6          Can you buy crypto with the MCO visa card?   \n",
              "54  Online wallet / service that tracks multiple c...   \n",
              "71  Now, the questions is, does crypto beat 5% ann...   \n",
              "72                    My journey in crypto since 2017   \n",
              "\n",
              "                                                 Text         Publish Date  \\\n",
              "6   Does anyone have the a copy of the text of the...  2019-10-23 05:18:38   \n",
              "54  Wallet is probably wrong word - looking for an...  2019-10-25 05:37:15   \n",
              "71  I generally disregard the very fluffy content ...  2019-10-25 21:46:01   \n",
              "72  Hi guys! I've been in crypto since August 2017...  2019-10-25 23:09:53   \n",
              "\n",
              "    char_len_of_title  char_len_of_text  WordLength  \\\n",
              "6                  42               228          37   \n",
              "54                 68               699         133   \n",
              "71                 76              1089         155   \n",
              "72                 31              1426         259   \n",
              "\n",
              "                                          CleanedText  subjectivity  polarity  \n",
              "6   anyon copi text visa agreement card mani tradi...      0.000000  0.000000  \n",
              "54  wallet probabl wrong word look onlin price tra...      0.491667 -0.183333  \n",
              "71  general disregard fluffi content publish cnbc ...      0.402381  0.107143  \n",
              "72  guy crypto sinc august sure mani might join ti...      0.379678 -0.017544  "
            ],
            "text/html": [
              "\n",
              "  <div id=\"df-bafe1f01-2acf-4503-9588-58cb965057cb\">\n",
              "    <div class=\"colab-df-container\">\n",
              "      <div>\n",
              "<style scoped>\n",
              "    .dataframe tbody tr th:only-of-type {\n",
              "        vertical-align: middle;\n",
              "    }\n",
              "\n",
              "    .dataframe tbody tr th {\n",
              "        vertical-align: top;\n",
              "    }\n",
              "\n",
              "    .dataframe thead th {\n",
              "        text-align: right;\n",
              "    }\n",
              "</style>\n",
              "<table border=\"1\" class=\"dataframe\">\n",
              "  <thead>\n",
              "    <tr style=\"text-align: right;\">\n",
              "      <th></th>\n",
              "      <th>Title</th>\n",
              "      <th>Text</th>\n",
              "      <th>Publish Date</th>\n",
              "      <th>char_len_of_title</th>\n",
              "      <th>char_len_of_text</th>\n",
              "      <th>WordLength</th>\n",
              "      <th>CleanedText</th>\n",
              "      <th>subjectivity</th>\n",
              "      <th>polarity</th>\n",
              "    </tr>\n",
              "  </thead>\n",
              "  <tbody>\n",
              "    <tr>\n",
              "      <th>6</th>\n",
              "      <td>Can you buy crypto with the MCO visa card?</td>\n",
              "      <td>Does anyone have the a copy of the text of the...</td>\n",
              "      <td>2019-10-23 05:18:38</td>\n",
              "      <td>42</td>\n",
              "      <td>228</td>\n",
              "      <td>37</td>\n",
              "      <td>anyon copi text visa agreement card mani tradi...</td>\n",
              "      <td>0.000000</td>\n",
              "      <td>0.000000</td>\n",
              "    </tr>\n",
              "    <tr>\n",
              "      <th>54</th>\n",
              "      <td>Online wallet / service that tracks multiple c...</td>\n",
              "      <td>Wallet is probably wrong word - looking for an...</td>\n",
              "      <td>2019-10-25 05:37:15</td>\n",
              "      <td>68</td>\n",
              "      <td>699</td>\n",
              "      <td>133</td>\n",
              "      <td>wallet probabl wrong word look onlin price tra...</td>\n",
              "      <td>0.491667</td>\n",
              "      <td>-0.183333</td>\n",
              "    </tr>\n",
              "    <tr>\n",
              "      <th>71</th>\n",
              "      <td>Now, the questions is, does crypto beat 5% ann...</td>\n",
              "      <td>I generally disregard the very fluffy content ...</td>\n",
              "      <td>2019-10-25 21:46:01</td>\n",
              "      <td>76</td>\n",
              "      <td>1089</td>\n",
              "      <td>155</td>\n",
              "      <td>general disregard fluffi content publish cnbc ...</td>\n",
              "      <td>0.402381</td>\n",
              "      <td>0.107143</td>\n",
              "    </tr>\n",
              "    <tr>\n",
              "      <th>72</th>\n",
              "      <td>My journey in crypto since 2017</td>\n",
              "      <td>Hi guys! I've been in crypto since August 2017...</td>\n",
              "      <td>2019-10-25 23:09:53</td>\n",
              "      <td>31</td>\n",
              "      <td>1426</td>\n",
              "      <td>259</td>\n",
              "      <td>guy crypto sinc august sure mani might join ti...</td>\n",
              "      <td>0.379678</td>\n",
              "      <td>-0.017544</td>\n",
              "    </tr>\n",
              "  </tbody>\n",
              "</table>\n",
              "</div>\n",
              "      <button class=\"colab-df-convert\" onclick=\"convertToInteractive('df-bafe1f01-2acf-4503-9588-58cb965057cb')\"\n",
              "              title=\"Convert this dataframe to an interactive table.\"\n",
              "              style=\"display:none;\">\n",
              "        \n",
              "  <svg xmlns=\"http://www.w3.org/2000/svg\" height=\"24px\"viewBox=\"0 0 24 24\"\n",
              "       width=\"24px\">\n",
              "    <path d=\"M0 0h24v24H0V0z\" fill=\"none\"/>\n",
              "    <path d=\"M18.56 5.44l.94 2.06.94-2.06 2.06-.94-2.06-.94-.94-2.06-.94 2.06-2.06.94zm-11 1L8.5 8.5l.94-2.06 2.06-.94-2.06-.94L8.5 2.5l-.94 2.06-2.06.94zm10 10l.94 2.06.94-2.06 2.06-.94-2.06-.94-.94-2.06-.94 2.06-2.06.94z\"/><path d=\"M17.41 7.96l-1.37-1.37c-.4-.4-.92-.59-1.43-.59-.52 0-1.04.2-1.43.59L10.3 9.45l-7.72 7.72c-.78.78-.78 2.05 0 2.83L4 21.41c.39.39.9.59 1.41.59.51 0 1.02-.2 1.41-.59l7.78-7.78 2.81-2.81c.8-.78.8-2.07 0-2.86zM5.41 20L4 18.59l7.72-7.72 1.47 1.35L5.41 20z\"/>\n",
              "  </svg>\n",
              "      </button>\n",
              "      \n",
              "  <style>\n",
              "    .colab-df-container {\n",
              "      display:flex;\n",
              "      flex-wrap:wrap;\n",
              "      gap: 12px;\n",
              "    }\n",
              "\n",
              "    .colab-df-convert {\n",
              "      background-color: #E8F0FE;\n",
              "      border: none;\n",
              "      border-radius: 50%;\n",
              "      cursor: pointer;\n",
              "      display: none;\n",
              "      fill: #1967D2;\n",
              "      height: 32px;\n",
              "      padding: 0 0 0 0;\n",
              "      width: 32px;\n",
              "    }\n",
              "\n",
              "    .colab-df-convert:hover {\n",
              "      background-color: #E2EBFA;\n",
              "      box-shadow: 0px 1px 2px rgba(60, 64, 67, 0.3), 0px 1px 3px 1px rgba(60, 64, 67, 0.15);\n",
              "      fill: #174EA6;\n",
              "    }\n",
              "\n",
              "    [theme=dark] .colab-df-convert {\n",
              "      background-color: #3B4455;\n",
              "      fill: #D2E3FC;\n",
              "    }\n",
              "\n",
              "    [theme=dark] .colab-df-convert:hover {\n",
              "      background-color: #434B5C;\n",
              "      box-shadow: 0px 1px 3px 1px rgba(0, 0, 0, 0.15);\n",
              "      filter: drop-shadow(0px 1px 2px rgba(0, 0, 0, 0.3));\n",
              "      fill: #FFFFFF;\n",
              "    }\n",
              "  </style>\n",
              "\n",
              "      <script>\n",
              "        const buttonEl =\n",
              "          document.querySelector('#df-bafe1f01-2acf-4503-9588-58cb965057cb button.colab-df-convert');\n",
              "        buttonEl.style.display =\n",
              "          google.colab.kernel.accessAllowed ? 'block' : 'none';\n",
              "\n",
              "        async function convertToInteractive(key) {\n",
              "          const element = document.querySelector('#df-bafe1f01-2acf-4503-9588-58cb965057cb');\n",
              "          const dataTable =\n",
              "            await google.colab.kernel.invokeFunction('convertToInteractive',\n",
              "                                                     [key], {});\n",
              "          if (!dataTable) return;\n",
              "\n",
              "          const docLinkHtml = 'Like what you see? Visit the ' +\n",
              "            '<a target=\"_blank\" href=https://colab.research.google.com/notebooks/data_table.ipynb>data table notebook</a>'\n",
              "            + ' to learn more about interactive tables.';\n",
              "          element.innerHTML = '';\n",
              "          dataTable['output_type'] = 'display_data';\n",
              "          await google.colab.output.renderOutput(dataTable, element);\n",
              "          const docLink = document.createElement('div');\n",
              "          docLink.innerHTML = docLinkHtml;\n",
              "          element.appendChild(docLink);\n",
              "        }\n",
              "      </script>\n",
              "    </div>\n",
              "  </div>\n",
              "  "
            ]
          },
          "metadata": {},
          "execution_count": 58
        }
      ]
    },
    {
      "cell_type": "code",
      "source": [
        "df_text.shape"
      ],
      "metadata": {
        "colab": {
          "base_uri": "https://localhost:8080/"
        },
        "id": "nHgoiz6o3mcN",
        "outputId": "ef72b307-c0cc-4cc4-fd37-69260ce1b9c2"
      },
      "execution_count": 59,
      "outputs": [
        {
          "output_type": "execute_result",
          "data": {
            "text/plain": [
              "(26412, 9)"
            ]
          },
          "metadata": {},
          "execution_count": 59
        }
      ]
    },
    {
      "cell_type": "markdown",
      "source": [
        "## Grouping the text based on Dates"
      ],
      "metadata": {
        "id": "BtKzoujLCtID"
      }
    },
    {
      "cell_type": "code",
      "source": [
        "# converting the publish date \n",
        "col_one_list = df_text['Publish Date'].tolist()\n",
        "col_pd=pd.DataFrame(col_one_list)"
      ],
      "metadata": {
        "id": "0hzWLo9uySjt"
      },
      "execution_count": 60,
      "outputs": []
    },
    {
      "cell_type": "code",
      "source": [
        "# Writing a function to convert dates into labels\n",
        "def dates(text):\n",
        "  text1=text.str.split()\n",
        "  return text1\n",
        "result=list()\n",
        "result=col_pd.apply(dates)\n",
        "\n"
      ],
      "metadata": {
        "id": "DA7Phn7cz76a"
      },
      "execution_count": 61,
      "outputs": []
    },
    {
      "cell_type": "code",
      "source": [
        "#Converting the dates of the dataframe\n",
        "date_list=list()\n",
        "for i in range(len(result)):\n",
        "  date_list.append(result[0][i][0])"
      ],
      "metadata": {
        "id": "Bc9aI2f71msk"
      },
      "execution_count": 62,
      "outputs": []
    },
    {
      "cell_type": "code",
      "source": [
        "df_text[\"Dates\"]=date_list"
      ],
      "metadata": {
        "id": "y0s4MAAb3f9p"
      },
      "execution_count": 63,
      "outputs": []
    },
    {
      "cell_type": "code",
      "source": [
        "df_text.columns"
      ],
      "metadata": {
        "colab": {
          "base_uri": "https://localhost:8080/"
        },
        "id": "Qn02ohUozkIJ",
        "outputId": "c2459600-c214-4865-bda5-7ecbdaa70e0b"
      },
      "execution_count": 64,
      "outputs": [
        {
          "output_type": "execute_result",
          "data": {
            "text/plain": [
              "Index(['Title', 'Text', 'Publish Date', 'char_len_of_title',\n",
              "       'char_len_of_text', 'WordLength', 'CleanedText', 'subjectivity',\n",
              "       'polarity', 'Dates'],\n",
              "      dtype='object')"
            ]
          },
          "metadata": {},
          "execution_count": 64
        }
      ]
    },
    {
      "cell_type": "code",
      "source": [
        "# Seeing the distribution of the records or rows over the dates\n",
        "df_text['Dates'].value_counts()"
      ],
      "metadata": {
        "colab": {
          "base_uri": "https://localhost:8080/"
        },
        "id": "jBHxSL8P4dJK",
        "outputId": "55e0f4e7-61f1-40cc-f1f5-c8b96e112f8d"
      },
      "execution_count": 65,
      "outputs": [
        {
          "output_type": "execute_result",
          "data": {
            "text/plain": [
              "2021-04-19    175\n",
              "2021-08-14    175\n",
              "2021-08-16    161\n",
              "2021-08-11    160\n",
              "2021-08-15    158\n",
              "             ... \n",
              "2020-06-29      1\n",
              "2020-07-03      1\n",
              "2020-07-05      1\n",
              "2020-01-28      1\n",
              "2019-10-23      1\n",
              "Name: Dates, Length: 967, dtype: int64"
            ]
          },
          "metadata": {},
          "execution_count": 65
        }
      ]
    },
    {
      "cell_type": "markdown",
      "source": [
        "## Calculating the polarity and subjectivity of crypto for each day"
      ],
      "metadata": {
        "id": "xB0M3BjqDcK2"
      }
    },
    {
      "cell_type": "code",
      "source": [
        "# grouping the records by dates and calculating the polarity and subjectivity\n",
        "df_polarity=df_text.groupby('Dates', as_index=False)['polarity'].mean()\n",
        "df_subjectivity=df_text.groupby('Dates', as_index=False)['subjectivity'].mean()"
      ],
      "metadata": {
        "id": "x8bOOsGV8p2Z"
      },
      "execution_count": 66,
      "outputs": []
    },
    {
      "cell_type": "code",
      "source": [
        "df_subjectivity.head(10)"
      ],
      "metadata": {
        "colab": {
          "base_uri": "https://localhost:8080/",
          "height": 363
        },
        "id": "D4g1foGP-zge",
        "outputId": "df8c0adc-3c0c-4200-b216-8d09ff5102e5"
      },
      "execution_count": 67,
      "outputs": [
        {
          "output_type": "execute_result",
          "data": {
            "text/plain": [
              "        Dates  subjectivity\n",
              "0  2019-10-23      0.000000\n",
              "1  2019-10-25      0.424575\n",
              "2  2019-10-27      0.147917\n",
              "3  2019-10-31      0.500244\n",
              "4  2019-11-01      0.405640\n",
              "5  2019-11-02      0.300000\n",
              "6  2019-11-03      0.555952\n",
              "7  2019-11-04      0.162778\n",
              "8  2019-11-05      0.642500\n",
              "9  2019-11-06      0.327273"
            ],
            "text/html": [
              "\n",
              "  <div id=\"df-c5cbbe18-793b-4fb7-b826-676e8c2264cc\">\n",
              "    <div class=\"colab-df-container\">\n",
              "      <div>\n",
              "<style scoped>\n",
              "    .dataframe tbody tr th:only-of-type {\n",
              "        vertical-align: middle;\n",
              "    }\n",
              "\n",
              "    .dataframe tbody tr th {\n",
              "        vertical-align: top;\n",
              "    }\n",
              "\n",
              "    .dataframe thead th {\n",
              "        text-align: right;\n",
              "    }\n",
              "</style>\n",
              "<table border=\"1\" class=\"dataframe\">\n",
              "  <thead>\n",
              "    <tr style=\"text-align: right;\">\n",
              "      <th></th>\n",
              "      <th>Dates</th>\n",
              "      <th>subjectivity</th>\n",
              "    </tr>\n",
              "  </thead>\n",
              "  <tbody>\n",
              "    <tr>\n",
              "      <th>0</th>\n",
              "      <td>2019-10-23</td>\n",
              "      <td>0.000000</td>\n",
              "    </tr>\n",
              "    <tr>\n",
              "      <th>1</th>\n",
              "      <td>2019-10-25</td>\n",
              "      <td>0.424575</td>\n",
              "    </tr>\n",
              "    <tr>\n",
              "      <th>2</th>\n",
              "      <td>2019-10-27</td>\n",
              "      <td>0.147917</td>\n",
              "    </tr>\n",
              "    <tr>\n",
              "      <th>3</th>\n",
              "      <td>2019-10-31</td>\n",
              "      <td>0.500244</td>\n",
              "    </tr>\n",
              "    <tr>\n",
              "      <th>4</th>\n",
              "      <td>2019-11-01</td>\n",
              "      <td>0.405640</td>\n",
              "    </tr>\n",
              "    <tr>\n",
              "      <th>5</th>\n",
              "      <td>2019-11-02</td>\n",
              "      <td>0.300000</td>\n",
              "    </tr>\n",
              "    <tr>\n",
              "      <th>6</th>\n",
              "      <td>2019-11-03</td>\n",
              "      <td>0.555952</td>\n",
              "    </tr>\n",
              "    <tr>\n",
              "      <th>7</th>\n",
              "      <td>2019-11-04</td>\n",
              "      <td>0.162778</td>\n",
              "    </tr>\n",
              "    <tr>\n",
              "      <th>8</th>\n",
              "      <td>2019-11-05</td>\n",
              "      <td>0.642500</td>\n",
              "    </tr>\n",
              "    <tr>\n",
              "      <th>9</th>\n",
              "      <td>2019-11-06</td>\n",
              "      <td>0.327273</td>\n",
              "    </tr>\n",
              "  </tbody>\n",
              "</table>\n",
              "</div>\n",
              "      <button class=\"colab-df-convert\" onclick=\"convertToInteractive('df-c5cbbe18-793b-4fb7-b826-676e8c2264cc')\"\n",
              "              title=\"Convert this dataframe to an interactive table.\"\n",
              "              style=\"display:none;\">\n",
              "        \n",
              "  <svg xmlns=\"http://www.w3.org/2000/svg\" height=\"24px\"viewBox=\"0 0 24 24\"\n",
              "       width=\"24px\">\n",
              "    <path d=\"M0 0h24v24H0V0z\" fill=\"none\"/>\n",
              "    <path d=\"M18.56 5.44l.94 2.06.94-2.06 2.06-.94-2.06-.94-.94-2.06-.94 2.06-2.06.94zm-11 1L8.5 8.5l.94-2.06 2.06-.94-2.06-.94L8.5 2.5l-.94 2.06-2.06.94zm10 10l.94 2.06.94-2.06 2.06-.94-2.06-.94-.94-2.06-.94 2.06-2.06.94z\"/><path d=\"M17.41 7.96l-1.37-1.37c-.4-.4-.92-.59-1.43-.59-.52 0-1.04.2-1.43.59L10.3 9.45l-7.72 7.72c-.78.78-.78 2.05 0 2.83L4 21.41c.39.39.9.59 1.41.59.51 0 1.02-.2 1.41-.59l7.78-7.78 2.81-2.81c.8-.78.8-2.07 0-2.86zM5.41 20L4 18.59l7.72-7.72 1.47 1.35L5.41 20z\"/>\n",
              "  </svg>\n",
              "      </button>\n",
              "      \n",
              "  <style>\n",
              "    .colab-df-container {\n",
              "      display:flex;\n",
              "      flex-wrap:wrap;\n",
              "      gap: 12px;\n",
              "    }\n",
              "\n",
              "    .colab-df-convert {\n",
              "      background-color: #E8F0FE;\n",
              "      border: none;\n",
              "      border-radius: 50%;\n",
              "      cursor: pointer;\n",
              "      display: none;\n",
              "      fill: #1967D2;\n",
              "      height: 32px;\n",
              "      padding: 0 0 0 0;\n",
              "      width: 32px;\n",
              "    }\n",
              "\n",
              "    .colab-df-convert:hover {\n",
              "      background-color: #E2EBFA;\n",
              "      box-shadow: 0px 1px 2px rgba(60, 64, 67, 0.3), 0px 1px 3px 1px rgba(60, 64, 67, 0.15);\n",
              "      fill: #174EA6;\n",
              "    }\n",
              "\n",
              "    [theme=dark] .colab-df-convert {\n",
              "      background-color: #3B4455;\n",
              "      fill: #D2E3FC;\n",
              "    }\n",
              "\n",
              "    [theme=dark] .colab-df-convert:hover {\n",
              "      background-color: #434B5C;\n",
              "      box-shadow: 0px 1px 3px 1px rgba(0, 0, 0, 0.15);\n",
              "      filter: drop-shadow(0px 1px 2px rgba(0, 0, 0, 0.3));\n",
              "      fill: #FFFFFF;\n",
              "    }\n",
              "  </style>\n",
              "\n",
              "      <script>\n",
              "        const buttonEl =\n",
              "          document.querySelector('#df-c5cbbe18-793b-4fb7-b826-676e8c2264cc button.colab-df-convert');\n",
              "        buttonEl.style.display =\n",
              "          google.colab.kernel.accessAllowed ? 'block' : 'none';\n",
              "\n",
              "        async function convertToInteractive(key) {\n",
              "          const element = document.querySelector('#df-c5cbbe18-793b-4fb7-b826-676e8c2264cc');\n",
              "          const dataTable =\n",
              "            await google.colab.kernel.invokeFunction('convertToInteractive',\n",
              "                                                     [key], {});\n",
              "          if (!dataTable) return;\n",
              "\n",
              "          const docLinkHtml = 'Like what you see? Visit the ' +\n",
              "            '<a target=\"_blank\" href=https://colab.research.google.com/notebooks/data_table.ipynb>data table notebook</a>'\n",
              "            + ' to learn more about interactive tables.';\n",
              "          element.innerHTML = '';\n",
              "          dataTable['output_type'] = 'display_data';\n",
              "          await google.colab.output.renderOutput(dataTable, element);\n",
              "          const docLink = document.createElement('div');\n",
              "          docLink.innerHTML = docLinkHtml;\n",
              "          element.appendChild(docLink);\n",
              "        }\n",
              "      </script>\n",
              "    </div>\n",
              "  </div>\n",
              "  "
            ]
          },
          "metadata": {},
          "execution_count": 67
        }
      ]
    },
    {
      "cell_type": "code",
      "source": [
        "# Combining both the polarity and subjectivity dataframes \n",
        "df_combined  = pd.merge(df_polarity, df_subjectivity, on ='Dates') "
      ],
      "metadata": {
        "id": "fha1s9IlEdnY"
      },
      "execution_count": 68,
      "outputs": []
    },
    {
      "cell_type": "code",
      "source": [
        "len(df_combined),len(df_text)"
      ],
      "metadata": {
        "colab": {
          "base_uri": "https://localhost:8080/"
        },
        "id": "EQbPPNRpmFjD",
        "outputId": "78984833-dcda-4dca-ae52-6e2b6f915118"
      },
      "execution_count": 69,
      "outputs": [
        {
          "output_type": "execute_result",
          "data": {
            "text/plain": [
              "(967, 26412)"
            ]
          },
          "metadata": {},
          "execution_count": 69
        }
      ]
    },
    {
      "cell_type": "code",
      "source": [
        "def analysis(score):\n",
        "  if score < 0:\n",
        "    return 'Negative'\n",
        "  elif score == 0:\n",
        "    return 'Neutral'\n",
        "  else:\n",
        "    return 'Positive'\n",
        "df_text['Analysis'] = df_text['polarity'].apply(analysis)\n",
        "df_combined['Analysis']=df_combined['polarity'].apply(analysis)"
      ],
      "metadata": {
        "id": "JseW6NQ5XwYV"
      },
      "execution_count": 70,
      "outputs": []
    },
    {
      "cell_type": "code",
      "source": [
        "df_text['Analysis'].value_counts()"
      ],
      "metadata": {
        "colab": {
          "base_uri": "https://localhost:8080/"
        },
        "id": "jRhV4JF2jylT",
        "outputId": "ef86c10e-8384-4faa-e53f-9e0ed1403f8e"
      },
      "execution_count": 71,
      "outputs": [
        {
          "output_type": "execute_result",
          "data": {
            "text/plain": [
              "Positive    19286\n",
              "Negative     5801\n",
              "Neutral      1325\n",
              "Name: Analysis, dtype: int64"
            ]
          },
          "metadata": {},
          "execution_count": 71
        }
      ]
    },
    {
      "cell_type": "code",
      "source": [
        "df_combined['Analysis'].value_counts()"
      ],
      "metadata": {
        "colab": {
          "base_uri": "https://localhost:8080/"
        },
        "id": "w_bOLOKS68vI",
        "outputId": "96262de2-bfdd-43c1-d6a5-1622fae30af0"
      },
      "execution_count": 72,
      "outputs": [
        {
          "output_type": "execute_result",
          "data": {
            "text/plain": [
              "Positive    894\n",
              "Negative     54\n",
              "Neutral      19\n",
              "Name: Analysis, dtype: int64"
            ]
          },
          "metadata": {},
          "execution_count": 72
        }
      ]
    },
    {
      "cell_type": "code",
      "source": [
        "df_combined.head(25)"
      ],
      "metadata": {
        "colab": {
          "base_uri": "https://localhost:8080/",
          "height": 833
        },
        "id": "RKUQtSVJj3VD",
        "outputId": "8843dede-7a28-4e26-92c2-b01ce4501d53"
      },
      "execution_count": 73,
      "outputs": [
        {
          "output_type": "execute_result",
          "data": {
            "text/plain": [
              "         Dates  polarity  subjectivity  Analysis\n",
              "0   2019-10-23  0.000000      0.000000   Neutral\n",
              "1   2019-10-25 -0.031245      0.424575  Negative\n",
              "2   2019-10-27 -0.002083      0.147917  Negative\n",
              "3   2019-10-31  0.187662      0.500244  Positive\n",
              "4   2019-11-01  0.097896      0.405640  Positive\n",
              "5   2019-11-02  0.200000      0.300000  Positive\n",
              "6   2019-11-03 -0.023710      0.555952  Negative\n",
              "7   2019-11-04  0.127222      0.162778  Positive\n",
              "8   2019-11-05  0.013750      0.642500  Positive\n",
              "9   2019-11-06  0.284848      0.327273  Positive\n",
              "10  2019-11-07  0.127273      0.339899  Positive\n",
              "11  2019-11-08  0.057929      0.468838  Positive\n",
              "12  2019-11-10  0.000000      0.300000   Neutral\n",
              "13  2019-11-11  0.274054      0.606673  Positive\n",
              "14  2019-11-12  0.503501      0.525631  Positive\n",
              "15  2019-11-13 -0.119792      0.234375  Negative\n",
              "16  2019-11-14 -0.034573      0.549752  Negative\n",
              "17  2019-11-15  0.000000      0.000000   Neutral\n",
              "18  2019-11-16 -0.073465      0.369518  Negative\n",
              "19  2019-11-22  0.061111      0.344444  Positive\n",
              "20  2019-11-23  0.143939      0.564347  Positive\n",
              "21  2019-11-26 -0.024002      0.351455  Negative\n",
              "22  2019-11-27 -0.045833      0.240833  Negative\n",
              "23  2019-11-29  0.073333      0.163333  Positive\n",
              "24  2019-12-02  0.800000      0.750000  Positive"
            ],
            "text/html": [
              "\n",
              "  <div id=\"df-ecd037e7-05a9-4c71-a0f0-1c1dd66e9d00\">\n",
              "    <div class=\"colab-df-container\">\n",
              "      <div>\n",
              "<style scoped>\n",
              "    .dataframe tbody tr th:only-of-type {\n",
              "        vertical-align: middle;\n",
              "    }\n",
              "\n",
              "    .dataframe tbody tr th {\n",
              "        vertical-align: top;\n",
              "    }\n",
              "\n",
              "    .dataframe thead th {\n",
              "        text-align: right;\n",
              "    }\n",
              "</style>\n",
              "<table border=\"1\" class=\"dataframe\">\n",
              "  <thead>\n",
              "    <tr style=\"text-align: right;\">\n",
              "      <th></th>\n",
              "      <th>Dates</th>\n",
              "      <th>polarity</th>\n",
              "      <th>subjectivity</th>\n",
              "      <th>Analysis</th>\n",
              "    </tr>\n",
              "  </thead>\n",
              "  <tbody>\n",
              "    <tr>\n",
              "      <th>0</th>\n",
              "      <td>2019-10-23</td>\n",
              "      <td>0.000000</td>\n",
              "      <td>0.000000</td>\n",
              "      <td>Neutral</td>\n",
              "    </tr>\n",
              "    <tr>\n",
              "      <th>1</th>\n",
              "      <td>2019-10-25</td>\n",
              "      <td>-0.031245</td>\n",
              "      <td>0.424575</td>\n",
              "      <td>Negative</td>\n",
              "    </tr>\n",
              "    <tr>\n",
              "      <th>2</th>\n",
              "      <td>2019-10-27</td>\n",
              "      <td>-0.002083</td>\n",
              "      <td>0.147917</td>\n",
              "      <td>Negative</td>\n",
              "    </tr>\n",
              "    <tr>\n",
              "      <th>3</th>\n",
              "      <td>2019-10-31</td>\n",
              "      <td>0.187662</td>\n",
              "      <td>0.500244</td>\n",
              "      <td>Positive</td>\n",
              "    </tr>\n",
              "    <tr>\n",
              "      <th>4</th>\n",
              "      <td>2019-11-01</td>\n",
              "      <td>0.097896</td>\n",
              "      <td>0.405640</td>\n",
              "      <td>Positive</td>\n",
              "    </tr>\n",
              "    <tr>\n",
              "      <th>5</th>\n",
              "      <td>2019-11-02</td>\n",
              "      <td>0.200000</td>\n",
              "      <td>0.300000</td>\n",
              "      <td>Positive</td>\n",
              "    </tr>\n",
              "    <tr>\n",
              "      <th>6</th>\n",
              "      <td>2019-11-03</td>\n",
              "      <td>-0.023710</td>\n",
              "      <td>0.555952</td>\n",
              "      <td>Negative</td>\n",
              "    </tr>\n",
              "    <tr>\n",
              "      <th>7</th>\n",
              "      <td>2019-11-04</td>\n",
              "      <td>0.127222</td>\n",
              "      <td>0.162778</td>\n",
              "      <td>Positive</td>\n",
              "    </tr>\n",
              "    <tr>\n",
              "      <th>8</th>\n",
              "      <td>2019-11-05</td>\n",
              "      <td>0.013750</td>\n",
              "      <td>0.642500</td>\n",
              "      <td>Positive</td>\n",
              "    </tr>\n",
              "    <tr>\n",
              "      <th>9</th>\n",
              "      <td>2019-11-06</td>\n",
              "      <td>0.284848</td>\n",
              "      <td>0.327273</td>\n",
              "      <td>Positive</td>\n",
              "    </tr>\n",
              "    <tr>\n",
              "      <th>10</th>\n",
              "      <td>2019-11-07</td>\n",
              "      <td>0.127273</td>\n",
              "      <td>0.339899</td>\n",
              "      <td>Positive</td>\n",
              "    </tr>\n",
              "    <tr>\n",
              "      <th>11</th>\n",
              "      <td>2019-11-08</td>\n",
              "      <td>0.057929</td>\n",
              "      <td>0.468838</td>\n",
              "      <td>Positive</td>\n",
              "    </tr>\n",
              "    <tr>\n",
              "      <th>12</th>\n",
              "      <td>2019-11-10</td>\n",
              "      <td>0.000000</td>\n",
              "      <td>0.300000</td>\n",
              "      <td>Neutral</td>\n",
              "    </tr>\n",
              "    <tr>\n",
              "      <th>13</th>\n",
              "      <td>2019-11-11</td>\n",
              "      <td>0.274054</td>\n",
              "      <td>0.606673</td>\n",
              "      <td>Positive</td>\n",
              "    </tr>\n",
              "    <tr>\n",
              "      <th>14</th>\n",
              "      <td>2019-11-12</td>\n",
              "      <td>0.503501</td>\n",
              "      <td>0.525631</td>\n",
              "      <td>Positive</td>\n",
              "    </tr>\n",
              "    <tr>\n",
              "      <th>15</th>\n",
              "      <td>2019-11-13</td>\n",
              "      <td>-0.119792</td>\n",
              "      <td>0.234375</td>\n",
              "      <td>Negative</td>\n",
              "    </tr>\n",
              "    <tr>\n",
              "      <th>16</th>\n",
              "      <td>2019-11-14</td>\n",
              "      <td>-0.034573</td>\n",
              "      <td>0.549752</td>\n",
              "      <td>Negative</td>\n",
              "    </tr>\n",
              "    <tr>\n",
              "      <th>17</th>\n",
              "      <td>2019-11-15</td>\n",
              "      <td>0.000000</td>\n",
              "      <td>0.000000</td>\n",
              "      <td>Neutral</td>\n",
              "    </tr>\n",
              "    <tr>\n",
              "      <th>18</th>\n",
              "      <td>2019-11-16</td>\n",
              "      <td>-0.073465</td>\n",
              "      <td>0.369518</td>\n",
              "      <td>Negative</td>\n",
              "    </tr>\n",
              "    <tr>\n",
              "      <th>19</th>\n",
              "      <td>2019-11-22</td>\n",
              "      <td>0.061111</td>\n",
              "      <td>0.344444</td>\n",
              "      <td>Positive</td>\n",
              "    </tr>\n",
              "    <tr>\n",
              "      <th>20</th>\n",
              "      <td>2019-11-23</td>\n",
              "      <td>0.143939</td>\n",
              "      <td>0.564347</td>\n",
              "      <td>Positive</td>\n",
              "    </tr>\n",
              "    <tr>\n",
              "      <th>21</th>\n",
              "      <td>2019-11-26</td>\n",
              "      <td>-0.024002</td>\n",
              "      <td>0.351455</td>\n",
              "      <td>Negative</td>\n",
              "    </tr>\n",
              "    <tr>\n",
              "      <th>22</th>\n",
              "      <td>2019-11-27</td>\n",
              "      <td>-0.045833</td>\n",
              "      <td>0.240833</td>\n",
              "      <td>Negative</td>\n",
              "    </tr>\n",
              "    <tr>\n",
              "      <th>23</th>\n",
              "      <td>2019-11-29</td>\n",
              "      <td>0.073333</td>\n",
              "      <td>0.163333</td>\n",
              "      <td>Positive</td>\n",
              "    </tr>\n",
              "    <tr>\n",
              "      <th>24</th>\n",
              "      <td>2019-12-02</td>\n",
              "      <td>0.800000</td>\n",
              "      <td>0.750000</td>\n",
              "      <td>Positive</td>\n",
              "    </tr>\n",
              "  </tbody>\n",
              "</table>\n",
              "</div>\n",
              "      <button class=\"colab-df-convert\" onclick=\"convertToInteractive('df-ecd037e7-05a9-4c71-a0f0-1c1dd66e9d00')\"\n",
              "              title=\"Convert this dataframe to an interactive table.\"\n",
              "              style=\"display:none;\">\n",
              "        \n",
              "  <svg xmlns=\"http://www.w3.org/2000/svg\" height=\"24px\"viewBox=\"0 0 24 24\"\n",
              "       width=\"24px\">\n",
              "    <path d=\"M0 0h24v24H0V0z\" fill=\"none\"/>\n",
              "    <path d=\"M18.56 5.44l.94 2.06.94-2.06 2.06-.94-2.06-.94-.94-2.06-.94 2.06-2.06.94zm-11 1L8.5 8.5l.94-2.06 2.06-.94-2.06-.94L8.5 2.5l-.94 2.06-2.06.94zm10 10l.94 2.06.94-2.06 2.06-.94-2.06-.94-.94-2.06-.94 2.06-2.06.94z\"/><path d=\"M17.41 7.96l-1.37-1.37c-.4-.4-.92-.59-1.43-.59-.52 0-1.04.2-1.43.59L10.3 9.45l-7.72 7.72c-.78.78-.78 2.05 0 2.83L4 21.41c.39.39.9.59 1.41.59.51 0 1.02-.2 1.41-.59l7.78-7.78 2.81-2.81c.8-.78.8-2.07 0-2.86zM5.41 20L4 18.59l7.72-7.72 1.47 1.35L5.41 20z\"/>\n",
              "  </svg>\n",
              "      </button>\n",
              "      \n",
              "  <style>\n",
              "    .colab-df-container {\n",
              "      display:flex;\n",
              "      flex-wrap:wrap;\n",
              "      gap: 12px;\n",
              "    }\n",
              "\n",
              "    .colab-df-convert {\n",
              "      background-color: #E8F0FE;\n",
              "      border: none;\n",
              "      border-radius: 50%;\n",
              "      cursor: pointer;\n",
              "      display: none;\n",
              "      fill: #1967D2;\n",
              "      height: 32px;\n",
              "      padding: 0 0 0 0;\n",
              "      width: 32px;\n",
              "    }\n",
              "\n",
              "    .colab-df-convert:hover {\n",
              "      background-color: #E2EBFA;\n",
              "      box-shadow: 0px 1px 2px rgba(60, 64, 67, 0.3), 0px 1px 3px 1px rgba(60, 64, 67, 0.15);\n",
              "      fill: #174EA6;\n",
              "    }\n",
              "\n",
              "    [theme=dark] .colab-df-convert {\n",
              "      background-color: #3B4455;\n",
              "      fill: #D2E3FC;\n",
              "    }\n",
              "\n",
              "    [theme=dark] .colab-df-convert:hover {\n",
              "      background-color: #434B5C;\n",
              "      box-shadow: 0px 1px 3px 1px rgba(0, 0, 0, 0.15);\n",
              "      filter: drop-shadow(0px 1px 2px rgba(0, 0, 0, 0.3));\n",
              "      fill: #FFFFFF;\n",
              "    }\n",
              "  </style>\n",
              "\n",
              "      <script>\n",
              "        const buttonEl =\n",
              "          document.querySelector('#df-ecd037e7-05a9-4c71-a0f0-1c1dd66e9d00 button.colab-df-convert');\n",
              "        buttonEl.style.display =\n",
              "          google.colab.kernel.accessAllowed ? 'block' : 'none';\n",
              "\n",
              "        async function convertToInteractive(key) {\n",
              "          const element = document.querySelector('#df-ecd037e7-05a9-4c71-a0f0-1c1dd66e9d00');\n",
              "          const dataTable =\n",
              "            await google.colab.kernel.invokeFunction('convertToInteractive',\n",
              "                                                     [key], {});\n",
              "          if (!dataTable) return;\n",
              "\n",
              "          const docLinkHtml = 'Like what you see? Visit the ' +\n",
              "            '<a target=\"_blank\" href=https://colab.research.google.com/notebooks/data_table.ipynb>data table notebook</a>'\n",
              "            + ' to learn more about interactive tables.';\n",
              "          element.innerHTML = '';\n",
              "          dataTable['output_type'] = 'display_data';\n",
              "          await google.colab.output.renderOutput(dataTable, element);\n",
              "          const docLink = document.createElement('div');\n",
              "          docLink.innerHTML = docLinkHtml;\n",
              "          element.appendChild(docLink);\n",
              "        }\n",
              "      </script>\n",
              "    </div>\n",
              "  </div>\n",
              "  "
            ]
          },
          "metadata": {},
          "execution_count": 73
        }
      ]
    },
    {
      "cell_type": "code",
      "source": [
        "df_combined.head(5)"
      ],
      "metadata": {
        "colab": {
          "base_uri": "https://localhost:8080/",
          "height": 206
        },
        "id": "F18KxNGg7MmC",
        "outputId": "6dca7f73-192d-4ff4-9961-a018672e6604"
      },
      "execution_count": 74,
      "outputs": [
        {
          "output_type": "execute_result",
          "data": {
            "text/plain": [
              "        Dates  polarity  subjectivity  Analysis\n",
              "0  2019-10-23  0.000000      0.000000   Neutral\n",
              "1  2019-10-25 -0.031245      0.424575  Negative\n",
              "2  2019-10-27 -0.002083      0.147917  Negative\n",
              "3  2019-10-31  0.187662      0.500244  Positive\n",
              "4  2019-11-01  0.097896      0.405640  Positive"
            ],
            "text/html": [
              "\n",
              "  <div id=\"df-2691328b-75cc-4905-97a4-eea7a7227a80\">\n",
              "    <div class=\"colab-df-container\">\n",
              "      <div>\n",
              "<style scoped>\n",
              "    .dataframe tbody tr th:only-of-type {\n",
              "        vertical-align: middle;\n",
              "    }\n",
              "\n",
              "    .dataframe tbody tr th {\n",
              "        vertical-align: top;\n",
              "    }\n",
              "\n",
              "    .dataframe thead th {\n",
              "        text-align: right;\n",
              "    }\n",
              "</style>\n",
              "<table border=\"1\" class=\"dataframe\">\n",
              "  <thead>\n",
              "    <tr style=\"text-align: right;\">\n",
              "      <th></th>\n",
              "      <th>Dates</th>\n",
              "      <th>polarity</th>\n",
              "      <th>subjectivity</th>\n",
              "      <th>Analysis</th>\n",
              "    </tr>\n",
              "  </thead>\n",
              "  <tbody>\n",
              "    <tr>\n",
              "      <th>0</th>\n",
              "      <td>2019-10-23</td>\n",
              "      <td>0.000000</td>\n",
              "      <td>0.000000</td>\n",
              "      <td>Neutral</td>\n",
              "    </tr>\n",
              "    <tr>\n",
              "      <th>1</th>\n",
              "      <td>2019-10-25</td>\n",
              "      <td>-0.031245</td>\n",
              "      <td>0.424575</td>\n",
              "      <td>Negative</td>\n",
              "    </tr>\n",
              "    <tr>\n",
              "      <th>2</th>\n",
              "      <td>2019-10-27</td>\n",
              "      <td>-0.002083</td>\n",
              "      <td>0.147917</td>\n",
              "      <td>Negative</td>\n",
              "    </tr>\n",
              "    <tr>\n",
              "      <th>3</th>\n",
              "      <td>2019-10-31</td>\n",
              "      <td>0.187662</td>\n",
              "      <td>0.500244</td>\n",
              "      <td>Positive</td>\n",
              "    </tr>\n",
              "    <tr>\n",
              "      <th>4</th>\n",
              "      <td>2019-11-01</td>\n",
              "      <td>0.097896</td>\n",
              "      <td>0.405640</td>\n",
              "      <td>Positive</td>\n",
              "    </tr>\n",
              "  </tbody>\n",
              "</table>\n",
              "</div>\n",
              "      <button class=\"colab-df-convert\" onclick=\"convertToInteractive('df-2691328b-75cc-4905-97a4-eea7a7227a80')\"\n",
              "              title=\"Convert this dataframe to an interactive table.\"\n",
              "              style=\"display:none;\">\n",
              "        \n",
              "  <svg xmlns=\"http://www.w3.org/2000/svg\" height=\"24px\"viewBox=\"0 0 24 24\"\n",
              "       width=\"24px\">\n",
              "    <path d=\"M0 0h24v24H0V0z\" fill=\"none\"/>\n",
              "    <path d=\"M18.56 5.44l.94 2.06.94-2.06 2.06-.94-2.06-.94-.94-2.06-.94 2.06-2.06.94zm-11 1L8.5 8.5l.94-2.06 2.06-.94-2.06-.94L8.5 2.5l-.94 2.06-2.06.94zm10 10l.94 2.06.94-2.06 2.06-.94-2.06-.94-.94-2.06-.94 2.06-2.06.94z\"/><path d=\"M17.41 7.96l-1.37-1.37c-.4-.4-.92-.59-1.43-.59-.52 0-1.04.2-1.43.59L10.3 9.45l-7.72 7.72c-.78.78-.78 2.05 0 2.83L4 21.41c.39.39.9.59 1.41.59.51 0 1.02-.2 1.41-.59l7.78-7.78 2.81-2.81c.8-.78.8-2.07 0-2.86zM5.41 20L4 18.59l7.72-7.72 1.47 1.35L5.41 20z\"/>\n",
              "  </svg>\n",
              "      </button>\n",
              "      \n",
              "  <style>\n",
              "    .colab-df-container {\n",
              "      display:flex;\n",
              "      flex-wrap:wrap;\n",
              "      gap: 12px;\n",
              "    }\n",
              "\n",
              "    .colab-df-convert {\n",
              "      background-color: #E8F0FE;\n",
              "      border: none;\n",
              "      border-radius: 50%;\n",
              "      cursor: pointer;\n",
              "      display: none;\n",
              "      fill: #1967D2;\n",
              "      height: 32px;\n",
              "      padding: 0 0 0 0;\n",
              "      width: 32px;\n",
              "    }\n",
              "\n",
              "    .colab-df-convert:hover {\n",
              "      background-color: #E2EBFA;\n",
              "      box-shadow: 0px 1px 2px rgba(60, 64, 67, 0.3), 0px 1px 3px 1px rgba(60, 64, 67, 0.15);\n",
              "      fill: #174EA6;\n",
              "    }\n",
              "\n",
              "    [theme=dark] .colab-df-convert {\n",
              "      background-color: #3B4455;\n",
              "      fill: #D2E3FC;\n",
              "    }\n",
              "\n",
              "    [theme=dark] .colab-df-convert:hover {\n",
              "      background-color: #434B5C;\n",
              "      box-shadow: 0px 1px 3px 1px rgba(0, 0, 0, 0.15);\n",
              "      filter: drop-shadow(0px 1px 2px rgba(0, 0, 0, 0.3));\n",
              "      fill: #FFFFFF;\n",
              "    }\n",
              "  </style>\n",
              "\n",
              "      <script>\n",
              "        const buttonEl =\n",
              "          document.querySelector('#df-2691328b-75cc-4905-97a4-eea7a7227a80 button.colab-df-convert');\n",
              "        buttonEl.style.display =\n",
              "          google.colab.kernel.accessAllowed ? 'block' : 'none';\n",
              "\n",
              "        async function convertToInteractive(key) {\n",
              "          const element = document.querySelector('#df-2691328b-75cc-4905-97a4-eea7a7227a80');\n",
              "          const dataTable =\n",
              "            await google.colab.kernel.invokeFunction('convertToInteractive',\n",
              "                                                     [key], {});\n",
              "          if (!dataTable) return;\n",
              "\n",
              "          const docLinkHtml = 'Like what you see? Visit the ' +\n",
              "            '<a target=\"_blank\" href=https://colab.research.google.com/notebooks/data_table.ipynb>data table notebook</a>'\n",
              "            + ' to learn more about interactive tables.';\n",
              "          element.innerHTML = '';\n",
              "          dataTable['output_type'] = 'display_data';\n",
              "          await google.colab.output.renderOutput(dataTable, element);\n",
              "          const docLink = document.createElement('div');\n",
              "          docLink.innerHTML = docLinkHtml;\n",
              "          element.appendChild(docLink);\n",
              "        }\n",
              "      </script>\n",
              "    </div>\n",
              "  </div>\n",
              "  "
            ]
          },
          "metadata": {},
          "execution_count": 74
        }
      ]
    },
    {
      "cell_type": "code",
      "source": [
        "df_complete = df_combined.copy()\n",
        "df_complete['Dates'] = pd.to_datetime(df_complete['Dates'])\n",
        "df_complete.index = df_complete['Dates']\n",
        "del df_complete['Dates']"
      ],
      "metadata": {
        "id": "fPAPkxQlW3WH"
      },
      "execution_count": 75,
      "outputs": []
    },
    {
      "cell_type": "code",
      "source": [
        "df_complete1=df_complete.resample('D').mean()\n",
        "df_1=df_complete1.copy()"
      ],
      "metadata": {
        "id": "veGt867sYSez"
      },
      "execution_count": 76,
      "outputs": []
    },
    {
      "cell_type": "code",
      "source": [],
      "metadata": {
        "id": "hGnV_JNmdoT3"
      },
      "execution_count": 76,
      "outputs": []
    },
    {
      "cell_type": "code",
      "source": [
        "df_1.shape"
      ],
      "metadata": {
        "colab": {
          "base_uri": "https://localhost:8080/"
        },
        "id": "YUVlxjxNiXP9",
        "outputId": "5ffa1f64-bef5-4ff7-b20b-8c9a3f662579"
      },
      "execution_count": 77,
      "outputs": [
        {
          "output_type": "execute_result",
          "data": {
            "text/plain": [
              "(1097, 2)"
            ]
          },
          "metadata": {},
          "execution_count": 77
        }
      ]
    },
    {
      "cell_type": "code",
      "source": [
        "df_final=df_1.resample(\"1d\").sum().fillna(0).rolling(window=6, min_periods=1).mean()"
      ],
      "metadata": {
        "id": "SmV1OU73in1A"
      },
      "execution_count": 78,
      "outputs": []
    },
    {
      "cell_type": "code",
      "source": [
        "df_final.polarity.value_counts()"
      ],
      "metadata": {
        "colab": {
          "base_uri": "https://localhost:8080/"
        },
        "id": "AMWOUaSru7MY",
        "outputId": "5f8dff7d-c8be-4c94-f7c7-294d2a1371d8"
      },
      "execution_count": 79,
      "outputs": [
        {
          "output_type": "execute_result",
          "data": {
            "text/plain": [
              " 9.251859e-18    5\n",
              " 3.700743e-17    4\n",
              " 0.000000e+00    3\n",
              " 6.822917e-02    3\n",
              "-5.554685e-03    3\n",
              "                ..\n",
              " 1.116597e-01    1\n",
              " 1.063177e-01    1\n",
              " 1.147618e-01    1\n",
              " 1.495653e-01    1\n",
              " 9.652844e-02    1\n",
              "Name: polarity, Length: 1045, dtype: int64"
            ]
          },
          "metadata": {},
          "execution_count": 79
        }
      ]
    },
    {
      "cell_type": "markdown",
      "source": [
        "## Filling the missing values of subjectivity and polarity for certain days"
      ],
      "metadata": {
        "id": "As4q4RHaEOSn"
      }
    },
    {
      "cell_type": "code",
      "source": [
        "df_complete1[\"polarity\"].fillna(df_complete1[\"polarity\"].mean(), inplace=True)\n",
        "df_complete1[\"subjectivity\"].fillna(df_complete1[\"subjectivity\"].mean(), inplace=True)"
      ],
      "metadata": {
        "id": "FmGhf8v-aUo5"
      },
      "execution_count": 80,
      "outputs": []
    },
    {
      "cell_type": "code",
      "source": [
        "df_complete1.head(56)"
      ],
      "metadata": {
        "colab": {
          "base_uri": "https://localhost:8080/",
          "height": 1000
        },
        "id": "xCSR-cMeXVjE",
        "outputId": "78ef1425-2bca-44f4-c970-d4c55ba9371a"
      },
      "execution_count": 81,
      "outputs": [
        {
          "output_type": "execute_result",
          "data": {
            "text/plain": [
              "            polarity  subjectivity\n",
              "Dates                             \n",
              "2019-10-23  0.000000      0.000000\n",
              "2019-10-24  0.101891      0.429612\n",
              "2019-10-25 -0.031245      0.424575\n",
              "2019-10-26  0.101891      0.429612\n",
              "2019-10-27 -0.002083      0.147917\n",
              "2019-10-28  0.101891      0.429612\n",
              "2019-10-29  0.101891      0.429612\n",
              "2019-10-30  0.101891      0.429612\n",
              "2019-10-31  0.187662      0.500244\n",
              "2019-11-01  0.097896      0.405640\n",
              "2019-11-02  0.200000      0.300000\n",
              "2019-11-03 -0.023710      0.555952\n",
              "2019-11-04  0.127222      0.162778\n",
              "2019-11-05  0.013750      0.642500\n",
              "2019-11-06  0.284848      0.327273\n",
              "2019-11-07  0.127273      0.339899\n",
              "2019-11-08  0.057929      0.468838\n",
              "2019-11-09  0.101891      0.429612\n",
              "2019-11-10  0.000000      0.300000\n",
              "2019-11-11  0.274054      0.606673\n",
              "2019-11-12  0.503501      0.525631\n",
              "2019-11-13 -0.119792      0.234375\n",
              "2019-11-14 -0.034573      0.549752\n",
              "2019-11-15  0.000000      0.000000\n",
              "2019-11-16 -0.073465      0.369518\n",
              "2019-11-17  0.101891      0.429612\n",
              "2019-11-18  0.101891      0.429612\n",
              "2019-11-19  0.101891      0.429612\n",
              "2019-11-20  0.101891      0.429612\n",
              "2019-11-21  0.101891      0.429612\n",
              "2019-11-22  0.061111      0.344444\n",
              "2019-11-23  0.143939      0.564347\n",
              "2019-11-24  0.101891      0.429612\n",
              "2019-11-25  0.101891      0.429612\n",
              "2019-11-26 -0.024002      0.351455\n",
              "2019-11-27 -0.045833      0.240833\n",
              "2019-11-28  0.101891      0.429612\n",
              "2019-11-29  0.073333      0.163333\n",
              "2019-11-30  0.101891      0.429612\n",
              "2019-12-01  0.101891      0.429612\n",
              "2019-12-02  0.800000      0.750000\n",
              "2019-12-03  0.101891      0.429612\n",
              "2019-12-04  0.111667      0.359551\n",
              "2019-12-05  0.101891      0.429612\n",
              "2019-12-06  0.141551      0.512963\n",
              "2019-12-07  0.101891      0.429612\n",
              "2019-12-08  0.176190      0.241667\n",
              "2019-12-09  0.102462      0.410985\n",
              "2019-12-10  0.019792      0.614583\n",
              "2019-12-11  0.005349      0.468964\n",
              "2019-12-12  0.000000      0.125000\n",
              "2019-12-13  0.101891      0.429612\n",
              "2019-12-14  0.262500      0.406250\n",
              "2019-12-15  0.101891      0.429612\n",
              "2019-12-16  0.146875      0.543750\n",
              "2019-12-17  0.101891      0.429612"
            ],
            "text/html": [
              "\n",
              "  <div id=\"df-15972802-b8d8-45da-bb8f-66753487e455\">\n",
              "    <div class=\"colab-df-container\">\n",
              "      <div>\n",
              "<style scoped>\n",
              "    .dataframe tbody tr th:only-of-type {\n",
              "        vertical-align: middle;\n",
              "    }\n",
              "\n",
              "    .dataframe tbody tr th {\n",
              "        vertical-align: top;\n",
              "    }\n",
              "\n",
              "    .dataframe thead th {\n",
              "        text-align: right;\n",
              "    }\n",
              "</style>\n",
              "<table border=\"1\" class=\"dataframe\">\n",
              "  <thead>\n",
              "    <tr style=\"text-align: right;\">\n",
              "      <th></th>\n",
              "      <th>polarity</th>\n",
              "      <th>subjectivity</th>\n",
              "    </tr>\n",
              "    <tr>\n",
              "      <th>Dates</th>\n",
              "      <th></th>\n",
              "      <th></th>\n",
              "    </tr>\n",
              "  </thead>\n",
              "  <tbody>\n",
              "    <tr>\n",
              "      <th>2019-10-23</th>\n",
              "      <td>0.000000</td>\n",
              "      <td>0.000000</td>\n",
              "    </tr>\n",
              "    <tr>\n",
              "      <th>2019-10-24</th>\n",
              "      <td>0.101891</td>\n",
              "      <td>0.429612</td>\n",
              "    </tr>\n",
              "    <tr>\n",
              "      <th>2019-10-25</th>\n",
              "      <td>-0.031245</td>\n",
              "      <td>0.424575</td>\n",
              "    </tr>\n",
              "    <tr>\n",
              "      <th>2019-10-26</th>\n",
              "      <td>0.101891</td>\n",
              "      <td>0.429612</td>\n",
              "    </tr>\n",
              "    <tr>\n",
              "      <th>2019-10-27</th>\n",
              "      <td>-0.002083</td>\n",
              "      <td>0.147917</td>\n",
              "    </tr>\n",
              "    <tr>\n",
              "      <th>2019-10-28</th>\n",
              "      <td>0.101891</td>\n",
              "      <td>0.429612</td>\n",
              "    </tr>\n",
              "    <tr>\n",
              "      <th>2019-10-29</th>\n",
              "      <td>0.101891</td>\n",
              "      <td>0.429612</td>\n",
              "    </tr>\n",
              "    <tr>\n",
              "      <th>2019-10-30</th>\n",
              "      <td>0.101891</td>\n",
              "      <td>0.429612</td>\n",
              "    </tr>\n",
              "    <tr>\n",
              "      <th>2019-10-31</th>\n",
              "      <td>0.187662</td>\n",
              "      <td>0.500244</td>\n",
              "    </tr>\n",
              "    <tr>\n",
              "      <th>2019-11-01</th>\n",
              "      <td>0.097896</td>\n",
              "      <td>0.405640</td>\n",
              "    </tr>\n",
              "    <tr>\n",
              "      <th>2019-11-02</th>\n",
              "      <td>0.200000</td>\n",
              "      <td>0.300000</td>\n",
              "    </tr>\n",
              "    <tr>\n",
              "      <th>2019-11-03</th>\n",
              "      <td>-0.023710</td>\n",
              "      <td>0.555952</td>\n",
              "    </tr>\n",
              "    <tr>\n",
              "      <th>2019-11-04</th>\n",
              "      <td>0.127222</td>\n",
              "      <td>0.162778</td>\n",
              "    </tr>\n",
              "    <tr>\n",
              "      <th>2019-11-05</th>\n",
              "      <td>0.013750</td>\n",
              "      <td>0.642500</td>\n",
              "    </tr>\n",
              "    <tr>\n",
              "      <th>2019-11-06</th>\n",
              "      <td>0.284848</td>\n",
              "      <td>0.327273</td>\n",
              "    </tr>\n",
              "    <tr>\n",
              "      <th>2019-11-07</th>\n",
              "      <td>0.127273</td>\n",
              "      <td>0.339899</td>\n",
              "    </tr>\n",
              "    <tr>\n",
              "      <th>2019-11-08</th>\n",
              "      <td>0.057929</td>\n",
              "      <td>0.468838</td>\n",
              "    </tr>\n",
              "    <tr>\n",
              "      <th>2019-11-09</th>\n",
              "      <td>0.101891</td>\n",
              "      <td>0.429612</td>\n",
              "    </tr>\n",
              "    <tr>\n",
              "      <th>2019-11-10</th>\n",
              "      <td>0.000000</td>\n",
              "      <td>0.300000</td>\n",
              "    </tr>\n",
              "    <tr>\n",
              "      <th>2019-11-11</th>\n",
              "      <td>0.274054</td>\n",
              "      <td>0.606673</td>\n",
              "    </tr>\n",
              "    <tr>\n",
              "      <th>2019-11-12</th>\n",
              "      <td>0.503501</td>\n",
              "      <td>0.525631</td>\n",
              "    </tr>\n",
              "    <tr>\n",
              "      <th>2019-11-13</th>\n",
              "      <td>-0.119792</td>\n",
              "      <td>0.234375</td>\n",
              "    </tr>\n",
              "    <tr>\n",
              "      <th>2019-11-14</th>\n",
              "      <td>-0.034573</td>\n",
              "      <td>0.549752</td>\n",
              "    </tr>\n",
              "    <tr>\n",
              "      <th>2019-11-15</th>\n",
              "      <td>0.000000</td>\n",
              "      <td>0.000000</td>\n",
              "    </tr>\n",
              "    <tr>\n",
              "      <th>2019-11-16</th>\n",
              "      <td>-0.073465</td>\n",
              "      <td>0.369518</td>\n",
              "    </tr>\n",
              "    <tr>\n",
              "      <th>2019-11-17</th>\n",
              "      <td>0.101891</td>\n",
              "      <td>0.429612</td>\n",
              "    </tr>\n",
              "    <tr>\n",
              "      <th>2019-11-18</th>\n",
              "      <td>0.101891</td>\n",
              "      <td>0.429612</td>\n",
              "    </tr>\n",
              "    <tr>\n",
              "      <th>2019-11-19</th>\n",
              "      <td>0.101891</td>\n",
              "      <td>0.429612</td>\n",
              "    </tr>\n",
              "    <tr>\n",
              "      <th>2019-11-20</th>\n",
              "      <td>0.101891</td>\n",
              "      <td>0.429612</td>\n",
              "    </tr>\n",
              "    <tr>\n",
              "      <th>2019-11-21</th>\n",
              "      <td>0.101891</td>\n",
              "      <td>0.429612</td>\n",
              "    </tr>\n",
              "    <tr>\n",
              "      <th>2019-11-22</th>\n",
              "      <td>0.061111</td>\n",
              "      <td>0.344444</td>\n",
              "    </tr>\n",
              "    <tr>\n",
              "      <th>2019-11-23</th>\n",
              "      <td>0.143939</td>\n",
              "      <td>0.564347</td>\n",
              "    </tr>\n",
              "    <tr>\n",
              "      <th>2019-11-24</th>\n",
              "      <td>0.101891</td>\n",
              "      <td>0.429612</td>\n",
              "    </tr>\n",
              "    <tr>\n",
              "      <th>2019-11-25</th>\n",
              "      <td>0.101891</td>\n",
              "      <td>0.429612</td>\n",
              "    </tr>\n",
              "    <tr>\n",
              "      <th>2019-11-26</th>\n",
              "      <td>-0.024002</td>\n",
              "      <td>0.351455</td>\n",
              "    </tr>\n",
              "    <tr>\n",
              "      <th>2019-11-27</th>\n",
              "      <td>-0.045833</td>\n",
              "      <td>0.240833</td>\n",
              "    </tr>\n",
              "    <tr>\n",
              "      <th>2019-11-28</th>\n",
              "      <td>0.101891</td>\n",
              "      <td>0.429612</td>\n",
              "    </tr>\n",
              "    <tr>\n",
              "      <th>2019-11-29</th>\n",
              "      <td>0.073333</td>\n",
              "      <td>0.163333</td>\n",
              "    </tr>\n",
              "    <tr>\n",
              "      <th>2019-11-30</th>\n",
              "      <td>0.101891</td>\n",
              "      <td>0.429612</td>\n",
              "    </tr>\n",
              "    <tr>\n",
              "      <th>2019-12-01</th>\n",
              "      <td>0.101891</td>\n",
              "      <td>0.429612</td>\n",
              "    </tr>\n",
              "    <tr>\n",
              "      <th>2019-12-02</th>\n",
              "      <td>0.800000</td>\n",
              "      <td>0.750000</td>\n",
              "    </tr>\n",
              "    <tr>\n",
              "      <th>2019-12-03</th>\n",
              "      <td>0.101891</td>\n",
              "      <td>0.429612</td>\n",
              "    </tr>\n",
              "    <tr>\n",
              "      <th>2019-12-04</th>\n",
              "      <td>0.111667</td>\n",
              "      <td>0.359551</td>\n",
              "    </tr>\n",
              "    <tr>\n",
              "      <th>2019-12-05</th>\n",
              "      <td>0.101891</td>\n",
              "      <td>0.429612</td>\n",
              "    </tr>\n",
              "    <tr>\n",
              "      <th>2019-12-06</th>\n",
              "      <td>0.141551</td>\n",
              "      <td>0.512963</td>\n",
              "    </tr>\n",
              "    <tr>\n",
              "      <th>2019-12-07</th>\n",
              "      <td>0.101891</td>\n",
              "      <td>0.429612</td>\n",
              "    </tr>\n",
              "    <tr>\n",
              "      <th>2019-12-08</th>\n",
              "      <td>0.176190</td>\n",
              "      <td>0.241667</td>\n",
              "    </tr>\n",
              "    <tr>\n",
              "      <th>2019-12-09</th>\n",
              "      <td>0.102462</td>\n",
              "      <td>0.410985</td>\n",
              "    </tr>\n",
              "    <tr>\n",
              "      <th>2019-12-10</th>\n",
              "      <td>0.019792</td>\n",
              "      <td>0.614583</td>\n",
              "    </tr>\n",
              "    <tr>\n",
              "      <th>2019-12-11</th>\n",
              "      <td>0.005349</td>\n",
              "      <td>0.468964</td>\n",
              "    </tr>\n",
              "    <tr>\n",
              "      <th>2019-12-12</th>\n",
              "      <td>0.000000</td>\n",
              "      <td>0.125000</td>\n",
              "    </tr>\n",
              "    <tr>\n",
              "      <th>2019-12-13</th>\n",
              "      <td>0.101891</td>\n",
              "      <td>0.429612</td>\n",
              "    </tr>\n",
              "    <tr>\n",
              "      <th>2019-12-14</th>\n",
              "      <td>0.262500</td>\n",
              "      <td>0.406250</td>\n",
              "    </tr>\n",
              "    <tr>\n",
              "      <th>2019-12-15</th>\n",
              "      <td>0.101891</td>\n",
              "      <td>0.429612</td>\n",
              "    </tr>\n",
              "    <tr>\n",
              "      <th>2019-12-16</th>\n",
              "      <td>0.146875</td>\n",
              "      <td>0.543750</td>\n",
              "    </tr>\n",
              "    <tr>\n",
              "      <th>2019-12-17</th>\n",
              "      <td>0.101891</td>\n",
              "      <td>0.429612</td>\n",
              "    </tr>\n",
              "  </tbody>\n",
              "</table>\n",
              "</div>\n",
              "      <button class=\"colab-df-convert\" onclick=\"convertToInteractive('df-15972802-b8d8-45da-bb8f-66753487e455')\"\n",
              "              title=\"Convert this dataframe to an interactive table.\"\n",
              "              style=\"display:none;\">\n",
              "        \n",
              "  <svg xmlns=\"http://www.w3.org/2000/svg\" height=\"24px\"viewBox=\"0 0 24 24\"\n",
              "       width=\"24px\">\n",
              "    <path d=\"M0 0h24v24H0V0z\" fill=\"none\"/>\n",
              "    <path d=\"M18.56 5.44l.94 2.06.94-2.06 2.06-.94-2.06-.94-.94-2.06-.94 2.06-2.06.94zm-11 1L8.5 8.5l.94-2.06 2.06-.94-2.06-.94L8.5 2.5l-.94 2.06-2.06.94zm10 10l.94 2.06.94-2.06 2.06-.94-2.06-.94-.94-2.06-.94 2.06-2.06.94z\"/><path d=\"M17.41 7.96l-1.37-1.37c-.4-.4-.92-.59-1.43-.59-.52 0-1.04.2-1.43.59L10.3 9.45l-7.72 7.72c-.78.78-.78 2.05 0 2.83L4 21.41c.39.39.9.59 1.41.59.51 0 1.02-.2 1.41-.59l7.78-7.78 2.81-2.81c.8-.78.8-2.07 0-2.86zM5.41 20L4 18.59l7.72-7.72 1.47 1.35L5.41 20z\"/>\n",
              "  </svg>\n",
              "      </button>\n",
              "      \n",
              "  <style>\n",
              "    .colab-df-container {\n",
              "      display:flex;\n",
              "      flex-wrap:wrap;\n",
              "      gap: 12px;\n",
              "    }\n",
              "\n",
              "    .colab-df-convert {\n",
              "      background-color: #E8F0FE;\n",
              "      border: none;\n",
              "      border-radius: 50%;\n",
              "      cursor: pointer;\n",
              "      display: none;\n",
              "      fill: #1967D2;\n",
              "      height: 32px;\n",
              "      padding: 0 0 0 0;\n",
              "      width: 32px;\n",
              "    }\n",
              "\n",
              "    .colab-df-convert:hover {\n",
              "      background-color: #E2EBFA;\n",
              "      box-shadow: 0px 1px 2px rgba(60, 64, 67, 0.3), 0px 1px 3px 1px rgba(60, 64, 67, 0.15);\n",
              "      fill: #174EA6;\n",
              "    }\n",
              "\n",
              "    [theme=dark] .colab-df-convert {\n",
              "      background-color: #3B4455;\n",
              "      fill: #D2E3FC;\n",
              "    }\n",
              "\n",
              "    [theme=dark] .colab-df-convert:hover {\n",
              "      background-color: #434B5C;\n",
              "      box-shadow: 0px 1px 3px 1px rgba(0, 0, 0, 0.15);\n",
              "      filter: drop-shadow(0px 1px 2px rgba(0, 0, 0, 0.3));\n",
              "      fill: #FFFFFF;\n",
              "    }\n",
              "  </style>\n",
              "\n",
              "      <script>\n",
              "        const buttonEl =\n",
              "          document.querySelector('#df-15972802-b8d8-45da-bb8f-66753487e455 button.colab-df-convert');\n",
              "        buttonEl.style.display =\n",
              "          google.colab.kernel.accessAllowed ? 'block' : 'none';\n",
              "\n",
              "        async function convertToInteractive(key) {\n",
              "          const element = document.querySelector('#df-15972802-b8d8-45da-bb8f-66753487e455');\n",
              "          const dataTable =\n",
              "            await google.colab.kernel.invokeFunction('convertToInteractive',\n",
              "                                                     [key], {});\n",
              "          if (!dataTable) return;\n",
              "\n",
              "          const docLinkHtml = 'Like what you see? Visit the ' +\n",
              "            '<a target=\"_blank\" href=https://colab.research.google.com/notebooks/data_table.ipynb>data table notebook</a>'\n",
              "            + ' to learn more about interactive tables.';\n",
              "          element.innerHTML = '';\n",
              "          dataTable['output_type'] = 'display_data';\n",
              "          await google.colab.output.renderOutput(dataTable, element);\n",
              "          const docLink = document.createElement('div');\n",
              "          docLink.innerHTML = docLinkHtml;\n",
              "          element.appendChild(docLink);\n",
              "        }\n",
              "      </script>\n",
              "    </div>\n",
              "  </div>\n",
              "  "
            ]
          },
          "metadata": {},
          "execution_count": 81
        }
      ]
    },
    {
      "cell_type": "code",
      "source": [
        "index=1\n",
        "sort_val=df_text.sort_values(by=['polarity'])\n",
        "print(len(sort_val))\n",
        "sort_neg_df=sort_val[sort_val['Analysis'] == 'Negative' ]\n",
        "sort_neutral_df=sort_val[sort_val['Analysis'] == 'Neutral' ]\n",
        "sort_positive_df=sort_val[sort_val['Analysis'] == 'Positive' ]"
      ],
      "metadata": {
        "colab": {
          "base_uri": "https://localhost:8080/"
        },
        "id": "0AunXCRzlpfA",
        "outputId": "d5216c09-d05b-463a-8eef-78bc856da801"
      },
      "execution_count": 82,
      "outputs": [
        {
          "output_type": "stream",
          "name": "stdout",
          "text": [
            "26412\n"
          ]
        }
      ]
    },
    {
      "cell_type": "code",
      "source": [
        "sort_neg_df.Analysis.value_counts()"
      ],
      "metadata": {
        "id": "IJslhHDUfWeq",
        "colab": {
          "base_uri": "https://localhost:8080/"
        },
        "outputId": "55292367-97af-446e-cade-2d67158c6b5f"
      },
      "execution_count": 83,
      "outputs": [
        {
          "output_type": "execute_result",
          "data": {
            "text/plain": [
              "Negative    5801\n",
              "Name: Analysis, dtype: int64"
            ]
          },
          "metadata": {},
          "execution_count": 83
        }
      ]
    },
    {
      "cell_type": "code",
      "source": [
        "len(df_final)"
      ],
      "metadata": {
        "colab": {
          "base_uri": "https://localhost:8080/"
        },
        "id": "mSVnvup0-qCE",
        "outputId": "6dc9b358-d381-49f0-f35e-5a8c853b528e"
      },
      "execution_count": 84,
      "outputs": [
        {
          "output_type": "execute_result",
          "data": {
            "text/plain": [
              "1097"
            ]
          },
          "metadata": {},
          "execution_count": 84
        }
      ]
    },
    {
      "cell_type": "markdown",
      "source": [
        "# Storing the  sentiment values in the form of csv"
      ],
      "metadata": {
        "id": "cnb9Bp8QEbp2"
      }
    },
    {
      "cell_type": "code",
      "source": [
        "df_final.to_csv('sentiment_data_crypto.csv')"
      ],
      "metadata": {
        "id": "3MVLrdrYHMoP"
      },
      "execution_count": 85,
      "outputs": []
    },
    {
      "cell_type": "code",
      "source": [],
      "metadata": {
        "id": "W5zKkxaMHhEw"
      },
      "execution_count": 85,
      "outputs": []
    }
  ]
}